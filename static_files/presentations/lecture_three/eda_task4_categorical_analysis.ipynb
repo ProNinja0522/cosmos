{
 "cells": [
  {
   "cell_type": "markdown",
   "id": "e9508c04",
   "metadata": {},
   "source": [
    "# EDA Task 4: Categorical Analysis\n",
    "\n",
    "## What is Categorical Analysis?\n",
    "Categorical analysis is the process of exploring and summarizing variables that represent **discrete groups or labels**, such as gender, class, or region. It helps you:\n",
    "\n",
    "- Understand the distribution of each category\n",
    "- Detect imbalances or dominant classes\n",
    "- Identify potential data quality issues\n",
    "- Compare category-based differences in outcomes\n",
    "\n",
    "---"
   ]
  },
  {
   "cell_type": "markdown",
   "id": "e79938bd",
   "metadata": {},
   "source": [
    "## 🔧 Tools for Categorical Analysis\n",
    "\n",
    "| Task                             | Tools / Code Example                                                |\n",
    "|----------------------------------|----------------------------------------------------------------------|\n",
    "| **Count categories**             | `df['var'].value_counts()`                                          |\n",
    "| **Proportions**                  | `df['var'].value_counts(normalize=True)`                            |\n",
    "| **Number of unique categories**  | `df['var'].nunique()`                                               |\n",
    "| **List categories**              | `df['var'].unique()`                                                |\n",
    "| **Bar chart**                    | `sns.countplot(x='var', data=df)`                                   |\n",
    "| **Pie chart**                    | `df['var'].value_counts().plot.pie()`                               |\n",
    "| **Group comparison**             | `df.groupby('category')['other_var'].mean()`                        |\n",
    "| **Crosstab**                     | `pd.crosstab(df['cat1'], df['cat2'])`                               |\n",
    "\n",
    "---"
   ]
  },
  {
   "cell_type": "markdown",
   "id": "77064c28",
   "metadata": {},
   "source": [
    "## Activity 1: Titanic Dataset — Categorical Analysis"
   ]
  },
  {
   "cell_type": "code",
   "execution_count": 1,
   "id": "b413418d",
   "metadata": {},
   "outputs": [
    {
     "name": "stdout",
     "output_type": "stream",
     "text": [
      "\n",
      "--- SEX ---\n",
      "Unique values: ['male' 'female']\n",
      "Counts:\n",
      "male      577\n",
      "female    314\n",
      "Name: sex, dtype: int64\n",
      "Proportions:\n",
      "male      0.647587\n",
      "female    0.352413\n",
      "Name: sex, dtype: float64\n",
      "\n",
      "--- CLASS ---\n",
      "Unique values: ['Third', 'First', 'Second']\n",
      "Categories (3, object): ['First', 'Second', 'Third']\n",
      "Counts:\n",
      "Third     491\n",
      "First     216\n",
      "Second    184\n",
      "Name: class, dtype: int64\n",
      "Proportions:\n",
      "Third     0.551066\n",
      "First     0.242424\n",
      "Second    0.206510\n",
      "Name: class, dtype: float64\n",
      "\n",
      "--- EMBARKED ---\n",
      "Unique values: ['S' 'C' 'Q' nan]\n",
      "Counts:\n",
      "S      644\n",
      "C      168\n",
      "Q       77\n",
      "NaN      2\n",
      "Name: embarked, dtype: int64\n",
      "Proportions:\n",
      "S      0.722783\n",
      "C      0.188552\n",
      "Q      0.086420\n",
      "NaN    0.002245\n",
      "Name: embarked, dtype: float64\n",
      "\n",
      "--- ALIVE ---\n",
      "Unique values: ['no' 'yes']\n",
      "Counts:\n",
      "no     549\n",
      "yes    342\n",
      "Name: alive, dtype: int64\n",
      "Proportions:\n",
      "no     0.616162\n",
      "yes    0.383838\n",
      "Name: alive, dtype: float64\n"
     ]
    },
    {
     "data": {
      "image/png": "[encoded data removed]",
      "text/plain": [
       "<Figure size 432x288 with 1 Axes>"
      ]
     },
     "metadata": {
      "needs_background": "light"
     },
     "output_type": "display_data"
    },
    {
     "data": {
      "image/png": "[encoded data removed]",
      "text/plain": [
       "<Figure size 432x288 with 1 Axes>"
      ]
     },
     "metadata": {
      "needs_background": "light"
     },
     "output_type": "display_data"
    },
    {
     "data": {
      "image/png": "[encoded data removed]",
      "text/plain": [
       "<Figure size 432x288 with 1 Axes>"
      ]
     },
     "metadata": {},
     "output_type": "display_data"
    },
    {
     "name": "stdout",
     "output_type": "stream",
     "text": [
      "\n",
      "Survival rate by gender:\n",
      "sex\n",
      "female    0.742038\n",
      "male      0.188908\n",
      "Name: survived, dtype: float64\n",
      "\n",
      "Survival by class:\n",
      "survived         0         1\n",
      "class                       \n",
      "First     0.370370  0.629630\n",
      "Second    0.527174  0.472826\n",
      "Third     0.757637  0.242363\n"
     ]
    }
   ],
   "source": [
    "import pandas as pd\n",
    "import seaborn as sns\n",
    "import matplotlib.pyplot as plt\n",
    "\n",
    "# Load Titanic dataset\n",
    "df_titanic = sns.load_dataset('titanic')\n",
    "\n",
    "# Overview of selected categorical variables\n",
    "categorical_vars = ['sex', 'class', 'embarked', 'alive']\n",
    "for col in categorical_vars:\n",
    "    print(f\"\\n--- {col.upper()} ---\")\n",
    "    print(\"Unique values:\", df_titanic[col].unique())\n",
    "    print(\"Counts:\")\n",
    "    print(df_titanic[col].value_counts(dropna=False))\n",
    "    print(\"Proportions:\")\n",
    "    print(df_titanic[col].value_counts(normalize=True, dropna=False))\n",
    "\n",
    "# Bar chart for class\n",
    "sns.countplot(x='class', data=df_titanic)\n",
    "plt.title('Passenger Class Distribution')\n",
    "plt.show()\n",
    "\n",
    "# Bar chart for sex\n",
    "sns.countplot(x='sex', data=df_titanic)\n",
    "plt.title('Gender Distribution')\n",
    "plt.show()\n",
    "\n",
    "# Pie chart for embarked\n",
    "df_titanic['embarked'].value_counts().plot.pie(autopct='%1.1f%%', startangle=90)\n",
    "plt.title('Embarked Port Distribution')\n",
    "plt.ylabel('')\n",
    "plt.show()\n",
    "\n",
    "# Group-wise survival rate by sex\n",
    "print(\"\\nSurvival rate by gender:\")\n",
    "print(df_titanic.groupby('sex')['survived'].mean())\n",
    "\n",
    "# Crosstab between class and survived\n",
    "print(\"\\nSurvival by class:\")\n",
    "print(pd.crosstab(df_titanic['class'], df_titanic['survived'], normalize='index'))"
   ]
  },
  {
   "cell_type": "markdown",
   "id": "1c9af72c",
   "metadata": {},
   "source": [
    "## Activity 2: Simulated Dataset — Categorical Analysis"
   ]
  },
  {
   "cell_type": "code",
   "execution_count": null,
   "id": "862226b5",
   "metadata": {},
   "outputs": [],
   "source": [
    "import numpy as np\n",
    "\n",
    "# Simulate dataset\n",
    "np.random.seed(0)\n",
    "df_sim = pd.DataFrame({\n",
    "    'age': np.random.randint(18, 80, 100),\n",
    "    'income': np.random.normal(50000, 15000, 100),\n",
    "    'gender': np.random.choice(['male', 'female'], size=100),\n",
    "    'purchased': np.random.choice([0, 1], size=100)\n",
    "})\n",
    "\n",
    "# Overview of categorical variables\n",
    "categorical_vars = ['gender', 'purchased']\n",
    "for col in categorical_vars:\n",
    "    print(f\"\\n--- {col.upper()} ---\")\n",
    "    print(\"Unique values:\", df_sim[col].unique())\n",
    "    print(\"Counts:\")\n",
    "    print(df_sim[col].value_counts())\n",
    "    print(\"Proportions:\")\n",
    "    print(df_sim[col].value_counts(normalize=True))\n",
    "\n",
    "# Bar chart for gender\n",
    "sns.countplot(x='gender', data=df_sim)\n",
    "plt.title('Gender Distribution')\n",
    "plt.show()\n",
    "\n",
    "# Bar chart for purchased\n",
    "sns.countplot(x='purchased', data=df_sim)\n",
    "plt.title('Purchase Outcome Distribution')\n",
    "plt.show()\n",
    "\n",
    "# Group-wise average income by gender\n",
    "print(\"\\nAverage income by gender:\")\n",
    "print(df_sim.groupby('gender')['income'].mean())\n",
    "\n",
    "# Crosstab of gender vs. purchased\n",
    "print(\"\\nPurchased by gender:\")\n",
    "print(pd.crosstab(df_sim['gender'], df_sim['purchased'], normalize='index'))"
   ]
  }
 ],
 "metadata": {
  "kernelspec": {
   "display_name": "base",
   "language": "python",
   "name": "python3"
  },
  "language_info": {
   "codemirror_mode": {
    "name": "ipython",
    "version": 3
   },
   "file_extension": ".py",
   "mimetype": "text/x-python",
   "name": "python",
   "nbconvert_exporter": "python",
   "pygments_lexer": "ipython3",
   "version": "3.9.12"
  }
 },
 "nbformat": 4,
 "nbformat_minor": 5
}

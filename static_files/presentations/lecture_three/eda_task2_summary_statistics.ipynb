{
 "cells": [
  {
   "cell_type": "markdown",
   "id": "5b647239",
   "metadata": {},
   "source": [
    "# EDA Task 2: Summary Statistics\n",
    "\n",
    "## Activity 1: Titanic Dataset — Summary of Variables"
   ]
  },
  {
   "cell_type": "code",
   "execution_count": 1,
   "id": "fcec6bca",
   "metadata": {},
   "outputs": [
    {
     "name": "stdout",
     "output_type": "stream",
     "text": [
      "--- Numerical Summary ---\n",
      "         survived      pclass         age       sibsp       parch        fare\n",
      "count  891.000000  891.000000  714.000000  891.000000  891.000000  891.000000\n",
      "mean     0.383838    2.308642   29.699118    0.523008    0.381594   32.204208\n",
      "std      0.486592    0.836071   14.526497    1.102743    0.806057   49.693429\n",
      "min      0.000000    1.000000    0.420000    0.000000    0.000000    0.000000\n",
      "25%      0.000000    2.000000   20.125000    0.000000    0.000000    7.910400\n",
      "50%      0.000000    3.000000   28.000000    0.000000    0.000000   14.454200\n",
      "75%      1.000000    3.000000   38.000000    1.000000    0.000000   31.000000\n",
      "max      1.000000    3.000000   80.000000    8.000000    6.000000  512.329200\n",
      "\n",
      "--- Categorical Summary ---\n",
      "         sex embarked  who  embark_town alive\n",
      "count    891      889  891          889   891\n",
      "unique     2        3    3            3     2\n",
      "top     male        S  man  Southampton    no\n",
      "freq     577      644  537          644   549\n",
      "\n",
      "Mean age: 29.69911764705882\n",
      "Median fare: 14.4542\n",
      "Standard deviation of fare: 49.693428597180905\n",
      "\n",
      "Value counts for 'sex':\n",
      "male      577\n",
      "female    314\n",
      "Name: sex, dtype: int64\n",
      "\n",
      "Value counts for 'embarked':\n",
      "S      644\n",
      "C      168\n",
      "Q       77\n",
      "NaN      2\n",
      "Name: embarked, dtype: int64\n",
      "\n",
      "Value counts for 'class':\n",
      "Third     491\n",
      "First     216\n",
      "Second    184\n",
      "Name: class, dtype: int64\n"
     ]
    }
   ],
   "source": [
    "import pandas as pd\n",
    "import seaborn as sns\n",
    "\n",
    "# Load Titanic dataset\n",
    "df_titanic = sns.load_dataset('titanic')\n",
    "\n",
    "# Summary statistics for numerical variables\n",
    "print(\"--- Numerical Summary ---\")\n",
    "print(df_titanic.describe())\n",
    "\n",
    "# Summary statistics for categorical variables\n",
    "print(\"\\n--- Categorical Summary ---\")\n",
    "print(df_titanic.select_dtypes('object').describe())\n",
    "\n",
    "# Specific column summaries\n",
    "print(\"\\nMean age:\", df_titanic['age'].mean())\n",
    "print(\"Median fare:\", df_titanic['fare'].median())\n",
    "print(\"Standard deviation of fare:\", df_titanic['fare'].std())\n",
    "\n",
    "# Value counts for categorical variables\n",
    "print(\"\\nValue counts for 'sex':\")\n",
    "print(df_titanic['sex'].value_counts())\n",
    "\n",
    "print(\"\\nValue counts for 'embarked':\")\n",
    "print(df_titanic['embarked'].value_counts(dropna=False))\n",
    "\n",
    "print(\"\\nValue counts for 'class':\")\n",
    "print(df_titanic['class'].value_counts())"
   ]
  },
  {
   "cell_type": "markdown",
   "id": "fab40a61",
   "metadata": {},
   "source": [
    "## Activity 2: Simulated Dataset — Summary of Variables"
   ]
  },
  {
   "cell_type": "code",
   "execution_count": 2,
   "id": "9f7a4952",
   "metadata": {},
   "outputs": [
    {
     "name": "stdout",
     "output_type": "stream",
     "text": [
      "--- Numerical Summary ---\n",
      "              age        income   purchased\n",
      "count  100.000000    100.000000  100.000000\n",
      "mean    46.620000  49336.921602    0.510000\n",
      "std     18.117897  15665.139033    0.502418\n",
      "min     18.000000  12238.443458    0.000000\n",
      "25%     31.750000  40857.598263    0.000000\n",
      "50%     46.500000  49537.226276    1.000000\n",
      "75%     60.500000  62198.434420    1.000000\n",
      "max     77.000000  78626.931505    1.000000\n",
      "\n",
      "Value counts for 'gender':\n",
      "female    53\n",
      "male      47\n",
      "Name: gender, dtype: int64\n",
      "\n",
      "Value counts for 'purchased':\n",
      "1    51\n",
      "0    49\n",
      "Name: purchased, dtype: int64\n"
     ]
    }
   ],
   "source": [
    "import numpy as np\n",
    "\n",
    "# Simulate the dataset (same as in Task 1)\n",
    "np.random.seed(0)\n",
    "df_sim = pd.DataFrame({\n",
    "    'age': np.random.randint(18, 80, 100),\n",
    "    'income': np.random.normal(50000, 15000, 100),\n",
    "    'gender': np.random.choice(['male', 'female'], size=100),\n",
    "    'purchased': np.random.choice([0, 1], size=100)\n",
    "})\n",
    "\n",
    "# Summary statistics for numerical variables\n",
    "print(\"--- Numerical Summary ---\")\n",
    "print(df_sim.describe())\n",
    "\n",
    "# Value counts for categorical variables\n",
    "print(\"\\nValue counts for 'gender':\")\n",
    "print(df_sim['gender'].value_counts())\n",
    "\n",
    "print(\"\\nValue counts for 'purchased':\")\n",
    "print(df_sim['purchased'].value_counts())"
   ]
  }
 ],
 "metadata": {
  "kernelspec": {
   "display_name": "base",
   "language": "python",
   "name": "python3"
  },
  "language_info": {
   "codemirror_mode": {
    "name": "ipython",
    "version": 3
   },
   "file_extension": ".py",
   "mimetype": "text/x-python",
   "name": "python",
   "nbconvert_exporter": "python",
   "pygments_lexer": "ipython3",
   "version": "3.9.12"
  }
 },
 "nbformat": 4,
 "nbformat_minor": 5
}

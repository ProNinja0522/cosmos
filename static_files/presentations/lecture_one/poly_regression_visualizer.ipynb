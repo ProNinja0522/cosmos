{
 "cells": [
  {
   "cell_type": "markdown",
   "metadata": {},
   "source": [
    "# Polynomial Regression Visualization\n",
    "Explore underfitting and overfitting using polynomial regression and interactive widgets."
   ]
  },
  {
   "cell_type": "code",
   "execution_count": 1,
   "metadata": {},
   "outputs": [],
   "source": [
    "import numpy as np\n",
    "import matplotlib.pyplot as plt\n",
    "from sklearn.preprocessing import PolynomialFeatures\n",
    "from sklearn.linear_model import LinearRegression\n",
    "from sklearn.metrics import mean_squared_error\n",
    "from sklearn.pipeline import Pipeline\n",
    "from ipywidgets import interact, IntSlider\n"
   ]
  },
  {
   "cell_type": "code",
   "execution_count": 2,
   "metadata": {},
   "outputs": [],
   "source": [
    "# Generate synthetic data\n",
    "rng = np.random.RandomState(1)\n",
    "x = np.sort(5 * rng.rand(40, 1), axis=0)\n",
    "y = np.sin(x).ravel() + 0.3 * rng.randn(40)\n"
   ]
  },
  {
   "cell_type": "code",
   "execution_count": 3,
   "metadata": {},
   "outputs": [],
   "source": [
    "def fit_plot(deg):\n",
    "    model = Pipeline([\n",
    "        ('poly', PolynomialFeatures(degree=deg)),\n",
    "        ('lin', LinearRegression())\n",
    "    ])\n",
    "    model.fit(x, y)\n",
    "    x_plot = np.linspace(0, 5, 100)[:, None]\n",
    "    y_plot = model.predict(x_plot)\n",
    "\n",
    "    plt.figure(figsize=(6, 4))\n",
    "    plt.scatter(x, y, s=15, label='Data')\n",
    "    plt.plot(x_plot, y_plot, color='red', label=f'Degree {deg}')\n",
    "    rmse = mean_squared_error(y, model.predict(x), squared=False)\n",
    "    plt.title(f'Polynomial Degree {deg} | Train RMSE = {rmse:.2f}')\n",
    "    plt.xlabel('x')\n",
    "    plt.ylabel('y')\n",
    "    plt.ylim(-2, 2)\n",
    "    plt.legend()\n",
    "    plt.grid(True)\n",
    "    plt.tight_layout()\n",
    "    plt.show()\n"
   ]
  },
  {
   "cell_type": "code",
   "execution_count": 4,
   "metadata": {},
   "outputs": [
    {
     "data": {
      "application/vnd.jupyter.widget-view+json": {
       "model_id": "edfeaed51fca49f39d91b3dca93e91b9",
       "version_major": 2,
       "version_minor": 0
      },
      "text/plain": [
       "interactive(children=(IntSlider(value=1, description='Poly Degree', max=15, min=1), Output()), _dom_classes=('…"
      ]
     },
     "metadata": {},
     "output_type": "display_data"
    },
    {
     "data": {
      "text/plain": [
       "<function __main__.fit_plot(deg)>"
      ]
     },
     "execution_count": 4,
     "metadata": {},
     "output_type": "execute_result"
    }
   ],
   "source": [
    "# Interactive visualization\n",
    "interact(fit_plot, deg=IntSlider(min=1, max=15, step=1, value=1, description='Poly Degree'))"
   ]
  }
 ],
 "metadata": {
  "kernelspec": {
   "display_name": "base",
   "language": "python",
   "name": "python3"
  },
  "language_info": {
   "codemirror_mode": {
    "name": "ipython",
    "version": 3
   },
   "file_extension": ".py",
   "mimetype": "text/x-python",
   "name": "python",
   "nbconvert_exporter": "python",
   "pygments_lexer": "ipython3",
   "version": "3.9.12"
  }
 },
 "nbformat": 4,
 "nbformat_minor": 2
}

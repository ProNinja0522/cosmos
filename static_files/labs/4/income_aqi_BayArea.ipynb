{
 "cells": [
  {
   "cell_type": "code",
   "execution_count": 10,
   "id": "e63d17ef",
   "metadata": {},
   "outputs": [],
   "source": [
    "import pandas as pd\n",
    "import addfips\n",
    "from urllib.request import urlopen\n",
    "import json\n",
    "import plotly.graph_objects as go"
   ]
  },
  {
   "cell_type": "code",
   "execution_count": 11,
   "id": "e0380d10",
   "metadata": {},
   "outputs": [],
   "source": [
    "# DATA\n",
    "df1 = pd.DataFrame({\n",
    "    'state': ['California', 'California', 'California', 'California', 'California', 'California', 'California', 'California', 'California'],\n",
    "    'county': ['Sonoma', 'Napa', 'Solano', 'Marin', 'Contra Costa', 'Alameda', 'Santa Clara', 'San Mateo', 'San Francisco'],\n",
    "    'income': [102840, 108970, 99994, 142785, 125727, 126240, 159674, 156000, 141446]\n",
    "})\n",
    "\n",
    "df2 = pd.DataFrame({\n",
    "    'state': ['California', 'California', 'California', 'California', 'California', 'California', 'California', 'California', 'California'],\n",
    "    'county': ['Sonoma', 'Napa', 'Solano', 'Marin', 'Contra Costa', 'Alameda', 'Santa Clara', 'San Mateo', 'San Francisco'],\n",
    "    'aqi': [8.3, 10.3, 12.4, 8.6, 11.1, 11.8, 12.5, 9.8, 10.5]\n",
    "})"
   ]
  },
  {
   "cell_type": "code",
   "execution_count": 12,
   "id": "d4532cf8",
   "metadata": {},
   "outputs": [],
   "source": [
    "# Adding FIPS codes\n",
    "# Requires the addfips package to be installed\n",
    "\n",
    "af = addfips.AddFIPS()\n",
    "\n",
    "for df in [df1, df2]:\n",
    "    df['FIPS'] = df.apply(lambda row: af.get_county_fips(row['county'], row['state']), axis=1)\n",
    "\n",
    "cols1 = ['FIPS'] + [col for col in df1.columns if col != 'FIPS']\n",
    "df1 = df1[cols1]\n",
    "\n",
    "cols2 = ['FIPS'] + [col for col in df2.columns if col != 'FIPS']\n",
    "df2 = df2[cols2]"
   ]
  },
  {
   "cell_type": "code",
   "execution_count": 13,
   "id": "b0cc2fb9",
   "metadata": {},
   "outputs": [],
   "source": [
    "# GeoJASON data for counties\n",
    "with urlopen('https://raw.githubusercontent.com/plotly/datasets/master/geojson-counties-fips.json') as response:\n",
    "    counties = json.load(response)"
   ]
  },
  {
   "cell_type": "code",
   "execution_count": null,
   "id": "7a82dd9c",
   "metadata": {},
   "outputs": [],
   "source": [
    "# Choropleth\n",
    "fig = go.Figure()\n",
    "\n",
    "# Income trace\n",
    "fig.add_trace(go.Choropleth(\n",
    "    geojson=counties,\n",
    "    locations=df1['FIPS'],\n",
    "    z=df1['income'],\n",
    "    colorscale='Greens',\n",
    "    zmin=df1['income'].min()/2,\n",
    "    zmax=df1['income'].max(),\n",
    "    colorbar_title=\"Income\",\n",
    "    marker_line_width=0,\n",
    "    visible=True,\n",
    "    name=\"Income\"\n",
    "))\n",
    "\n",
    "# AQI trace\n",
    "fig.add_trace(go.Choropleth(\n",
    "    geojson=counties,\n",
    "    locations=df2['FIPS'],\n",
    "    z=df2['aqi'],\n",
    "    colorscale='Reds',\n",
    "    zmin=0,\n",
    "    zmax=30,\n",
    "    colorbar_title=\"AQI\",\n",
    "    marker_line_width=0,\n",
    "    visible=False,\n",
    "    name=\"AQI\"\n",
    "))\n",
    "\n",
    "########################################################################\n",
    "# Zoom!\n",
    "fig.update_geos(fitbounds=\"locations\", visible=False)\n",
    "########################################################################\n",
    "\n",
    "# Layout and Dropdown menu\n",
    "fig.update_layout(\n",
    "    title_text=\"Bay Area County-Level Income and Air Quality (AQI)\",\n",
    "    autosize=False,\n",
    "    geo_scope='usa',\n",
    "    updatemenus=[dict(\n",
    "        active=0,\n",
    "        buttons=list([\n",
    "            dict(label=\"Income\",\n",
    "                 method=\"update\",\n",
    "                 args=[{\"visible\": [True, False]},\n",
    "                       {\"coloraxis\": {\"colorbar\": {\"title\": \"Income\"}},\n",
    "                        \"title\": \"Bay Area County-Level Income\"}]),\n",
    "            dict(label=\"AQI\",\n",
    "                 method=\"update\",\n",
    "                 args=[{\"visible\": [False, True]},\n",
    "                       {\"coloraxis\": {\"colorbar\": {\"title\": \"AQI\"}},\n",
    "                        \"title\": \"Bay Area County-Level Air Quality Index\"}])\n",
    "        ]),\n",
    "        direction=\"down\",\n",
    "        showactive=True\n",
    "    )]\n",
    ")\n",
    "\n",
    "fig.show()"
   ]
  },
  {
   "cell_type": "code",
   "execution_count": 15,
   "id": "3cb61375",
   "metadata": {},
   "outputs": [],
   "source": [
    "fig.write_html(\"BayArea_income_aqi.html\")"
   ]
  }
 ],
 "metadata": {
  "kernelspec": {
   "display_name": "cosmos",
   "language": "python",
   "name": "python3"
  },
  "language_info": {
   "codemirror_mode": {
    "name": "ipython",
    "version": 3
   },
   "file_extension": ".py",
   "mimetype": "text/x-python",
   "name": "python",
   "nbconvert_exporter": "python",
   "pygments_lexer": "ipython3",
   "version": "3.12.11"
  }
 },
 "nbformat": 4,
 "nbformat_minor": 5
}

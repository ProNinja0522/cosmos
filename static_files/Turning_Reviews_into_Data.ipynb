{
 "cells": [
  {
   "cell_type": "markdown",
   "metadata": {},
   "source": [
    "# 🧪 Activity: Turning Reviews into Data\n",
    "\n",
    "**Goal:** Transform unstructured text (customer reviews) into structured sentiment data.\n",
    "\n",
    "This notebook introduces how to:\n",
    "- Handle text data (reviews)\n",
    "- Analyze sentiment\n",
    "- Convert results into structured form"
   ]
  },
  {
   "cell_type": "code",
   "execution_count": 1,
   "metadata": {},
   "outputs": [
    {
     "name": "stdout",
     "output_type": "stream",
     "text": [
      "I love this ice cream! It's so creamy and delicious.\n",
      "Terrible service. I waited 20 minutes and no one helped me.\n",
      "The flavor was okay, but a bit too sweet for my taste.\n",
      "Amazing staff and fast service. Will come again!\n"
     ]
    }
   ],
   "source": [
    "# Step 1: List of sample reviews\n",
    "reviews = [\n",
    "    \"I love this ice cream! It's so creamy and delicious.\",\n",
    "    \"Terrible service. I waited 20 minutes and no one helped me.\",\n",
    "    \"The flavor was okay, but a bit too sweet for my taste.\",\n",
    "    \"Amazing staff and fast service. Will come again!\"\n",
    "]\n",
    "\n",
    "for r in reviews:\n",
    "    print(r)"
   ]
  },
  {
   "cell_type": "markdown",
   "metadata": {},
   "source": [
    "## Step 2: Analyze Sentiment\n",
    "\n",
    "We'll use the `TextBlob` library to automatically assign a sentiment polarity score."
   ]
  },
  {
   "cell_type": "code",
   "execution_count": 3,
   "metadata": {},
   "outputs": [
    {
     "name": "stdout",
     "output_type": "stream",
     "text": [
      "Requirement already satisfied: textblob in c:\\users\\xiucai admin\\anaconda3\\lib\\site-packages (0.19.0)\n",
      "Requirement already satisfied: nltk>=3.9 in c:\\users\\xiucai admin\\anaconda3\\lib\\site-packages (from textblob) (3.9.1)\n",
      "Requirement already satisfied: click in c:\\users\\xiucai admin\\anaconda3\\lib\\site-packages (from nltk>=3.9->textblob) (8.0.4)\n",
      "Requirement already satisfied: regex>=2021.8.3 in c:\\users\\xiucai admin\\anaconda3\\lib\\site-packages (from nltk>=3.9->textblob) (2022.3.15)\n",
      "Requirement already satisfied: tqdm in c:\\users\\xiucai admin\\anaconda3\\lib\\site-packages (from nltk>=3.9->textblob) (4.64.0)\n",
      "Requirement already satisfied: joblib in c:\\users\\xiucai admin\\anaconda3\\lib\\site-packages (from nltk>=3.9->textblob) (1.1.0)\n",
      "Requirement already satisfied: colorama in c:\\users\\xiucai admin\\anaconda3\\lib\\site-packages (from click->nltk>=3.9->textblob) (0.4.4)\n",
      "Note: you may need to restart the kernel to use updated packages.\n",
      "Review: I love this ice cream! It's so creamy and delicious.\n",
      "Sentiment: Positive (polarity = 0.81)\n",
      "\n",
      "Review: Terrible service. I waited 20 minutes and no one helped me.\n",
      "Sentiment: Negative (polarity = -1.00)\n",
      "\n",
      "Review: The flavor was okay, but a bit too sweet for my taste.\n",
      "Sentiment: Positive (polarity = 0.42)\n",
      "\n",
      "Review: Amazing staff and fast service. Will come again!\n",
      "Sentiment: Positive (polarity = 0.43)\n",
      "\n"
     ]
    }
   ],
   "source": [
    "# Install TextBlob if not already installed\n",
    "%pip install textblob\n",
    "from textblob import TextBlob\n",
    "\n",
    "for review in reviews:\n",
    "    polarity = TextBlob(review).sentiment.polarity\n",
    "    sentiment = \"Positive\" if polarity > 0.1 else \"Negative\" if polarity < -0.1 else \"Neutral\"\n",
    "    print(f\"Review: {review}\\nSentiment: {sentiment} (polarity = {polarity:.2f})\\n\")"
   ]
  },
  {
   "cell_type": "markdown",
   "metadata": {},
   "source": [
    "## Step 3: Create Structured Data\n",
    "\n",
    "We'll convert the reviews and sentiment labels into a structured table."
   ]
  },
  {
   "cell_type": "code",
   "execution_count": 4,
   "metadata": {},
   "outputs": [
    {
     "data": {
      "text/html": [
       "<div>\n",
       "<style scoped>\n",
       "    .dataframe tbody tr th:only-of-type {\n",
       "        vertical-align: middle;\n",
       "    }\n",
       "\n",
       "    .dataframe tbody tr th {\n",
       "        vertical-align: top;\n",
       "    }\n",
       "\n",
       "    .dataframe thead th {\n",
       "        text-align: right;\n",
       "    }\n",
       "</style>\n",
       "<table border=\"1\" class=\"dataframe\">\n",
       "  <thead>\n",
       "    <tr style=\"text-align: right;\">\n",
       "      <th></th>\n",
       "      <th>Review</th>\n",
       "      <th>Polarity</th>\n",
       "      <th>Sentiment</th>\n",
       "    </tr>\n",
       "  </thead>\n",
       "  <tbody>\n",
       "    <tr>\n",
       "      <th>0</th>\n",
       "      <td>I love this ice cream! It's so creamy and deli...</td>\n",
       "      <td>0.8125</td>\n",
       "      <td>Positive</td>\n",
       "    </tr>\n",
       "    <tr>\n",
       "      <th>1</th>\n",
       "      <td>Terrible service. I waited 20 minutes and no o...</td>\n",
       "      <td>-1.0000</td>\n",
       "      <td>Negative</td>\n",
       "    </tr>\n",
       "    <tr>\n",
       "      <th>2</th>\n",
       "      <td>The flavor was okay, but a bit too sweet for m...</td>\n",
       "      <td>0.4250</td>\n",
       "      <td>Positive</td>\n",
       "    </tr>\n",
       "    <tr>\n",
       "      <th>3</th>\n",
       "      <td>Amazing staff and fast service. Will come again!</td>\n",
       "      <td>0.4250</td>\n",
       "      <td>Positive</td>\n",
       "    </tr>\n",
       "  </tbody>\n",
       "</table>\n",
       "</div>"
      ],
      "text/plain": [
       "                                              Review  Polarity Sentiment\n",
       "0  I love this ice cream! It's so creamy and deli...    0.8125  Positive\n",
       "1  Terrible service. I waited 20 minutes and no o...   -1.0000  Negative\n",
       "2  The flavor was okay, but a bit too sweet for m...    0.4250  Positive\n",
       "3   Amazing staff and fast service. Will come again!    0.4250  Positive"
      ]
     },
     "execution_count": 4,
     "metadata": {},
     "output_type": "execute_result"
    }
   ],
   "source": [
    "import pandas as pd\n",
    "\n",
    "structured_data = []\n",
    "for review in reviews:\n",
    "    polarity = TextBlob(review).sentiment.polarity\n",
    "    sentiment = \"Positive\" if polarity > 0.1 else \"Negative\" if polarity < -0.1 else \"Neutral\"\n",
    "    structured_data.append({\"Review\": review, \"Polarity\": polarity, \"Sentiment\": sentiment})\n",
    "\n",
    "df = pd.DataFrame(structured_data)\n",
    "df"
   ]
  }
 ],
 "metadata": {
  "kernelspec": {
   "display_name": "base",
   "language": "python",
   "name": "python3"
  },
  "language_info": {
   "codemirror_mode": {
    "name": "ipython",
    "version": 3
   },
   "file_extension": ".py",
   "mimetype": "text/x-python",
   "name": "python",
   "nbconvert_exporter": "python",
   "pygments_lexer": "ipython3",
   "version": "3.9.12"
  }
 },
 "nbformat": 4,
 "nbformat_minor": 5
}

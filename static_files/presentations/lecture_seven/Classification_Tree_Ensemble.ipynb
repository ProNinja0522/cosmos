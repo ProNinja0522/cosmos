{
 "cells": [
  {
   "cell_type": "markdown",
   "id": "90d0d3d0",
   "metadata": {
    "slideshow": {
     "slide_type": "slide"
    }
   },
   "source": [
    "# Prediction Part II\n",
    "\n",
    "## Classification, Tree, Ensemble Learning"
   ]
  },
  {
   "cell_type": "markdown",
   "id": "05495916",
   "metadata": {
    "slideshow": {
     "slide_type": "slide"
    }
   },
   "source": [
    "## Classification v.s. Regression\n",
    "\n",
    "From previous lectures:\n",
    "\n",
    "\n",
    "| Problem type      | Output Space                                                 | Example Tasks |\n",
    "| ---------------------- | ------------------------------------ | ------------------------- |\n",
    "| Regression     | Numeric (continuous or *discrete*)    | House prices,  number of accidents              |\n",
    "| Classification | Categorical          | Spam/non-spam, disease/no disease   |"
   ]
  },
  {
   "cell_type": "markdown",
   "id": "93dac993",
   "metadata": {
    "slideshow": {
     "slide_type": "slide"
    }
   },
   "source": [
    "## A (Sometimes) Blurred Boundary\n",
    "\n",
    "Consider the following outcomes. Are they classification or regression?\n",
    "\n",
    "1. Hand-written digit recognition (0 to 9).\n",
    "2. Housing price. \n",
    "3. COVID-19 PCR test. \n",
    "4. Weather forecast: probability of precipitation."
   ]
  },
  {
   "cell_type": "markdown",
   "id": "c36bdd18",
   "metadata": {
    "slideshow": {
     "slide_type": "slide"
    }
   },
   "source": [
    "## Decision tree\n",
    "\n",
    "Questions\n",
    "- What is a decision tree? [Tree (graph theory)](https://en.wikipedia.org/wiki/Tree_(graph_theory))\n",
    "- When and why would you use a decision tree (instead of other models)?\n",
    "\n",
    "\n"
   ]
  },
  {
   "cell_type": "markdown",
   "id": "f8fec2a5",
   "metadata": {
    "slideshow": {
     "slide_type": "slide"
    }
   },
   "source": [
    "## CART \n",
    "\n",
    "- CART stands for **C**lassification **A**nd **R**egression **T**ree introduced by Breiman, Friedman, Olshen & Stone (1984).\n",
    "\n",
    "- CART is an *algorithm* for growing a decision tree (perhaps the most popular algorithm)\n",
    "\n",
    "- [More discussion in jupyter notebook](vscode://file//Users/shizhe/Documents/Github/Website(Public)/CART.ipynb)\n",
    "\n",
    "\n",
    "*Further reading: An insightful note by Leo Breiman on \"[two cultures in the use of statistical modeling to reach conclusions from data](https://projecteuclid.org/journals/statistical-science/volume-16/issue-3/Statistical-Modeling--The-Two-Cultures-with-comments-and-a/10.1214/ss/1009213726.short)\".*\n",
    "\n"
   ]
  },
  {
   "cell_type": "markdown",
   "id": "042a2ec0",
   "metadata": {
    "slideshow": {
     "slide_type": "slide"
    }
   },
   "source": [
    "## Ensemble Learning\n",
    "\n",
    "\n",
    "**Ensemble learning**: methods that aggregate multiple models to improve learning performance.\n",
    "\n",
    "\n",
    "*“Many weak models, when combined cleverly, beat a single strong model.”* --- The ensemble learning mantra by *ChatGPT 3o*"
   ]
  },
  {
   "cell_type": "markdown",
   "id": "cd555231",
   "metadata": {
    "slideshow": {
     "slide_type": "slide"
    },
    "vscode": {
     "languageId": "plaintext"
    }
   },
   "source": [
    "## Tree-based Ensemble Learning\n",
    "\n",
    "A single decision tree is\n",
    "- ✅ fast and interpretable\n",
    "- ❌ Sensitive and prone to overfitting\n",
    "\n",
    "Overcome these flaws using ensembel learning:\n",
    "\n",
    "| Method            | Main idea                                                          | What it mainly reduces |  \n",
    "| ----------------- | ------------------------------------------------------------------ | ---------------------- | \n",
    "| [**Boosting**](vscode://file//Users/shizhe/Documents/Github/Website(Public)/Boosting_tree.ipynb)| Build trees **sequentially**, each fixing the last model’s errors. | Bias                   |\n",
    "| [**Bagging**](vscode://file//Users/shizhe/Documents/Github/Website(Public)/Bagging_tree.ipynb)       | Build trees **in parallel** on bootstrapped data; vote/average.    | Variance               |\n",
    "| [**Random Forest**](vscode://file//Users/shizhe/Documents/Github/Website(Public)/Random_Forest_Classification.ipynb)  | Bagging **plus** feature-level randomness at each split.           | Variance (even more)   |\n",
    "\n",
    "\n",
    "\n"
   ]
  }
 ],
 "metadata": {
  "language_info": {
   "name": "python"
  }
 },
 "nbformat": 4,
 "nbformat_minor": 5
}

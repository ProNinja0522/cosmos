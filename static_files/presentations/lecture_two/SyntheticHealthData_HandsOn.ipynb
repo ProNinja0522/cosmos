{
 "cells": [
  {
   "cell_type": "markdown",
   "id": "8a2efd90",
   "metadata": {},
   "source": [
    "# 🧪 Synthetic Data Hands-On: Simulated Health Dataset\n",
    "This notebook demonstrates how to generate synthetic health data using NumPy and pandas. The generated data includes age, height, weight, BMI, and a simple disease indicator."
   ]
  },
  {
   "cell_type": "markdown",
   "id": "691a16ae",
   "metadata": {},
   "source": [
    "## ✅ Step 1: Generate Random Patient Data"
   ]
  },
  {
   "cell_type": "code",
   "execution_count": 1,
   "id": "37034ccb",
   "metadata": {},
   "outputs": [
    {
     "data": {
      "text/html": [
       "<div>\n",
       "<style scoped>\n",
       "    .dataframe tbody tr th:only-of-type {\n",
       "        vertical-align: middle;\n",
       "    }\n",
       "\n",
       "    .dataframe tbody tr th {\n",
       "        vertical-align: top;\n",
       "    }\n",
       "\n",
       "    .dataframe thead th {\n",
       "        text-align: right;\n",
       "    }\n",
       "</style>\n",
       "<table border=\"1\" class=\"dataframe\">\n",
       "  <thead>\n",
       "    <tr style=\"text-align: right;\">\n",
       "      <th></th>\n",
       "      <th>age</th>\n",
       "      <th>height_cm</th>\n",
       "      <th>weight_kg</th>\n",
       "      <th>bmi</th>\n",
       "      <th>hypertension</th>\n",
       "    </tr>\n",
       "  </thead>\n",
       "  <tbody>\n",
       "    <tr>\n",
       "      <th>0</th>\n",
       "      <td>56</td>\n",
       "      <td>177.0</td>\n",
       "      <td>63.4</td>\n",
       "      <td>20.2</td>\n",
       "      <td>0</td>\n",
       "    </tr>\n",
       "    <tr>\n",
       "      <th>1</th>\n",
       "      <td>69</td>\n",
       "      <td>168.3</td>\n",
       "      <td>75.7</td>\n",
       "      <td>26.7</td>\n",
       "      <td>1</td>\n",
       "    </tr>\n",
       "    <tr>\n",
       "      <th>2</th>\n",
       "      <td>46</td>\n",
       "      <td>160.9</td>\n",
       "      <td>99.0</td>\n",
       "      <td>38.2</td>\n",
       "      <td>1</td>\n",
       "    </tr>\n",
       "    <tr>\n",
       "      <th>3</th>\n",
       "      <td>32</td>\n",
       "      <td>181.9</td>\n",
       "      <td>71.2</td>\n",
       "      <td>21.5</td>\n",
       "      <td>0</td>\n",
       "    </tr>\n",
       "    <tr>\n",
       "      <th>4</th>\n",
       "      <td>60</td>\n",
       "      <td>177.9</td>\n",
       "      <td>63.8</td>\n",
       "      <td>20.2</td>\n",
       "      <td>0</td>\n",
       "    </tr>\n",
       "  </tbody>\n",
       "</table>\n",
       "</div>"
      ],
      "text/plain": [
       "   age  height_cm  weight_kg   bmi  hypertension\n",
       "0   56      177.0       63.4  20.2             0\n",
       "1   69      168.3       75.7  26.7             1\n",
       "2   46      160.9       99.0  38.2             1\n",
       "3   32      181.9       71.2  21.5             0\n",
       "4   60      177.9       63.8  20.2             0"
      ]
     },
     "execution_count": 1,
     "metadata": {},
     "output_type": "execute_result"
    }
   ],
   "source": [
    "import pandas as pd\n",
    "import numpy as np\n",
    "\n",
    "np.random.seed(42)\n",
    "n = 100  # number of patients\n",
    "\n",
    "df = pd.DataFrame({\n",
    "    \"age\": np.random.randint(18, 80, size=n),\n",
    "    \"height_cm\": np.random.normal(loc=170, scale=10, size=n).round(1),\n",
    "    \"weight_kg\": np.random.normal(loc=70, scale=15, size=n).round(1)\n",
    "})\n",
    "\n",
    "# Calculate BMI and assign hypertension if BMI > 25\n",
    "df[\"bmi\"] = (df[\"weight_kg\"] / (df[\"height_cm\"] / 100) ** 2).round(1)\n",
    "df[\"hypertension\"] = (df[\"bmi\"] > 25).astype(int)\n",
    "\n",
    "df.head()"
   ]
  },
  {
   "cell_type": "markdown",
   "id": "6cccffd5",
   "metadata": {},
   "source": [
    "## ✅ Step 2: Summarize and Save the Data"
   ]
  },
  {
   "cell_type": "code",
   "execution_count": 2,
   "id": "84b0a832",
   "metadata": {},
   "outputs": [
    {
     "data": {
      "text/html": [
       "<div>\n",
       "<style scoped>\n",
       "    .dataframe tbody tr th:only-of-type {\n",
       "        vertical-align: middle;\n",
       "    }\n",
       "\n",
       "    .dataframe tbody tr th {\n",
       "        vertical-align: top;\n",
       "    }\n",
       "\n",
       "    .dataframe thead th {\n",
       "        text-align: right;\n",
       "    }\n",
       "</style>\n",
       "<table border=\"1\" class=\"dataframe\">\n",
       "  <thead>\n",
       "    <tr style=\"text-align: right;\">\n",
       "      <th></th>\n",
       "      <th>age</th>\n",
       "      <th>height_cm</th>\n",
       "      <th>weight_kg</th>\n",
       "      <th>bmi</th>\n",
       "      <th>hypertension</th>\n",
       "    </tr>\n",
       "  </thead>\n",
       "  <tbody>\n",
       "    <tr>\n",
       "      <th>count</th>\n",
       "      <td>100.000000</td>\n",
       "      <td>100.000000</td>\n",
       "      <td>100.000000</td>\n",
       "      <td>100.000000</td>\n",
       "      <td>100.000000</td>\n",
       "    </tr>\n",
       "    <tr>\n",
       "      <th>mean</th>\n",
       "      <td>50.270000</td>\n",
       "      <td>170.210000</td>\n",
       "      <td>69.036000</td>\n",
       "      <td>24.131000</td>\n",
       "      <td>0.410000</td>\n",
       "    </tr>\n",
       "    <tr>\n",
       "      <th>std</th>\n",
       "      <td>19.176403</td>\n",
       "      <td>9.863866</td>\n",
       "      <td>15.712374</td>\n",
       "      <td>6.585256</td>\n",
       "      <td>0.494311</td>\n",
       "    </tr>\n",
       "    <tr>\n",
       "      <th>min</th>\n",
       "      <td>19.000000</td>\n",
       "      <td>145.000000</td>\n",
       "      <td>26.800000</td>\n",
       "      <td>10.500000</td>\n",
       "      <td>0.000000</td>\n",
       "    </tr>\n",
       "    <tr>\n",
       "      <th>25%</th>\n",
       "      <td>34.750000</td>\n",
       "      <td>162.925000</td>\n",
       "      <td>57.850000</td>\n",
       "      <td>19.975000</td>\n",
       "      <td>0.000000</td>\n",
       "    </tr>\n",
       "    <tr>\n",
       "      <th>50%</th>\n",
       "      <td>51.500000</td>\n",
       "      <td>169.750000</td>\n",
       "      <td>70.550000</td>\n",
       "      <td>23.000000</td>\n",
       "      <td>0.000000</td>\n",
       "    </tr>\n",
       "    <tr>\n",
       "      <th>75%</th>\n",
       "      <td>68.000000</td>\n",
       "      <td>177.050000</td>\n",
       "      <td>78.525000</td>\n",
       "      <td>28.900000</td>\n",
       "      <td>1.000000</td>\n",
       "    </tr>\n",
       "    <tr>\n",
       "      <th>max</th>\n",
       "      <td>79.000000</td>\n",
       "      <td>196.600000</td>\n",
       "      <td>104.100000</td>\n",
       "      <td>41.200000</td>\n",
       "      <td>1.000000</td>\n",
       "    </tr>\n",
       "  </tbody>\n",
       "</table>\n",
       "</div>"
      ],
      "text/plain": [
       "              age   height_cm   weight_kg         bmi  hypertension\n",
       "count  100.000000  100.000000  100.000000  100.000000    100.000000\n",
       "mean    50.270000  170.210000   69.036000   24.131000      0.410000\n",
       "std     19.176403    9.863866   15.712374    6.585256      0.494311\n",
       "min     19.000000  145.000000   26.800000   10.500000      0.000000\n",
       "25%     34.750000  162.925000   57.850000   19.975000      0.000000\n",
       "50%     51.500000  169.750000   70.550000   23.000000      0.000000\n",
       "75%     68.000000  177.050000   78.525000   28.900000      1.000000\n",
       "max     79.000000  196.600000  104.100000   41.200000      1.000000"
      ]
     },
     "execution_count": 2,
     "metadata": {},
     "output_type": "execute_result"
    }
   ],
   "source": [
    "df.describe()"
   ]
  },
  {
   "cell_type": "code",
   "execution_count": null,
   "id": "39736de5",
   "metadata": {},
   "outputs": [],
   "source": [
    "df.to_csv(\"synthetic_health_data.csv\", index=False)\n",
    "print(\"Synthetic data saved as 'synthetic_health_data.csv'\")"
   ]
  },
  {
   "cell_type": "markdown",
   "id": "a2d64037",
   "metadata": {},
   "source": [
    "## 💬 Discussion\n",
    "- How realistic is this dataset?\n",
    "- What assumptions did we make?\n",
    "- What additional variables or complexity could make this more useful?"
   ]
  }
 ],
 "metadata": {
  "kernelspec": {
   "display_name": "base",
   "language": "python",
   "name": "python3"
  },
  "language_info": {
   "codemirror_mode": {
    "name": "ipython",
    "version": 3
   },
   "file_extension": ".py",
   "mimetype": "text/x-python",
   "name": "python",
   "nbconvert_exporter": "python",
   "pygments_lexer": "ipython3",
   "version": "3.9.12"
  }
 },
 "nbformat": 4,
 "nbformat_minor": 5
}

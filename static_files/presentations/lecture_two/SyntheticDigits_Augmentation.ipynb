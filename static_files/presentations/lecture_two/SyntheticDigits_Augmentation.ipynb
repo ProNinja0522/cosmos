{
 "cells": [
  {
   "cell_type": "markdown",
   "id": "72432085",
   "metadata": {},
   "source": [
    "# 🧪 Synthetic Image Data Hands-On: Augmenting Digits\n",
    "In this notebook, we generate synthetic digit images by applying noise and rotation to existing samples from the scikit-learn digits dataset."
   ]
  },
  {
   "cell_type": "markdown",
   "id": "5029aecb",
   "metadata": {},
   "source": [
    "## ✅ Step 1: Load and Visualize Original Images"
   ]
  },
  {
   "cell_type": "code",
   "execution_count": 1,
   "id": "d51b9bb7",
   "metadata": {},
   "outputs": [
    {
     "data": {
      "image/png": "[encoded data removed]",
      "text/plain": [
       "<Figure size 720x216 with 5 Axes>"
      ]
     },
     "metadata": {
      "needs_background": "light"
     },
     "output_type": "display_data"
    }
   ],
   "source": [
    "from sklearn.datasets import load_digits\n",
    "import matplotlib.pyplot as plt\n",
    "import numpy as np\n",
    "\n",
    "digits = load_digits()\n",
    "images = digits.images\n",
    "\n",
    "# Show the first 5 digits\n",
    "fig, axes = plt.subplots(1, 5, figsize=(10, 3))\n",
    "for ax, img in zip(axes, images[:5]):\n",
    "    ax.imshow(img, cmap='gray')\n",
    "    ax.axis('off')\n",
    "plt.suptitle(\"Original Digits\")\n",
    "plt.show()"
   ]
  },
  {
   "cell_type": "markdown",
   "id": "734ba2dd",
   "metadata": {},
   "source": [
    "## ✅ Step 2: Add Noise and Rotation for Augmentation"
   ]
  },
  {
   "cell_type": "code",
   "execution_count": 2,
   "id": "af76b7e5",
   "metadata": {},
   "outputs": [
    {
     "data": {
      "image/png": "[encoded data removed]",
      "text/plain": [
       "<Figure size 720x216 with 5 Axes>"
      ]
     },
     "metadata": {
      "needs_background": "light"
     },
     "output_type": "display_data"
    }
   ],
   "source": [
    "from scipy.ndimage import rotate\n",
    "\n",
    "def augment_image(img):\n",
    "    # Add Gaussian noise\n",
    "    noisy = img + np.random.normal(0, 1, img.shape)\n",
    "    noisy = np.clip(noisy, 0, 16)\n",
    "    # Random rotation between -20 and 20 degrees\n",
    "    angle = np.random.uniform(-20, 20)\n",
    "    return rotate(noisy, angle, reshape=False)\n",
    "\n",
    "# Apply to first 5 digits\n",
    "augmented = [augment_image(img) for img in images[:5]]\n",
    "\n",
    "# Visualize results\n",
    "fig, axes = plt.subplots(1, 5, figsize=(10, 3))\n",
    "for ax, img in zip(axes, augmented):\n",
    "    ax.imshow(img, cmap='gray')\n",
    "    ax.axis('off')\n",
    "plt.suptitle(\"Augmented Digits\")\n",
    "plt.show()"
   ]
  },
  {
   "cell_type": "markdown",
   "id": "ea2132f5",
   "metadata": {},
   "source": [
    "## 💬 Discussion\n",
    "- How realistic are these synthetic digits?\n",
    "- How might this help a machine learning model?\n",
    "- What are limitations of simple augmentations like these?"
   ]
  }
 ],
 "metadata": {
  "kernelspec": {
   "display_name": "base",
   "language": "python",
   "name": "python3"
  },
  "language_info": {
   "codemirror_mode": {
    "name": "ipython",
    "version": 3
   },
   "file_extension": ".py",
   "mimetype": "text/x-python",
   "name": "python",
   "nbconvert_exporter": "python",
   "pygments_lexer": "ipython3",
   "version": "3.9.12"
  }
 },
 "nbformat": 4,
 "nbformat_minor": 5
}

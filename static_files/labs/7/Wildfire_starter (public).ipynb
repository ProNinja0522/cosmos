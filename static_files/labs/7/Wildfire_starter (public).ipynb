{
 "cells": [
  {
   "cell_type": "markdown",
   "id": "051da0ce",
   "metadata": {},
   "source": [
    "# Wildfire\n",
    "\n",
    "\n",
    "Dataset: **Wildfire**  `FPA_FOD_20170508.sqlite`\n",
    "\n",
    "Source: https://www.kaggle.com/datasets/rtatman/188-million-us-wildfires/data\n",
    "\n",
    "Reference: Short, Karen C. 2017. Spatial wildfire occurrence data for the United States, 1992-2015 [FPA_FOD_20170508]. 4th Edition. Fort Collins, CO: Forest Service Research Data Archive. https://doi.org/10.2737/RDS-2013-0009.4\n",
    "\n",
    "This starter notebook includes code to extract a small subset and a few visualizations to get you started. You can download the processed file used in this notebook here: [wildfire](https://ucdavis.box.com/s/q0z2k765u0u49bvkioso3skt85apwa3s)."
   ]
  },
  {
   "cell_type": "code",
   "execution_count": 1,
   "id": "82f0f3c4",
   "metadata": {},
   "outputs": [],
   "source": [
    "import pandas as pd"
   ]
  },
  {
   "cell_type": "markdown",
   "id": "ef5a5066",
   "metadata": {},
   "source": [
    "## 1  Draw a small subset for EDA\n",
    "\n",
    "The full Kaggle file is about **796 MB**.  To keep things simple, we will start with a pregenerated 10k‑row subset. "
   ]
  },
  {
   "cell_type": "code",
   "execution_count": 2,
   "id": "8b2cb102",
   "metadata": {},
   "outputs": [
    {
     "name": "stdout",
     "output_type": "stream",
     "text": [
      "(10000, 39)\n"
     ]
    },
    {
     "data": {
      "text/html": [
       "<div>\n",
       "<style scoped>\n",
       "    .dataframe tbody tr th:only-of-type {\n",
       "        vertical-align: middle;\n",
       "    }\n",
       "\n",
       "    .dataframe tbody tr th {\n",
       "        vertical-align: top;\n",
       "    }\n",
       "\n",
       "    .dataframe thead th {\n",
       "        text-align: right;\n",
       "    }\n",
       "</style>\n",
       "<table border=\"1\" class=\"dataframe\">\n",
       "  <thead>\n",
       "    <tr style=\"text-align: right;\">\n",
       "      <th></th>\n",
       "      <th>OBJECTID</th>\n",
       "      <th>FOD_ID</th>\n",
       "      <th>FPA_ID</th>\n",
       "      <th>SOURCE_SYSTEM_TYPE</th>\n",
       "      <th>SOURCE_SYSTEM</th>\n",
       "      <th>NWCG_REPORTING_AGENCY</th>\n",
       "      <th>NWCG_REPORTING_UNIT_ID</th>\n",
       "      <th>NWCG_REPORTING_UNIT_NAME</th>\n",
       "      <th>SOURCE_REPORTING_UNIT</th>\n",
       "      <th>SOURCE_REPORTING_UNIT_NAME</th>\n",
       "      <th>...</th>\n",
       "      <th>FIRE_SIZE_CLASS</th>\n",
       "      <th>LATITUDE</th>\n",
       "      <th>LONGITUDE</th>\n",
       "      <th>OWNER_CODE</th>\n",
       "      <th>OWNER_DESCR</th>\n",
       "      <th>STATE</th>\n",
       "      <th>COUNTY</th>\n",
       "      <th>FIPS_CODE</th>\n",
       "      <th>FIPS_NAME</th>\n",
       "      <th>Shape</th>\n",
       "    </tr>\n",
       "  </thead>\n",
       "  <tbody>\n",
       "    <tr>\n",
       "      <th>0</th>\n",
       "      <td>14</td>\n",
       "      <td>14</td>\n",
       "      <td>FS-1418872</td>\n",
       "      <td>FED</td>\n",
       "      <td>FS-FIRESTAT</td>\n",
       "      <td>FS</td>\n",
       "      <td>USCAENF</td>\n",
       "      <td>Eldorado National Forest</td>\n",
       "      <td>0503</td>\n",
       "      <td>Eldorado National Forest</td>\n",
       "      <td>...</td>\n",
       "      <td>B</td>\n",
       "      <td>38.433333</td>\n",
       "      <td>-120.510000</td>\n",
       "      <td>14.0</td>\n",
       "      <td>MISSING/NOT SPECIFIED</td>\n",
       "      <td>CA</td>\n",
       "      <td>5</td>\n",
       "      <td>005</td>\n",
       "      <td>Amador</td>\n",
       "      <td>b'\\x00\\x01\\xad\\x10\\x00\\x00p=\\n\\xd7\\xa3 ^\\xc0\\x...</td>\n",
       "    </tr>\n",
       "    <tr>\n",
       "      <th>1</th>\n",
       "      <td>208</td>\n",
       "      <td>211</td>\n",
       "      <td>FS-1419349</td>\n",
       "      <td>FED</td>\n",
       "      <td>FS-FIRESTAT</td>\n",
       "      <td>FS</td>\n",
       "      <td>USCASQF</td>\n",
       "      <td>Sequoia National Forest</td>\n",
       "      <td>0513</td>\n",
       "      <td>Sequoia National Forest</td>\n",
       "      <td>...</td>\n",
       "      <td>A</td>\n",
       "      <td>35.646944</td>\n",
       "      <td>-118.463611</td>\n",
       "      <td>5.0</td>\n",
       "      <td>USFS</td>\n",
       "      <td>CA</td>\n",
       "      <td>None</td>\n",
       "      <td>None</td>\n",
       "      <td>None</td>\n",
       "      <td>b'\\x00\\x01\\xad\\x10\\x00\\x00\\xc8\\xe0\\xee\\xcd\\xab...</td>\n",
       "    </tr>\n",
       "    <tr>\n",
       "      <th>2</th>\n",
       "      <td>227</td>\n",
       "      <td>230</td>\n",
       "      <td>FS-1419380</td>\n",
       "      <td>FED</td>\n",
       "      <td>FS-FIRESTAT</td>\n",
       "      <td>FS</td>\n",
       "      <td>USNVHTF</td>\n",
       "      <td>Humboldt-Toiyabe National Forest</td>\n",
       "      <td>0417</td>\n",
       "      <td>Humboldt-Toiyabe National Forest</td>\n",
       "      <td>...</td>\n",
       "      <td>A</td>\n",
       "      <td>38.054444</td>\n",
       "      <td>-119.251944</td>\n",
       "      <td>13.0</td>\n",
       "      <td>STATE OR PRIVATE</td>\n",
       "      <td>CA</td>\n",
       "      <td>51</td>\n",
       "      <td>051</td>\n",
       "      <td>Mono</td>\n",
       "      <td>b'\\x00\\x01\\xad\\x10\\x00\\x00`\\x8d\\x92\\xdb\\x1f\\xd...</td>\n",
       "    </tr>\n",
       "    <tr>\n",
       "      <th>3</th>\n",
       "      <td>338</td>\n",
       "      <td>344</td>\n",
       "      <td>FS-1419610</td>\n",
       "      <td>FED</td>\n",
       "      <td>FS-FIRESTAT</td>\n",
       "      <td>FS</td>\n",
       "      <td>USAZCNF</td>\n",
       "      <td>Coronado National Forest</td>\n",
       "      <td>0305</td>\n",
       "      <td>Coronado National Forest</td>\n",
       "      <td>...</td>\n",
       "      <td>B</td>\n",
       "      <td>32.800833</td>\n",
       "      <td>-110.008333</td>\n",
       "      <td>5.0</td>\n",
       "      <td>USFS</td>\n",
       "      <td>AZ</td>\n",
       "      <td>9</td>\n",
       "      <td>009</td>\n",
       "      <td>Graham</td>\n",
       "      <td>b'\\x00\\x01\\xad\\x10\\x00\\x00D\\xf4\\x84\\x88\\x88\\x8...</td>\n",
       "    </tr>\n",
       "    <tr>\n",
       "      <th>4</th>\n",
       "      <td>362</td>\n",
       "      <td>368</td>\n",
       "      <td>FS-1419655</td>\n",
       "      <td>FED</td>\n",
       "      <td>FS-FIRESTAT</td>\n",
       "      <td>FS</td>\n",
       "      <td>USAZCOF</td>\n",
       "      <td>Coconino National Forest</td>\n",
       "      <td>0304</td>\n",
       "      <td>Coconino National Forest</td>\n",
       "      <td>...</td>\n",
       "      <td>A</td>\n",
       "      <td>35.547222</td>\n",
       "      <td>-111.208333</td>\n",
       "      <td>5.0</td>\n",
       "      <td>USFS</td>\n",
       "      <td>AZ</td>\n",
       "      <td>5</td>\n",
       "      <td>005</td>\n",
       "      <td>Coconino</td>\n",
       "      <td>b'\\x00\\x01\\xad\\x10\\x00\\x00\\x10\\xc1QUU\\xcd[\\xc0...</td>\n",
       "    </tr>\n",
       "  </tbody>\n",
       "</table>\n",
       "<p>5 rows × 39 columns</p>\n",
       "</div>"
      ],
      "text/plain": [
       "   OBJECTID  FOD_ID      FPA_ID SOURCE_SYSTEM_TYPE SOURCE_SYSTEM  \\\n",
       "0        14      14  FS-1418872                FED   FS-FIRESTAT   \n",
       "1       208     211  FS-1419349                FED   FS-FIRESTAT   \n",
       "2       227     230  FS-1419380                FED   FS-FIRESTAT   \n",
       "3       338     344  FS-1419610                FED   FS-FIRESTAT   \n",
       "4       362     368  FS-1419655                FED   FS-FIRESTAT   \n",
       "\n",
       "  NWCG_REPORTING_AGENCY NWCG_REPORTING_UNIT_ID  \\\n",
       "0                    FS                USCAENF   \n",
       "1                    FS                USCASQF   \n",
       "2                    FS                USNVHTF   \n",
       "3                    FS                USAZCNF   \n",
       "4                    FS                USAZCOF   \n",
       "\n",
       "           NWCG_REPORTING_UNIT_NAME SOURCE_REPORTING_UNIT  \\\n",
       "0          Eldorado National Forest                  0503   \n",
       "1           Sequoia National Forest                  0513   \n",
       "2  Humboldt-Toiyabe National Forest                  0417   \n",
       "3          Coronado National Forest                  0305   \n",
       "4          Coconino National Forest                  0304   \n",
       "\n",
       "         SOURCE_REPORTING_UNIT_NAME  ... FIRE_SIZE_CLASS   LATITUDE  \\\n",
       "0          Eldorado National Forest  ...               B  38.433333   \n",
       "1           Sequoia National Forest  ...               A  35.646944   \n",
       "2  Humboldt-Toiyabe National Forest  ...               A  38.054444   \n",
       "3          Coronado National Forest  ...               B  32.800833   \n",
       "4          Coconino National Forest  ...               A  35.547222   \n",
       "\n",
       "    LONGITUDE OWNER_CODE            OWNER_DESCR STATE COUNTY FIPS_CODE  \\\n",
       "0 -120.510000       14.0  MISSING/NOT SPECIFIED    CA      5       005   \n",
       "1 -118.463611        5.0                   USFS    CA   None      None   \n",
       "2 -119.251944       13.0       STATE OR PRIVATE    CA     51       051   \n",
       "3 -110.008333        5.0                   USFS    AZ      9       009   \n",
       "4 -111.208333        5.0                   USFS    AZ      5       005   \n",
       "\n",
       "  FIPS_NAME                                              Shape  \n",
       "0    Amador  b'\\x00\\x01\\xad\\x10\\x00\\x00p=\\n\\xd7\\xa3 ^\\xc0\\x...  \n",
       "1      None  b'\\x00\\x01\\xad\\x10\\x00\\x00\\xc8\\xe0\\xee\\xcd\\xab...  \n",
       "2      Mono  b'\\x00\\x01\\xad\\x10\\x00\\x00`\\x8d\\x92\\xdb\\x1f\\xd...  \n",
       "3    Graham  b'\\x00\\x01\\xad\\x10\\x00\\x00D\\xf4\\x84\\x88\\x88\\x8...  \n",
       "4  Coconino  b'\\x00\\x01\\xad\\x10\\x00\\x00\\x10\\xc1QUU\\xcd[\\xc0...  \n",
       "\n",
       "[5 rows x 39 columns]"
      ]
     },
     "execution_count": 2,
     "metadata": {},
     "output_type": "execute_result"
    }
   ],
   "source": [
    "import sqlite3\n",
    "\n",
    "# Connect to the SQLite database\n",
    "conn = sqlite3.connect('../data/wildfires_sample_10k.sqlite')\n",
    "\n",
    "# Read the first table (assuming only one table in the database)\n",
    "table_name = pd.read_sql_query(\n",
    "    \"SELECT name FROM sqlite_master WHERE type='table';\", conn\n",
    ").iloc[0, 0]\n",
    "\n",
    "# Load the data into a DataFrame\n",
    "wildfires10k= pd.read_sql_query(f\"SELECT * FROM {table_name}\", conn)\n",
    "\n",
    "conn.close()\n",
    "\n",
    "print(wildfires10k.shape)\n",
    "wildfires10k.head()"
   ]
  },
  {
   "cell_type": "markdown",
   "id": "1d845929",
   "metadata": {},
   "source": [
    "## 2 Data preprocessing"
   ]
  },
  {
   "cell_type": "markdown",
   "id": "817819b2",
   "metadata": {},
   "source": [
    "We select a few columns (i.e., variables) in this demonstration."
   ]
  },
  {
   "cell_type": "code",
   "execution_count": 3,
   "id": "4edecfb3",
   "metadata": {},
   "outputs": [],
   "source": [
    "# Full keep-list (duplicates removed, one per literal column name)\n",
    "cols = [\n",
    "    # 1) discovery timing\n",
    "    \"FIRE_YEAR\", \"DISCOVERY_DATE\", \"DISCOVERY_DOY\", \"DISCOVERY_TIME\",\n",
    "    # 2) containment timing\n",
    "    \"CONT_DATE\", \"CONT_DOY\", \"CONT_TIME\",\n",
    "    # 3) ignition cause\n",
    "    \"STAT_CAUSE_CODE\", \"STAT_CAUSE_DESCR\",\n",
    "    # 4) fire size\n",
    "    \"FIRE_SIZE\", \"FIRE_SIZE_CLASS\",\n",
    "    # 5) point location\n",
    "    \"LATITUDE\", \"LONGITUDE\",\n",
    "    # 6) administrative place\n",
    "    \"STATE\", \"COUNTY\", \"FIPS_CODE\", \"FIPS_NAME\",\n",
    "    # 7) ownership / jurisdiction\n",
    "    \"OWNER_CODE\", \"OWNER_DESCR\",\n",
    "    # 8) reporting agency & unit\n",
    "    \"NWCG_REPORTING_AGENCY\", \"NWCG_REPORTING_UNIT_ID\", \"NWCG_REPORTING_UNIT_NAME\",\n",
    "    \"SOURCE_REPORTING_UNIT\", \"SOURCE_REPORTING_UNIT_NAME\",\n",
    "    # 9) source-system metadata\n",
    "    \"SOURCE_SYSTEM_TYPE\", \"SOURCE_SYSTEM\",\n",
    "    #10) incident identity / names / codes\n",
    "    \"FIRE_NAME\", \"COMPLEX_NAME\", \"MTBS_FIRE_NAME\", \"ICS_209_NAME\",\n",
    "    \"ICS_209_INCIDENT_NUMBER\", \"MTBS_ID\", \"LOCAL_FIRE_REPORT_ID\",\n",
    "    \"LOCAL_INCIDENT_ID\", \"FIRE_CODE\",\n",
    "]\n",
    "\n",
    "\n",
    "df = wildfires10k[cols].copy()          # keep only the pedagogically interesting bits\n",
    "df[\"DAY_TO_CONT\"] = df[\"CONT_DOY\"] - df[\"DISCOVERY_DOY\"]"
   ]
  },
  {
   "cell_type": "markdown",
   "id": "173e0280",
   "metadata": {},
   "source": [
    "## 3 Exploratory data analysis"
   ]
  },
  {
   "cell_type": "markdown",
   "id": "2618f5f3",
   "metadata": {},
   "source": [
    "### 3.1 Mapping the wildfires"
   ]
  },
  {
   "cell_type": "code",
   "execution_count": 4,
   "id": "88e7c8d7",
   "metadata": {},
   "outputs": [
    {
     "data": {
      "application/vnd.plotly.v1+json": {
       "config": {
        "plotlyServerURL": "https://plot.ly"
       },
       "data": [
        {
         "colorbar": {
          "title": {
           "text": "Fires"
          }
         },
         "colorscale": [
          [
           0,
           "rgb(255,245,240)"
          ],
          [
           0.125,
           "rgb(254,224,210)"
          ],
          [
           0.25,
           "rgb(252,187,161)"
          ],
          [
           0.375,
           "rgb(252,146,114)"
          ],
          [
           0.5,
           "rgb(251,106,74)"
          ],
          [
           0.625,
           "rgb(239,59,44)"
          ],
          [
           0.75,
           "rgb(203,24,29)"
          ],
          [
           0.875,
           "rgb(165,15,21)"
          ],
          [
           1,
           "rgb(103,0,13)"
          ]
         ],
         "locationmode": "USA-states",
         "locations": [
          "AK",
          "AL",
          "AR",
          "AZ",
          "CA",
          "CO",
          "CT",
          "DC",
          "FL",
          "GA",
          "HI",
          "IA",
          "ID",
          "IL",
          "IN",
          "KS",
          "KY",
          "LA",
          "MA",
          "MD",
          "ME",
          "MI",
          "MN",
          "MO",
          "MS",
          "MT",
          "NC",
          "ND",
          "NE",
          "NH",
          "NJ",
          "NM",
          "NV",
          "NY",
          "OH",
          "OK",
          "OR",
          "PA",
          "PR",
          "RI",
          "SC",
          "SD",
          "TN",
          "TX",
          "UT",
          "VA",
          "WA",
          "WI",
          "WV",
          "WY"
         ],
         "type": "choropleth",
         "z": {
          "bdata": "MwBqAbUAhQH7A6sAHAABAK0BggM2ABQAwwALAAsAJgCfAJsAEgAcADoAQQD6AG4AvQHnAGYCSQAnAA0AigCrAFQAwQEPAOcAMAE1AHsAAwDEAaIAsADWAqUAZgCwAK4AZgBOAA==",
          "dtype": "i2"
         }
        }
       ],
       "layout": {
        "geo": {
         "scope": "usa"
        },
        "template": {
         "data": {
          "bar": [
           {
            "error_x": {
             "color": "#2a3f5f"
            },
            "error_y": {
             "color": "#2a3f5f"
            },
            "marker": {
             "line": {
              "color": "#E5ECF6",
              "width": 0.5
             },
             "pattern": {
              "fillmode": "overlay",
              "size": 10,
              "solidity": 0.2
             }
            },
            "type": "bar"
           }
          ],
          "barpolar": [
           {
            "marker": {
             "line": {
              "color": "#E5ECF6",
              "width": 0.5
             },
             "pattern": {
              "fillmode": "overlay",
              "size": 10,
              "solidity": 0.2
             }
            },
            "type": "barpolar"
           }
          ],
          "carpet": [
           {
            "aaxis": {
             "endlinecolor": "#2a3f5f",
             "gridcolor": "white",
             "linecolor": "white",
             "minorgridcolor": "white",
             "startlinecolor": "#2a3f5f"
            },
            "baxis": {
             "endlinecolor": "#2a3f5f",
             "gridcolor": "white",
             "linecolor": "white",
             "minorgridcolor": "white",
             "startlinecolor": "#2a3f5f"
            },
            "type": "carpet"
           }
          ],
          "choropleth": [
           {
            "colorbar": {
             "outlinewidth": 0,
             "ticks": ""
            },
            "type": "choropleth"
           }
          ],
          "contour": [
           {
            "colorbar": {
             "outlinewidth": 0,
             "ticks": ""
            },
            "colorscale": [
             [
              0,
              "#0d0887"
             ],
             [
              0.1111111111111111,
              "#46039f"
             ],
             [
              0.2222222222222222,
              "#7201a8"
             ],
             [
              0.3333333333333333,
              "#9c179e"
             ],
             [
              0.4444444444444444,
              "#bd3786"
             ],
             [
              0.5555555555555556,
              "#d8576b"
             ],
             [
              0.6666666666666666,
              "#ed7953"
             ],
             [
              0.7777777777777778,
              "#fb9f3a"
             ],
             [
              0.8888888888888888,
              "#fdca26"
             ],
             [
              1,
              "#f0f921"
             ]
            ],
            "type": "contour"
           }
          ],
          "contourcarpet": [
           {
            "colorbar": {
             "outlinewidth": 0,
             "ticks": ""
            },
            "type": "contourcarpet"
           }
          ],
          "heatmap": [
           {
            "colorbar": {
             "outlinewidth": 0,
             "ticks": ""
            },
            "colorscale": [
             [
              0,
              "#0d0887"
             ],
             [
              0.1111111111111111,
              "#46039f"
             ],
             [
              0.2222222222222222,
              "#7201a8"
             ],
             [
              0.3333333333333333,
              "#9c179e"
             ],
             [
              0.4444444444444444,
              "#bd3786"
             ],
             [
              0.5555555555555556,
              "#d8576b"
             ],
             [
              0.6666666666666666,
              "#ed7953"
             ],
             [
              0.7777777777777778,
              "#fb9f3a"
             ],
             [
              0.8888888888888888,
              "#fdca26"
             ],
             [
              1,
              "#f0f921"
             ]
            ],
            "type": "heatmap"
           }
          ],
          "histogram": [
           {
            "marker": {
             "pattern": {
              "fillmode": "overlay",
              "size": 10,
              "solidity": 0.2
             }
            },
            "type": "histogram"
           }
          ],
          "histogram2d": [
           {
            "colorbar": {
             "outlinewidth": 0,
             "ticks": ""
            },
            "colorscale": [
             [
              0,
              "#0d0887"
             ],
             [
              0.1111111111111111,
              "#46039f"
             ],
             [
              0.2222222222222222,
              "#7201a8"
             ],
             [
              0.3333333333333333,
              "#9c179e"
             ],
             [
              0.4444444444444444,
              "#bd3786"
             ],
             [
              0.5555555555555556,
              "#d8576b"
             ],
             [
              0.6666666666666666,
              "#ed7953"
             ],
             [
              0.7777777777777778,
              "#fb9f3a"
             ],
             [
              0.8888888888888888,
              "#fdca26"
             ],
             [
              1,
              "#f0f921"
             ]
            ],
            "type": "histogram2d"
           }
          ],
          "histogram2dcontour": [
           {
            "colorbar": {
             "outlinewidth": 0,
             "ticks": ""
            },
            "colorscale": [
             [
              0,
              "#0d0887"
             ],
             [
              0.1111111111111111,
              "#46039f"
             ],
             [
              0.2222222222222222,
              "#7201a8"
             ],
             [
              0.3333333333333333,
              "#9c179e"
             ],
             [
              0.4444444444444444,
              "#bd3786"
             ],
             [
              0.5555555555555556,
              "#d8576b"
             ],
             [
              0.6666666666666666,
              "#ed7953"
             ],
             [
              0.7777777777777778,
              "#fb9f3a"
             ],
             [
              0.8888888888888888,
              "#fdca26"
             ],
             [
              1,
              "#f0f921"
             ]
            ],
            "type": "histogram2dcontour"
           }
          ],
          "mesh3d": [
           {
            "colorbar": {
             "outlinewidth": 0,
             "ticks": ""
            },
            "type": "mesh3d"
           }
          ],
          "parcoords": [
           {
            "line": {
             "colorbar": {
              "outlinewidth": 0,
              "ticks": ""
             }
            },
            "type": "parcoords"
           }
          ],
          "pie": [
           {
            "automargin": true,
            "type": "pie"
           }
          ],
          "scatter": [
           {
            "fillpattern": {
             "fillmode": "overlay",
             "size": 10,
             "solidity": 0.2
            },
            "type": "scatter"
           }
          ],
          "scatter3d": [
           {
            "line": {
             "colorbar": {
              "outlinewidth": 0,
              "ticks": ""
             }
            },
            "marker": {
             "colorbar": {
              "outlinewidth": 0,
              "ticks": ""
             }
            },
            "type": "scatter3d"
           }
          ],
          "scattercarpet": [
           {
            "marker": {
             "colorbar": {
              "outlinewidth": 0,
              "ticks": ""
             }
            },
            "type": "scattercarpet"
           }
          ],
          "scattergeo": [
           {
            "marker": {
             "colorbar": {
              "outlinewidth": 0,
              "ticks": ""
             }
            },
            "type": "scattergeo"
           }
          ],
          "scattergl": [
           {
            "marker": {
             "colorbar": {
              "outlinewidth": 0,
              "ticks": ""
             }
            },
            "type": "scattergl"
           }
          ],
          "scattermap": [
           {
            "marker": {
             "colorbar": {
              "outlinewidth": 0,
              "ticks": ""
             }
            },
            "type": "scattermap"
           }
          ],
          "scattermapbox": [
           {
            "marker": {
             "colorbar": {
              "outlinewidth": 0,
              "ticks": ""
             }
            },
            "type": "scattermapbox"
           }
          ],
          "scatterpolar": [
           {
            "marker": {
             "colorbar": {
              "outlinewidth": 0,
              "ticks": ""
             }
            },
            "type": "scatterpolar"
           }
          ],
          "scatterpolargl": [
           {
            "marker": {
             "colorbar": {
              "outlinewidth": 0,
              "ticks": ""
             }
            },
            "type": "scatterpolargl"
           }
          ],
          "scatterternary": [
           {
            "marker": {
             "colorbar": {
              "outlinewidth": 0,
              "ticks": ""
             }
            },
            "type": "scatterternary"
           }
          ],
          "surface": [
           {
            "colorbar": {
             "outlinewidth": 0,
             "ticks": ""
            },
            "colorscale": [
             [
              0,
              "#0d0887"
             ],
             [
              0.1111111111111111,
              "#46039f"
             ],
             [
              0.2222222222222222,
              "#7201a8"
             ],
             [
              0.3333333333333333,
              "#9c179e"
             ],
             [
              0.4444444444444444,
              "#bd3786"
             ],
             [
              0.5555555555555556,
              "#d8576b"
             ],
             [
              0.6666666666666666,
              "#ed7953"
             ],
             [
              0.7777777777777778,
              "#fb9f3a"
             ],
             [
              0.8888888888888888,
              "#fdca26"
             ],
             [
              1,
              "#f0f921"
             ]
            ],
            "type": "surface"
           }
          ],
          "table": [
           {
            "cells": {
             "fill": {
              "color": "#EBF0F8"
             },
             "line": {
              "color": "white"
             }
            },
            "header": {
             "fill": {
              "color": "#C8D4E3"
             },
             "line": {
              "color": "white"
             }
            },
            "type": "table"
           }
          ]
         },
         "layout": {
          "annotationdefaults": {
           "arrowcolor": "#2a3f5f",
           "arrowhead": 0,
           "arrowwidth": 1
          },
          "autotypenumbers": "strict",
          "coloraxis": {
           "colorbar": {
            "outlinewidth": 0,
            "ticks": ""
           }
          },
          "colorscale": {
           "diverging": [
            [
             0,
             "#8e0152"
            ],
            [
             0.1,
             "#c51b7d"
            ],
            [
             0.2,
             "#de77ae"
            ],
            [
             0.3,
             "#f1b6da"
            ],
            [
             0.4,
             "#fde0ef"
            ],
            [
             0.5,
             "#f7f7f7"
            ],
            [
             0.6,
             "#e6f5d0"
            ],
            [
             0.7,
             "#b8e186"
            ],
            [
             0.8,
             "#7fbc41"
            ],
            [
             0.9,
             "#4d9221"
            ],
            [
             1,
             "#276419"
            ]
           ],
           "sequential": [
            [
             0,
             "#0d0887"
            ],
            [
             0.1111111111111111,
             "#46039f"
            ],
            [
             0.2222222222222222,
             "#7201a8"
            ],
            [
             0.3333333333333333,
             "#9c179e"
            ],
            [
             0.4444444444444444,
             "#bd3786"
            ],
            [
             0.5555555555555556,
             "#d8576b"
            ],
            [
             0.6666666666666666,
             "#ed7953"
            ],
            [
             0.7777777777777778,
             "#fb9f3a"
            ],
            [
             0.8888888888888888,
             "#fdca26"
            ],
            [
             1,
             "#f0f921"
            ]
           ],
           "sequentialminus": [
            [
             0,
             "#0d0887"
            ],
            [
             0.1111111111111111,
             "#46039f"
            ],
            [
             0.2222222222222222,
             "#7201a8"
            ],
            [
             0.3333333333333333,
             "#9c179e"
            ],
            [
             0.4444444444444444,
             "#bd3786"
            ],
            [
             0.5555555555555556,
             "#d8576b"
            ],
            [
             0.6666666666666666,
             "#ed7953"
            ],
            [
             0.7777777777777778,
             "#fb9f3a"
            ],
            [
             0.8888888888888888,
             "#fdca26"
            ],
            [
             1,
             "#f0f921"
            ]
           ]
          },
          "colorway": [
           "#636efa",
           "#EF553B",
           "#00cc96",
           "#ab63fa",
           "#FFA15A",
           "#19d3f3",
           "#FF6692",
           "#B6E880",
           "#FF97FF",
           "#FECB52"
          ],
          "font": {
           "color": "#2a3f5f"
          },
          "geo": {
           "bgcolor": "white",
           "lakecolor": "white",
           "landcolor": "#E5ECF6",
           "showlakes": true,
           "showland": true,
           "subunitcolor": "white"
          },
          "hoverlabel": {
           "align": "left"
          },
          "hovermode": "closest",
          "mapbox": {
           "style": "light"
          },
          "paper_bgcolor": "white",
          "plot_bgcolor": "#E5ECF6",
          "polar": {
           "angularaxis": {
            "gridcolor": "white",
            "linecolor": "white",
            "ticks": ""
           },
           "bgcolor": "#E5ECF6",
           "radialaxis": {
            "gridcolor": "white",
            "linecolor": "white",
            "ticks": ""
           }
          },
          "scene": {
           "xaxis": {
            "backgroundcolor": "#E5ECF6",
            "gridcolor": "white",
            "gridwidth": 2,
            "linecolor": "white",
            "showbackground": true,
            "ticks": "",
            "zerolinecolor": "white"
           },
           "yaxis": {
            "backgroundcolor": "#E5ECF6",
            "gridcolor": "white",
            "gridwidth": 2,
            "linecolor": "white",
            "showbackground": true,
            "ticks": "",
            "zerolinecolor": "white"
           },
           "zaxis": {
            "backgroundcolor": "#E5ECF6",
            "gridcolor": "white",
            "gridwidth": 2,
            "linecolor": "white",
            "showbackground": true,
            "ticks": "",
            "zerolinecolor": "white"
           }
          },
          "shapedefaults": {
           "line": {
            "color": "#2a3f5f"
           }
          },
          "ternary": {
           "aaxis": {
            "gridcolor": "white",
            "linecolor": "white",
            "ticks": ""
           },
           "baxis": {
            "gridcolor": "white",
            "linecolor": "white",
            "ticks": ""
           },
           "bgcolor": "#E5ECF6",
           "caxis": {
            "gridcolor": "white",
            "linecolor": "white",
            "ticks": ""
           }
          },
          "title": {
           "x": 0.05
          },
          "xaxis": {
           "automargin": true,
           "gridcolor": "white",
           "linecolor": "white",
           "ticks": "",
           "title": {
            "standoff": 15
           },
           "zerolinecolor": "white",
           "zerolinewidth": 2
          },
          "yaxis": {
           "automargin": true,
           "gridcolor": "white",
           "linecolor": "white",
           "ticks": "",
           "title": {
            "standoff": 15
           },
           "zerolinecolor": "white",
           "zerolinewidth": 2
          }
         }
        },
        "title": {
         "text": "Number of Wildfires by State 1992-2015 (subset)"
        }
       }
      }
     },
     "metadata": {},
     "output_type": "display_data"
    }
   ],
   "source": [
    "import plotly.graph_objects as go\n",
    "\n",
    "# Count fires per state\n",
    "state_counts = (\n",
    "    df.groupby(\"STATE\", as_index=False)\n",
    "      .size()                         # -> column \"size\"\n",
    "      .rename(columns={\"size\": \"fires\"})\n",
    ")\n",
    "\n",
    "fig = go.Figure()\n",
    "\n",
    "fig.add_trace(go.Choropleth(\n",
    "    locations=state_counts[\"STATE\"],     # two-letter state codes\n",
    "    z=state_counts[\"fires\"],             # color scale values\n",
    "    locationmode=\"USA-states\",           # use built-in USA state map\n",
    "    colorscale=\"Reds\",                   # optional: choose a colorscale\n",
    "    colorbar_title=\"Fires\"               # color bar label\n",
    "))\n",
    "\n",
    "fig.update_layout(\n",
    "    title_text=\"Number of Wildfires by State 1992-2015 (subset)\",\n",
    "    geo_scope='usa'\n",
    ")\n",
    "\n",
    "fig.show()"
   ]
  },
  {
   "cell_type": "markdown",
   "id": "3cdc1fae",
   "metadata": {},
   "source": [
    "### 3.2 Time to containment"
   ]
  },
  {
   "cell_type": "code",
   "execution_count": 5,
   "id": "ea13e032",
   "metadata": {},
   "outputs": [
    {
     "data": {
      "application/vnd.plotly.v1+json": {
       "config": {
        "plotlyServerURL": "https://plot.ly"
       },
       "data": [
        {
         "hovertemplate": "FIRE_YEAR=%{x}<br>DAY_TO_CONT=%{y}<extra></extra>",
         "legendgroup": "",
         "marker": {
          "color": "#636efa",
          "opacity": 0.2,
          "size": 4,
          "symbol": "circle"
         },
         "mode": "markers",
         "name": "",
         "orientation": "v",
         "showlegend": false,
         "type": "scatter",
         "x": {
          "bdata": "1QfVB9UH1QfVB9UH1QfVB9UH1QfVB9UH1QfVB9UH1QfVB9UH1QfWB9YH1gfWB9YH1gfWB9YH1gfWB9YH1gfWB9YH1gfWB9YH1gfWB9YH1gfWB9cH1wfXB9cH1wfXB9cH1wfXB9cH1wfXB9cH1wfXB9cH1wfYB9gH2AfYB9gH2AfYB9gH2AfYB9gH2QfZB9kH2QfZB9kH2QfZB9kH2QfZB9kH2QfZB9kH2QfZB9kH2QfZB8gHyAfIB8gHyAfIB8gHyAfIB8gHyAfIB8gHyAfIB8kHyQfJB8kHyQfJB8kHyQfJB8kHyQfJB8kHygfKB8oHygfKB8oHygfKB8oHygfKB8oHygfKB8oHygfKB8oHygfKB8oHygfKB8oHygfKB8oHygfLB8sHywfLB8sHywfLB8sHywfLB8sHzAfMB8wHzAfMB8wHzAfMB8wHzAfNB80HzQfNB80HzQfNB84HzgfOB84HzgfOB84HzgfOB84HzgfOB88HzwfPB88HzwfPB88HzwfPB88H0AfPB88HzwfPB88HzwfPB88HzwfPB88HzwfPB9AHzwfQB88HzwfQB9AH0AfPB88H0AfQB9AH0AfQB9AH0AfQB9AH0AfQB9AH0AfQB9AH0AfQB9AH0AfQB9AH0AfRB9AH0QfRB9EH0QfRB9EH0QfRB9EH0QfRB9EH0QfRB9EH0QfRB9EH0gfRB9IH0gfSB9IH0gfSB9IH0gfSB9IH0gfSB9IH0gfSB9IH0gfSB9IH0gfTB9MH0wfTB9MH0wfTB9MH0wfTB9MH0wfTB9MH0wfTB9MH0wfTB9MH0wfTB9MH0wfUB9QH1AfUB9QH1AfUB9QH1AfMB8oHzwfNB84HywfJB8gHygfNB8wHzgfPB80HzQfJB8oHzAfMB8sHywfOB88HzAfNB88HzwfLB8gHygfLB8sHzQfOB88HzQfKB8sHygfIB8wHyAfMB8wHzAfPB8oHywfMB80HzgfIB8oHygfLB8sHzgfNB8oHzQfKB8wHzQfKB8oHzAfOB8gHygfMB8gHyQfPB8sHzQfLB8kHywfMB8wHygfIB84H2AfXB9cH1AfSB9AH0QfQB9IH0AfQB9IH1QfYB9cH0wfYB9AH0QfSB9cH0wfXB9kH0AfYB9AH1AfUB9UH2QfYB9AH1gfSB9IH0gfUB9AH1QfYB9cH2QfSB9kH1gfZB9kH0AfQB9IH0gfWB9kH0AfUB9YH1gfWB9MH1gfZB9cH0wfUB9gH2QfWB9EH0QfTB9YH2QfRB9QH1gfQB9QH2QfQB9AH0AfRB9EH0gfSB9IH0gfQB9AH0wfWB9cH0AfQB9EH1gfUB9UH0wfUB9kH1QfVB9YH2QfQB9EH1wfYB9MH1QfSB9MH1AfVB9gH1gfZB9EH0AfSB9MH0wfWB9YH2AfTB9gH2AfUB9cH0AfQB9AH1wfTB9IH0gfTB9gH2AfYB9YH1wfNB84H0AfTB9QH1wfXB9cH2AfYB9kHywfKB8gHyAfMB8kHywfJB8oH1QfKB8oHygfKB8oHygfLB8wHzgfPB88HywfKB8kHywfIB8sHzAfTB9EHywfOB8sHzgfQB88HygfWB8oHywfIB8sHygfIB8gH1wfYB9UH0QfRB9MH1AfWB9kH0gfSB9cHzAfYB9UH0wfaB9oH1wfUB9oH2gfaB9oH2gfaB9oH2gfaB9oH2gfaB9oH2gfaB9oH2gfaB9oH2QfaB9oH2gfaB9oH2gfaB9oH2gfaB9MH1wfYB9cH2QfZB9cH2AfTB9kH2QfaB9oH2gfaB9oH2gfaB9gH2AfZB9kH2QfXB9UH0wfTB9AH0QfRB88HzwfKB8sH0wfUB9EH0gfRB9EH1wfXB9cH2gfXB9UH0gfIB9oH2gfaB9MHygfIB8kHywfaB9UH1QfbB9sH2wfbB9sH2wfbB9sH2wfbB9sH2wfbB9sH2wfbB9sH2wfbB9sH2wfbB9sH2wfbB9sH2wfbB9sH2wfbB9sH2wfbB9sH2wfZB9sH2wfbB9sH2wfcB9wH3AfcB9wH3AfcB9wH3AfcB9wH3AfcB9wH3AfcB9wH3AfcB9wH3AfcB9wH3AfcB9wH3AfcB9wH3AfcB9wH3AfcB9wH3AfcB9wH3AfcB9wH3AfcB90H3QfdB90H3QfdB90H3QfdB90H3QfdB90H3QfdB90H3QfdB90H3QfdB90H3QfdB90H3QfdB90H3QfdB90H3QfdB90H3QfdB90H3QfdB90H3QfdB90H3QfdB90H3QfdB90H3QfdB90H3QfdB90H3QfeB94H3gfeB94H3gfeB94H3gfeB94H3gfeB94H3gfeB94H3gfeB94H3gfeB94H3gfeB94H3gfeB94H3gfeB94H3gfeB94H3gfeB94H3gfeB94H3gfeB94H3gfeB94H3gfeB94H3gfeB94H3gfeB98H3wffB98H3wffB98H3wffB98H3wffB98H3wffB98H3wffB98H3wffB98H3wffB98H3wffB98H3wffB98H3wffB98H3wffB98H3wffB98H3wffB98H3wffB98H3wffBw==",
          "dtype": "i2"
         },
         "xaxis": "x",
         "y": {
          "bdata": "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",
          "dtype": "f8"
         },
         "yaxis": "y"
        },
        {
         "hovertemplate": "<b>LOWESS trendline</b><br><br>FIRE_YEAR=%{x}<br>DAY_TO_CONT=%{y} <b>(trend)</b><extra></extra>",
         "legendgroup": "",
         "line": {
          "color": "red"
         },
         "marker": {
          "color": "#636efa",
          "size": 4,
          "symbol": "circle"
         },
         "mode": "lines",
         "name": "",
         "showlegend": false,
         "type": "scatter",
         "x": {
          "bdata": "yAfIB8gHyAfIB8gHyAfIB8gHyAfIB8gHyAfIB8gHyAfIB8gHyAfIB8gHyAfIB8gHyAfIB8gHyAfIB8gHyAfJB8kHyQfJB8kHyQfJB8kHyQfJB8kHyQfJB8kHyQfJB8kHyQfJB8kHyQfKB8oHygfKB8oHygfKB8oHygfKB8oHygfKB8oHygfKB8oHygfKB8oHygfKB8oHygfKB8oHygfKB8oHygfKB8oHygfKB8oHygfKB8oHygfKB8oHygfKB8oHygfKB8oHygfKB8oHygfKB8oHygfKB8oHygfLB8sHywfLB8sHywfLB8sHywfLB8sHywfLB8sHywfLB8sHywfLB8sHywfLB8sHywfLB8sHywfLB8sHywfLB8sHywfLB8sHywfMB8wHzAfMB8wHzAfMB8wHzAfMB8wHzAfMB8wHzAfMB8wHzAfMB8wHzAfMB8wHzAfMB8wHzAfMB8wHzQfNB80HzQfNB80HzQfNB80HzQfNB80HzQfNB80HzQfNB80HzQfNB84HzgfOB84HzgfOB84HzgfOB84HzgfOB84HzgfOB84HzgfOB84HzgfOB84HzgfOB88HzwfPB88HzwfPB88HzwfPB88HzwfPB88HzwfPB88HzwfPB88HzwfPB88HzwfPB88HzwfPB88HzwfPB88HzwfPB88HzwfPB88HzwfPB88HzwfQB9AH0AfQB9AH0AfQB9AH0AfQB9AH0AfQB9AH0AfQB9AH0AfQB9AH0AfQB9AH0AfQB9AH0AfQB9AH0AfQB9AH0AfQB9AH0AfQB9AH0AfQB9AH0AfQB9AH0AfQB9AH0AfQB9AH0AfQB9AH0AfQB9AH0AfRB9EH0QfRB9EH0QfRB9EH0QfRB9EH0QfRB9EH0QfRB9EH0QfRB9EH0QfRB9EH0QfRB9EH0QfRB9EH0QfRB9EH0QfRB9EH0QfRB9EH0gfSB9IH0gfSB9IH0gfSB9IH0gfSB9IH0gfSB9IH0gfSB9IH0gfSB9IH0gfSB9IH0gfSB9IH0gfSB9IH0gfSB9IH0gfSB9IH0gfSB9IH0gfSB9IH0gfTB9MH0wfTB9MH0wfTB9MH0wfTB9MH0wfTB9MH0wfTB9MH0wfTB9MH0wfTB9MH0wfTB9MH0wfTB9MH0wfTB9MH0wfTB9MH0wfTB9MH0wfTB9MH0wfTB9MH0wfTB9MH0wfUB9QH1AfUB9QH1AfUB9QH1AfUB9QH1AfUB9QH1AfUB9QH1AfUB9QH1AfUB9QH1AfUB9UH1QfVB9UH1QfVB9UH1QfVB9UH1QfVB9UH1QfVB9UH1QfVB9UH1QfVB9UH1QfVB9UH1QfVB9UH1QfVB9UH1QfVB9UH1gfWB9YH1gfWB9YH1gfWB9YH1gfWB9YH1gfWB9YH1gfWB9YH1gfWB9YH1gfWB9YH1gfWB9YH1gfWB9YH1gfWB9YH1gfWB9YH1gfWB9YH1gfWB9cH1wfXB9cH1wfXB9cH1wfXB9cH1wfXB9cH1wfXB9cH1wfXB9cH1wfXB9cH1wfXB9cH1wfXB9cH1wfXB9cH1wfXB9cH1wfXB9cH1wfXB9cH1wfXB9cH2AfYB9gH2AfYB9gH2AfYB9gH2AfYB9gH2AfYB9gH2AfYB9gH2AfYB9gH2AfYB9gH2AfYB9gH2AfYB9gH2AfYB9gH2AfZB9kH2QfZB9kH2QfZB9kH2QfZB9kH2QfZB9kH2QfZB9kH2QfZB9kH2QfZB9kH2QfZB9kH2QfZB9kH2QfZB9kH2QfZB9kH2QfZB9kH2QfZB9kH2QfZB9kH2QfaB9oH2gfaB9oH2gfaB9oH2gfaB9oH2gfaB9oH2gfaB9oH2gfaB9oH2gfaB9oH2gfaB9oH2gfaB9oH2gfaB9oH2gfaB9oH2gfaB9oH2gfaB9oH2gfaB9sH2wfbB9sH2wfbB9sH2wfbB9sH2wfbB9sH2wfbB9sH2wfbB9sH2wfbB9sH2wfbB9sH2wfbB9sH2wfbB9sH2wfbB9sH2wfbB9sH2wfbB9sH2wfcB9wH3AfcB9wH3AfcB9wH3AfcB9wH3AfcB9wH3AfcB9wH3AfcB9wH3AfcB9wH3AfcB9wH3AfcB9wH3AfcB9wH3AfcB9wH3AfcB9wH3AfcB9wH3AfcB90H3QfdB90H3QfdB90H3QfdB90H3QfdB90H3QfdB90H3QfdB90H3QfdB90H3QfdB90H3QfdB90H3QfdB90H3QfdB90H3QfdB90H3QfdB90H3QfdB90H3QfdB90H3QfdB90H3QfdB90H3QfdB90H3QfeB94H3gfeB94H3gfeB94H3gfeB94H3gfeB94H3gfeB94H3gfeB94H3gfeB94H3gfeB94H3gfeB94H3gfeB94H3gfeB94H3gfeB94H3gfeB94H3gfeB94H3gfeB94H3gfeB94H3gfeB94H3gfeB98H3wffB98H3wffB98H3wffB98H3wffB98H3wffB98H3wffB98H3wffB98H3wffB98H3wffB98H3wffB98H3wffB98H3wffB98H3wffB98H3wffB98H3wffB98H3wffBw==",
          "dtype": "i2"
         },
         "xaxis": "x",
         "y": {
          "bdata": "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",
          "dtype": "f8"
         },
         "yaxis": "y"
        }
       ],
       "layout": {
        "height": 500,
        "legend": {
         "tracegroupgap": 0
        },
        "template": {
         "data": {
          "bar": [
           {
            "error_x": {
             "color": "#2a3f5f"
            },
            "error_y": {
             "color": "#2a3f5f"
            },
            "marker": {
             "line": {
              "color": "#E5ECF6",
              "width": 0.5
             },
             "pattern": {
              "fillmode": "overlay",
              "size": 10,
              "solidity": 0.2
             }
            },
            "type": "bar"
           }
          ],
          "barpolar": [
           {
            "marker": {
             "line": {
              "color": "#E5ECF6",
              "width": 0.5
             },
             "pattern": {
              "fillmode": "overlay",
              "size": 10,
              "solidity": 0.2
             }
            },
            "type": "barpolar"
           }
          ],
          "carpet": [
           {
            "aaxis": {
             "endlinecolor": "#2a3f5f",
             "gridcolor": "white",
             "linecolor": "white",
             "minorgridcolor": "white",
             "startlinecolor": "#2a3f5f"
            },
            "baxis": {
             "endlinecolor": "#2a3f5f",
             "gridcolor": "white",
             "linecolor": "white",
             "minorgridcolor": "white",
             "startlinecolor": "#2a3f5f"
            },
            "type": "carpet"
           }
          ],
          "choropleth": [
           {
            "colorbar": {
             "outlinewidth": 0,
             "ticks": ""
            },
            "type": "choropleth"
           }
          ],
          "contour": [
           {
            "colorbar": {
             "outlinewidth": 0,
             "ticks": ""
            },
            "colorscale": [
             [
              0,
              "#0d0887"
             ],
             [
              0.1111111111111111,
              "#46039f"
             ],
             [
              0.2222222222222222,
              "#7201a8"
             ],
             [
              0.3333333333333333,
              "#9c179e"
             ],
             [
              0.4444444444444444,
              "#bd3786"
             ],
             [
              0.5555555555555556,
              "#d8576b"
             ],
             [
              0.6666666666666666,
              "#ed7953"
             ],
             [
              0.7777777777777778,
              "#fb9f3a"
             ],
             [
              0.8888888888888888,
              "#fdca26"
             ],
             [
              1,
              "#f0f921"
             ]
            ],
            "type": "contour"
           }
          ],
          "contourcarpet": [
           {
            "colorbar": {
             "outlinewidth": 0,
             "ticks": ""
            },
            "type": "contourcarpet"
           }
          ],
          "heatmap": [
           {
            "colorbar": {
             "outlinewidth": 0,
             "ticks": ""
            },
            "colorscale": [
             [
              0,
              "#0d0887"
             ],
             [
              0.1111111111111111,
              "#46039f"
             ],
             [
              0.2222222222222222,
              "#7201a8"
             ],
             [
              0.3333333333333333,
              "#9c179e"
             ],
             [
              0.4444444444444444,
              "#bd3786"
             ],
             [
              0.5555555555555556,
              "#d8576b"
             ],
             [
              0.6666666666666666,
              "#ed7953"
             ],
             [
              0.7777777777777778,
              "#fb9f3a"
             ],
             [
              0.8888888888888888,
              "#fdca26"
             ],
             [
              1,
              "#f0f921"
             ]
            ],
            "type": "heatmap"
           }
          ],
          "histogram": [
           {
            "marker": {
             "pattern": {
              "fillmode": "overlay",
              "size": 10,
              "solidity": 0.2
             }
            },
            "type": "histogram"
           }
          ],
          "histogram2d": [
           {
            "colorbar": {
             "outlinewidth": 0,
             "ticks": ""
            },
            "colorscale": [
             [
              0,
              "#0d0887"
             ],
             [
              0.1111111111111111,
              "#46039f"
             ],
             [
              0.2222222222222222,
              "#7201a8"
             ],
             [
              0.3333333333333333,
              "#9c179e"
             ],
             [
              0.4444444444444444,
              "#bd3786"
             ],
             [
              0.5555555555555556,
              "#d8576b"
             ],
             [
              0.6666666666666666,
              "#ed7953"
             ],
             [
              0.7777777777777778,
              "#fb9f3a"
             ],
             [
              0.8888888888888888,
              "#fdca26"
             ],
             [
              1,
              "#f0f921"
             ]
            ],
            "type": "histogram2d"
           }
          ],
          "histogram2dcontour": [
           {
            "colorbar": {
             "outlinewidth": 0,
             "ticks": ""
            },
            "colorscale": [
             [
              0,
              "#0d0887"
             ],
             [
              0.1111111111111111,
              "#46039f"
             ],
             [
              0.2222222222222222,
              "#7201a8"
             ],
             [
              0.3333333333333333,
              "#9c179e"
             ],
             [
              0.4444444444444444,
              "#bd3786"
             ],
             [
              0.5555555555555556,
              "#d8576b"
             ],
             [
              0.6666666666666666,
              "#ed7953"
             ],
             [
              0.7777777777777778,
              "#fb9f3a"
             ],
             [
              0.8888888888888888,
              "#fdca26"
             ],
             [
              1,
              "#f0f921"
             ]
            ],
            "type": "histogram2dcontour"
           }
          ],
          "mesh3d": [
           {
            "colorbar": {
             "outlinewidth": 0,
             "ticks": ""
            },
            "type": "mesh3d"
           }
          ],
          "parcoords": [
           {
            "line": {
             "colorbar": {
              "outlinewidth": 0,
              "ticks": ""
             }
            },
            "type": "parcoords"
           }
          ],
          "pie": [
           {
            "automargin": true,
            "type": "pie"
           }
          ],
          "scatter": [
           {
            "fillpattern": {
             "fillmode": "overlay",
             "size": 10,
             "solidity": 0.2
            },
            "type": "scatter"
           }
          ],
          "scatter3d": [
           {
            "line": {
             "colorbar": {
              "outlinewidth": 0,
              "ticks": ""
             }
            },
            "marker": {
             "colorbar": {
              "outlinewidth": 0,
              "ticks": ""
             }
            },
            "type": "scatter3d"
           }
          ],
          "scattercarpet": [
           {
            "marker": {
             "colorbar": {
              "outlinewidth": 0,
              "ticks": ""
             }
            },
            "type": "scattercarpet"
           }
          ],
          "scattergeo": [
           {
            "marker": {
             "colorbar": {
              "outlinewidth": 0,
              "ticks": ""
             }
            },
            "type": "scattergeo"
           }
          ],
          "scattergl": [
           {
            "marker": {
             "colorbar": {
              "outlinewidth": 0,
              "ticks": ""
             }
            },
            "type": "scattergl"
           }
          ],
          "scattermap": [
           {
            "marker": {
             "colorbar": {
              "outlinewidth": 0,
              "ticks": ""
             }
            },
            "type": "scattermap"
           }
          ],
          "scattermapbox": [
           {
            "marker": {
             "colorbar": {
              "outlinewidth": 0,
              "ticks": ""
             }
            },
            "type": "scattermapbox"
           }
          ],
          "scatterpolar": [
           {
            "marker": {
             "colorbar": {
              "outlinewidth": 0,
              "ticks": ""
             }
            },
            "type": "scatterpolar"
           }
          ],
          "scatterpolargl": [
           {
            "marker": {
             "colorbar": {
              "outlinewidth": 0,
              "ticks": ""
             }
            },
            "type": "scatterpolargl"
           }
          ],
          "scatterternary": [
           {
            "marker": {
             "colorbar": {
              "outlinewidth": 0,
              "ticks": ""
             }
            },
            "type": "scatterternary"
           }
          ],
          "surface": [
           {
            "colorbar": {
             "outlinewidth": 0,
             "ticks": ""
            },
            "colorscale": [
             [
              0,
              "#0d0887"
             ],
             [
              0.1111111111111111,
              "#46039f"
             ],
             [
              0.2222222222222222,
              "#7201a8"
             ],
             [
              0.3333333333333333,
              "#9c179e"
             ],
             [
              0.4444444444444444,
              "#bd3786"
             ],
             [
              0.5555555555555556,
              "#d8576b"
             ],
             [
              0.6666666666666666,
              "#ed7953"
             ],
             [
              0.7777777777777778,
              "#fb9f3a"
             ],
             [
              0.8888888888888888,
              "#fdca26"
             ],
             [
              1,
              "#f0f921"
             ]
            ],
            "type": "surface"
           }
          ],
          "table": [
           {
            "cells": {
             "fill": {
              "color": "#EBF0F8"
             },
             "line": {
              "color": "white"
             }
            },
            "header": {
             "fill": {
              "color": "#C8D4E3"
             },
             "line": {
              "color": "white"
             }
            },
            "type": "table"
           }
          ]
         },
         "layout": {
          "annotationdefaults": {
           "arrowcolor": "#2a3f5f",
           "arrowhead": 0,
           "arrowwidth": 1
          },
          "autotypenumbers": "strict",
          "coloraxis": {
           "colorbar": {
            "outlinewidth": 0,
            "ticks": ""
           }
          },
          "colorscale": {
           "diverging": [
            [
             0,
             "#8e0152"
            ],
            [
             0.1,
             "#c51b7d"
            ],
            [
             0.2,
             "#de77ae"
            ],
            [
             0.3,
             "#f1b6da"
            ],
            [
             0.4,
             "#fde0ef"
            ],
            [
             0.5,
             "#f7f7f7"
            ],
            [
             0.6,
             "#e6f5d0"
            ],
            [
             0.7,
             "#b8e186"
            ],
            [
             0.8,
             "#7fbc41"
            ],
            [
             0.9,
             "#4d9221"
            ],
            [
             1,
             "#276419"
            ]
           ],
           "sequential": [
            [
             0,
             "#0d0887"
            ],
            [
             0.1111111111111111,
             "#46039f"
            ],
            [
             0.2222222222222222,
             "#7201a8"
            ],
            [
             0.3333333333333333,
             "#9c179e"
            ],
            [
             0.4444444444444444,
             "#bd3786"
            ],
            [
             0.5555555555555556,
             "#d8576b"
            ],
            [
             0.6666666666666666,
             "#ed7953"
            ],
            [
             0.7777777777777778,
             "#fb9f3a"
            ],
            [
             0.8888888888888888,
             "#fdca26"
            ],
            [
             1,
             "#f0f921"
            ]
           ],
           "sequentialminus": [
            [
             0,
             "#0d0887"
            ],
            [
             0.1111111111111111,
             "#46039f"
            ],
            [
             0.2222222222222222,
             "#7201a8"
            ],
            [
             0.3333333333333333,
             "#9c179e"
            ],
            [
             0.4444444444444444,
             "#bd3786"
            ],
            [
             0.5555555555555556,
             "#d8576b"
            ],
            [
             0.6666666666666666,
             "#ed7953"
            ],
            [
             0.7777777777777778,
             "#fb9f3a"
            ],
            [
             0.8888888888888888,
             "#fdca26"
            ],
            [
             1,
             "#f0f921"
            ]
           ]
          },
          "colorway": [
           "#636efa",
           "#EF553B",
           "#00cc96",
           "#ab63fa",
           "#FFA15A",
           "#19d3f3",
           "#FF6692",
           "#B6E880",
           "#FF97FF",
           "#FECB52"
          ],
          "font": {
           "color": "#2a3f5f"
          },
          "geo": {
           "bgcolor": "white",
           "lakecolor": "white",
           "landcolor": "#E5ECF6",
           "showlakes": true,
           "showland": true,
           "subunitcolor": "white"
          },
          "hoverlabel": {
           "align": "left"
          },
          "hovermode": "closest",
          "mapbox": {
           "style": "light"
          },
          "paper_bgcolor": "white",
          "plot_bgcolor": "#E5ECF6",
          "polar": {
           "angularaxis": {
            "gridcolor": "white",
            "linecolor": "white",
            "ticks": ""
           },
           "bgcolor": "#E5ECF6",
           "radialaxis": {
            "gridcolor": "white",
            "linecolor": "white",
            "ticks": ""
           }
          },
          "scene": {
           "xaxis": {
            "backgroundcolor": "#E5ECF6",
            "gridcolor": "white",
            "gridwidth": 2,
            "linecolor": "white",
            "showbackground": true,
            "ticks": "",
            "zerolinecolor": "white"
           },
           "yaxis": {
            "backgroundcolor": "#E5ECF6",
            "gridcolor": "white",
            "gridwidth": 2,
            "linecolor": "white",
            "showbackground": true,
            "ticks": "",
            "zerolinecolor": "white"
           },
           "zaxis": {
            "backgroundcolor": "#E5ECF6",
            "gridcolor": "white",
            "gridwidth": 2,
            "linecolor": "white",
            "showbackground": true,
            "ticks": "",
            "zerolinecolor": "white"
           }
          },
          "shapedefaults": {
           "line": {
            "color": "#2a3f5f"
           }
          },
          "ternary": {
           "aaxis": {
            "gridcolor": "white",
            "linecolor": "white",
            "ticks": ""
           },
           "baxis": {
            "gridcolor": "white",
            "linecolor": "white",
            "ticks": ""
           },
           "bgcolor": "#E5ECF6",
           "caxis": {
            "gridcolor": "white",
            "linecolor": "white",
            "ticks": ""
           }
          },
          "title": {
           "x": 0.05
          },
          "xaxis": {
           "automargin": true,
           "gridcolor": "white",
           "linecolor": "white",
           "ticks": "",
           "title": {
            "standoff": 15
           },
           "zerolinecolor": "white",
           "zerolinewidth": 2
          },
          "yaxis": {
           "automargin": true,
           "gridcolor": "white",
           "linecolor": "white",
           "ticks": "",
           "title": {
            "standoff": 15
           },
           "zerolinecolor": "white",
           "zerolinewidth": 2
          }
         }
        },
        "title": {
         "text": "Days to Contain vs. Fire Year (log scale)"
        },
        "xaxis": {
         "anchor": "y",
         "domain": [
          0,
          1
         ],
         "title": {
          "text": "Fire Year"
         }
        },
        "yaxis": {
         "anchor": "x",
         "domain": [
          0,
          1
         ],
         "title": {
          "text": "Days to Contain (log scale)"
         },
         "type": "log"
        }
       }
      }
     },
     "metadata": {},
     "output_type": "display_data"
    }
   ],
   "source": [
    "import plotly.express as px\n",
    "\n",
    "# ── 1.  Filter to valid rows (and optional sanity bounds) ──────────────────────\n",
    "d = df.dropna(subset=[\"DAY_TO_CONT\", \"FIRE_YEAR\"]).copy()\n",
    "d = d[d[\"DAY_TO_CONT\"].between(0.1, 730)]          # 0.1–730 days\n",
    "\n",
    "# ── 2.  Scatter plot (log-y) with transparency ────────────────────────────────\n",
    "fig = px.scatter(\n",
    "    d,\n",
    "    x=\"FIRE_YEAR\",\n",
    "    y=\"DAY_TO_CONT\",\n",
    "    opacity=0.2,         # dense years appear darker\n",
    "    log_y=True,\n",
    "    trendline=\"lowess\",  # red smooth curve\n",
    "    trendline_color_override=\"red\",\n",
    "    title=\"Days to Contain vs. Fire Year (log scale)\"\n",
    ")\n",
    "\n",
    "fig.update_traces(marker=dict(size=4))             # small dots\n",
    "\n",
    "fig.update_layout(\n",
    "    xaxis_title=\"Fire Year\",\n",
    "    yaxis_title=\"Days to Contain (log scale)\",\n",
    "    height=500\n",
    ")\n",
    "\n",
    "fig.show()\n"
   ]
  },
  {
   "cell_type": "markdown",
   "id": "57abd6d4",
   "metadata": {},
   "source": [
    "## Trend of missing data?"
   ]
  },
  {
   "cell_type": "code",
   "execution_count": 6,
   "id": "002c7f38",
   "metadata": {},
   "outputs": [
    {
     "data": {
      "application/vnd.plotly.v1+json": {
       "config": {
        "plotlyServerURL": "https://plot.ly"
       },
       "data": [
        {
         "marker": {
          "color": "steelblue"
         },
         "name": "% Missing",
         "type": "bar",
         "x": {
          "bdata": "yAfJB8oHywfMB80HzgfPB9AH0QfSB9MH1AfVB9YH1wfYB9kH2gfbB9wH3QfeB98H",
          "dtype": "i2"
         },
         "y": {
          "bdata": "L7vsssuuQkB06G4O3c1BQMnaJWuXrENAgrl2YK4dQkDaL8SK0nhAQPB8XbHR0EtAGL7ONkHCTkC0l9BeQntPQDRJmyIyz01AhytMRTlkSUA5eqtuAkxJQCxkIQtZaElAIqmz4+7RTUBgBppfBppOQMbK8I0oME9AZRq2m+VJSkBaC6S1QFpQQClu0CvKxUpAaBK9ZxK9TUCiBsxBJ/c/QCRJkiRJkjxAlnKiILOpNkAwtgTf5q86QLDRuyLzpS1A",
          "dtype": "f8"
         }
        }
       ],
       "layout": {
        "height": 500,
        "margin": {
         "b": 60,
         "l": 60,
         "r": 40,
         "t": 60
        },
        "template": {
         "data": {
          "bar": [
           {
            "error_x": {
             "color": "#2a3f5f"
            },
            "error_y": {
             "color": "#2a3f5f"
            },
            "marker": {
             "line": {
              "color": "#E5ECF6",
              "width": 0.5
             },
             "pattern": {
              "fillmode": "overlay",
              "size": 10,
              "solidity": 0.2
             }
            },
            "type": "bar"
           }
          ],
          "barpolar": [
           {
            "marker": {
             "line": {
              "color": "#E5ECF6",
              "width": 0.5
             },
             "pattern": {
              "fillmode": "overlay",
              "size": 10,
              "solidity": 0.2
             }
            },
            "type": "barpolar"
           }
          ],
          "carpet": [
           {
            "aaxis": {
             "endlinecolor": "#2a3f5f",
             "gridcolor": "white",
             "linecolor": "white",
             "minorgridcolor": "white",
             "startlinecolor": "#2a3f5f"
            },
            "baxis": {
             "endlinecolor": "#2a3f5f",
             "gridcolor": "white",
             "linecolor": "white",
             "minorgridcolor": "white",
             "startlinecolor": "#2a3f5f"
            },
            "type": "carpet"
           }
          ],
          "choropleth": [
           {
            "colorbar": {
             "outlinewidth": 0,
             "ticks": ""
            },
            "type": "choropleth"
           }
          ],
          "contour": [
           {
            "colorbar": {
             "outlinewidth": 0,
             "ticks": ""
            },
            "colorscale": [
             [
              0,
              "#0d0887"
             ],
             [
              0.1111111111111111,
              "#46039f"
             ],
             [
              0.2222222222222222,
              "#7201a8"
             ],
             [
              0.3333333333333333,
              "#9c179e"
             ],
             [
              0.4444444444444444,
              "#bd3786"
             ],
             [
              0.5555555555555556,
              "#d8576b"
             ],
             [
              0.6666666666666666,
              "#ed7953"
             ],
             [
              0.7777777777777778,
              "#fb9f3a"
             ],
             [
              0.8888888888888888,
              "#fdca26"
             ],
             [
              1,
              "#f0f921"
             ]
            ],
            "type": "contour"
           }
          ],
          "contourcarpet": [
           {
            "colorbar": {
             "outlinewidth": 0,
             "ticks": ""
            },
            "type": "contourcarpet"
           }
          ],
          "heatmap": [
           {
            "colorbar": {
             "outlinewidth": 0,
             "ticks": ""
            },
            "colorscale": [
             [
              0,
              "#0d0887"
             ],
             [
              0.1111111111111111,
              "#46039f"
             ],
             [
              0.2222222222222222,
              "#7201a8"
             ],
             [
              0.3333333333333333,
              "#9c179e"
             ],
             [
              0.4444444444444444,
              "#bd3786"
             ],
             [
              0.5555555555555556,
              "#d8576b"
             ],
             [
              0.6666666666666666,
              "#ed7953"
             ],
             [
              0.7777777777777778,
              "#fb9f3a"
             ],
             [
              0.8888888888888888,
              "#fdca26"
             ],
             [
              1,
              "#f0f921"
             ]
            ],
            "type": "heatmap"
           }
          ],
          "histogram": [
           {
            "marker": {
             "pattern": {
              "fillmode": "overlay",
              "size": 10,
              "solidity": 0.2
             }
            },
            "type": "histogram"
           }
          ],
          "histogram2d": [
           {
            "colorbar": {
             "outlinewidth": 0,
             "ticks": ""
            },
            "colorscale": [
             [
              0,
              "#0d0887"
             ],
             [
              0.1111111111111111,
              "#46039f"
             ],
             [
              0.2222222222222222,
              "#7201a8"
             ],
             [
              0.3333333333333333,
              "#9c179e"
             ],
             [
              0.4444444444444444,
              "#bd3786"
             ],
             [
              0.5555555555555556,
              "#d8576b"
             ],
             [
              0.6666666666666666,
              "#ed7953"
             ],
             [
              0.7777777777777778,
              "#fb9f3a"
             ],
             [
              0.8888888888888888,
              "#fdca26"
             ],
             [
              1,
              "#f0f921"
             ]
            ],
            "type": "histogram2d"
           }
          ],
          "histogram2dcontour": [
           {
            "colorbar": {
             "outlinewidth": 0,
             "ticks": ""
            },
            "colorscale": [
             [
              0,
              "#0d0887"
             ],
             [
              0.1111111111111111,
              "#46039f"
             ],
             [
              0.2222222222222222,
              "#7201a8"
             ],
             [
              0.3333333333333333,
              "#9c179e"
             ],
             [
              0.4444444444444444,
              "#bd3786"
             ],
             [
              0.5555555555555556,
              "#d8576b"
             ],
             [
              0.6666666666666666,
              "#ed7953"
             ],
             [
              0.7777777777777778,
              "#fb9f3a"
             ],
             [
              0.8888888888888888,
              "#fdca26"
             ],
             [
              1,
              "#f0f921"
             ]
            ],
            "type": "histogram2dcontour"
           }
          ],
          "mesh3d": [
           {
            "colorbar": {
             "outlinewidth": 0,
             "ticks": ""
            },
            "type": "mesh3d"
           }
          ],
          "parcoords": [
           {
            "line": {
             "colorbar": {
              "outlinewidth": 0,
              "ticks": ""
             }
            },
            "type": "parcoords"
           }
          ],
          "pie": [
           {
            "automargin": true,
            "type": "pie"
           }
          ],
          "scatter": [
           {
            "fillpattern": {
             "fillmode": "overlay",
             "size": 10,
             "solidity": 0.2
            },
            "type": "scatter"
           }
          ],
          "scatter3d": [
           {
            "line": {
             "colorbar": {
              "outlinewidth": 0,
              "ticks": ""
             }
            },
            "marker": {
             "colorbar": {
              "outlinewidth": 0,
              "ticks": ""
             }
            },
            "type": "scatter3d"
           }
          ],
          "scattercarpet": [
           {
            "marker": {
             "colorbar": {
              "outlinewidth": 0,
              "ticks": ""
             }
            },
            "type": "scattercarpet"
           }
          ],
          "scattergeo": [
           {
            "marker": {
             "colorbar": {
              "outlinewidth": 0,
              "ticks": ""
             }
            },
            "type": "scattergeo"
           }
          ],
          "scattergl": [
           {
            "marker": {
             "colorbar": {
              "outlinewidth": 0,
              "ticks": ""
             }
            },
            "type": "scattergl"
           }
          ],
          "scattermap": [
           {
            "marker": {
             "colorbar": {
              "outlinewidth": 0,
              "ticks": ""
             }
            },
            "type": "scattermap"
           }
          ],
          "scattermapbox": [
           {
            "marker": {
             "colorbar": {
              "outlinewidth": 0,
              "ticks": ""
             }
            },
            "type": "scattermapbox"
           }
          ],
          "scatterpolar": [
           {
            "marker": {
             "colorbar": {
              "outlinewidth": 0,
              "ticks": ""
             }
            },
            "type": "scatterpolar"
           }
          ],
          "scatterpolargl": [
           {
            "marker": {
             "colorbar": {
              "outlinewidth": 0,
              "ticks": ""
             }
            },
            "type": "scatterpolargl"
           }
          ],
          "scatterternary": [
           {
            "marker": {
             "colorbar": {
              "outlinewidth": 0,
              "ticks": ""
             }
            },
            "type": "scatterternary"
           }
          ],
          "surface": [
           {
            "colorbar": {
             "outlinewidth": 0,
             "ticks": ""
            },
            "colorscale": [
             [
              0,
              "#0d0887"
             ],
             [
              0.1111111111111111,
              "#46039f"
             ],
             [
              0.2222222222222222,
              "#7201a8"
             ],
             [
              0.3333333333333333,
              "#9c179e"
             ],
             [
              0.4444444444444444,
              "#bd3786"
             ],
             [
              0.5555555555555556,
              "#d8576b"
             ],
             [
              0.6666666666666666,
              "#ed7953"
             ],
             [
              0.7777777777777778,
              "#fb9f3a"
             ],
             [
              0.8888888888888888,
              "#fdca26"
             ],
             [
              1,
              "#f0f921"
             ]
            ],
            "type": "surface"
           }
          ],
          "table": [
           {
            "cells": {
             "fill": {
              "color": "#EBF0F8"
             },
             "line": {
              "color": "white"
             }
            },
            "header": {
             "fill": {
              "color": "#C8D4E3"
             },
             "line": {
              "color": "white"
             }
            },
            "type": "table"
           }
          ]
         },
         "layout": {
          "annotationdefaults": {
           "arrowcolor": "#2a3f5f",
           "arrowhead": 0,
           "arrowwidth": 1
          },
          "autotypenumbers": "strict",
          "coloraxis": {
           "colorbar": {
            "outlinewidth": 0,
            "ticks": ""
           }
          },
          "colorscale": {
           "diverging": [
            [
             0,
             "#8e0152"
            ],
            [
             0.1,
             "#c51b7d"
            ],
            [
             0.2,
             "#de77ae"
            ],
            [
             0.3,
             "#f1b6da"
            ],
            [
             0.4,
             "#fde0ef"
            ],
            [
             0.5,
             "#f7f7f7"
            ],
            [
             0.6,
             "#e6f5d0"
            ],
            [
             0.7,
             "#b8e186"
            ],
            [
             0.8,
             "#7fbc41"
            ],
            [
             0.9,
             "#4d9221"
            ],
            [
             1,
             "#276419"
            ]
           ],
           "sequential": [
            [
             0,
             "#0d0887"
            ],
            [
             0.1111111111111111,
             "#46039f"
            ],
            [
             0.2222222222222222,
             "#7201a8"
            ],
            [
             0.3333333333333333,
             "#9c179e"
            ],
            [
             0.4444444444444444,
             "#bd3786"
            ],
            [
             0.5555555555555556,
             "#d8576b"
            ],
            [
             0.6666666666666666,
             "#ed7953"
            ],
            [
             0.7777777777777778,
             "#fb9f3a"
            ],
            [
             0.8888888888888888,
             "#fdca26"
            ],
            [
             1,
             "#f0f921"
            ]
           ],
           "sequentialminus": [
            [
             0,
             "#0d0887"
            ],
            [
             0.1111111111111111,
             "#46039f"
            ],
            [
             0.2222222222222222,
             "#7201a8"
            ],
            [
             0.3333333333333333,
             "#9c179e"
            ],
            [
             0.4444444444444444,
             "#bd3786"
            ],
            [
             0.5555555555555556,
             "#d8576b"
            ],
            [
             0.6666666666666666,
             "#ed7953"
            ],
            [
             0.7777777777777778,
             "#fb9f3a"
            ],
            [
             0.8888888888888888,
             "#fdca26"
            ],
            [
             1,
             "#f0f921"
            ]
           ]
          },
          "colorway": [
           "#636efa",
           "#EF553B",
           "#00cc96",
           "#ab63fa",
           "#FFA15A",
           "#19d3f3",
           "#FF6692",
           "#B6E880",
           "#FF97FF",
           "#FECB52"
          ],
          "font": {
           "color": "#2a3f5f"
          },
          "geo": {
           "bgcolor": "white",
           "lakecolor": "white",
           "landcolor": "#E5ECF6",
           "showlakes": true,
           "showland": true,
           "subunitcolor": "white"
          },
          "hoverlabel": {
           "align": "left"
          },
          "hovermode": "closest",
          "mapbox": {
           "style": "light"
          },
          "paper_bgcolor": "white",
          "plot_bgcolor": "#E5ECF6",
          "polar": {
           "angularaxis": {
            "gridcolor": "white",
            "linecolor": "white",
            "ticks": ""
           },
           "bgcolor": "#E5ECF6",
           "radialaxis": {
            "gridcolor": "white",
            "linecolor": "white",
            "ticks": ""
           }
          },
          "scene": {
           "xaxis": {
            "backgroundcolor": "#E5ECF6",
            "gridcolor": "white",
            "gridwidth": 2,
            "linecolor": "white",
            "showbackground": true,
            "ticks": "",
            "zerolinecolor": "white"
           },
           "yaxis": {
            "backgroundcolor": "#E5ECF6",
            "gridcolor": "white",
            "gridwidth": 2,
            "linecolor": "white",
            "showbackground": true,
            "ticks": "",
            "zerolinecolor": "white"
           },
           "zaxis": {
            "backgroundcolor": "#E5ECF6",
            "gridcolor": "white",
            "gridwidth": 2,
            "linecolor": "white",
            "showbackground": true,
            "ticks": "",
            "zerolinecolor": "white"
           }
          },
          "shapedefaults": {
           "line": {
            "color": "#2a3f5f"
           }
          },
          "ternary": {
           "aaxis": {
            "gridcolor": "white",
            "linecolor": "white",
            "ticks": ""
           },
           "baxis": {
            "gridcolor": "white",
            "linecolor": "white",
            "ticks": ""
           },
           "bgcolor": "#E5ECF6",
           "caxis": {
            "gridcolor": "white",
            "linecolor": "white",
            "ticks": ""
           }
          },
          "title": {
           "x": 0.05
          },
          "xaxis": {
           "automargin": true,
           "gridcolor": "white",
           "linecolor": "white",
           "ticks": "",
           "title": {
            "standoff": 15
           },
           "zerolinecolor": "white",
           "zerolinewidth": 2
          },
          "yaxis": {
           "automargin": true,
           "gridcolor": "white",
           "linecolor": "white",
           "ticks": "",
           "title": {
            "standoff": 15
           },
           "zerolinecolor": "white",
           "zerolinewidth": 2
          }
         }
        },
        "title": {
         "text": "% of Fires Lacking Containment-Time Data by Year"
        },
        "xaxis": {
         "title": {
          "text": "Fire Year"
         }
        },
        "yaxis": {
         "range": [
          0,
          100
         ],
         "ticksuffix": " %",
         "title": {
          "text": "% DAY_TO_CONT missing"
         }
        }
       }
      }
     },
     "metadata": {},
     "output_type": "display_data"
    }
   ],
   "source": [
    "# 1. Compute % missing per year\n",
    "year_gap = (\n",
    "    df\n",
    "    .groupby(\"FIRE_YEAR\")[\"DAY_TO_CONT\"]\n",
    "    .apply(lambda s: s.isna().mean()*100)        # % instead of proportion\n",
    "    .reset_index(name=\"pct_missing\")\n",
    "    .sort_values(\"FIRE_YEAR\")\n",
    ")\n",
    "\n",
    "# 2. Bar chart\n",
    "\n",
    "fig = go.Figure()\n",
    "\n",
    "fig.add_trace(go.Bar(                           # change to go.Scatter with mode = 'lines+markers' if you prefer a line\n",
    "    x=year_gap[\"FIRE_YEAR\"],\n",
    "    y=year_gap[\"pct_missing\"],\n",
    "    name=\"% Missing\",\n",
    "    marker=dict(color=\"steelblue\")\n",
    "))\n",
    "\n",
    "fig.update_layout(\n",
    "    title=\"% of Fires Lacking Containment-Time Data by Year\",\n",
    "    xaxis_title=\"Fire Year\",\n",
    "    yaxis_title=\"% DAY_TO_CONT missing\",\n",
    "    yaxis=dict(\n",
    "        ticksuffix=\" %\",\n",
    "        range=[0, 100]\n",
    "    ),\n",
    "    height=500,\n",
    "    margin=dict(l=60, r=40, t=60, b=60)\n",
    ")\n",
    "\n",
    "fig.show()"
   ]
  },
  {
   "cell_type": "markdown",
   "id": "e3f04d95",
   "metadata": {},
   "source": [
    "## 4 Next step?\n"
   ]
  }
 ],
 "metadata": {
  "kernelspec": {
   "display_name": "cosmos",
   "language": "python",
   "name": "python3"
  },
  "language_info": {
   "codemirror_mode": {
    "name": "ipython",
    "version": 3
   },
   "file_extension": ".py",
   "mimetype": "text/x-python",
   "name": "python",
   "nbconvert_exporter": "python",
   "pygments_lexer": "ipython3",
   "version": "3.12.11"
  }
 },
 "nbformat": 4,
 "nbformat_minor": 5
}

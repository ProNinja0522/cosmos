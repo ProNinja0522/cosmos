{
 "cells": [
  {
   "cell_type": "markdown",
   "id": "313dc321",
   "metadata": {},
   "source": [
    "# Object-Oriented Programming (OOP) in Python"
   ]
  },
  {
   "cell_type": "markdown",
   "id": "b728e9fb",
   "metadata": {},
   "source": [
    "## Class and Instance"
   ]
  },
  {
   "cell_type": "markdown",
   "id": "62c9022c",
   "metadata": {},
   "source": [
    "**Object-Oriented Programming (OOP)** is a way of organizing code by grouping related data and actions together into *objects*.\n",
    "- Class: A blueprint of creating objects (cookie-cutter)\n",
    "- Instance: A specific object creating from a class (cookie)"
   ]
  },
  {
   "cell_type": "code",
   "execution_count": 1,
   "id": "5d1183db",
   "metadata": {},
   "outputs": [],
   "source": [
    "# Naming convention: Class name should be uppercase.\n",
    "class Dog:\n",
    "    pass # this is a placeholder"
   ]
  },
  {
   "cell_type": "code",
   "execution_count": 2,
   "id": "bd35e389",
   "metadata": {},
   "outputs": [],
   "source": [
    "# Naming convention: Instance name should be lowercase.\n",
    "dog1 = Dog()\n",
    "dog2 = Dog()"
   ]
  },
  {
   "cell_type": "markdown",
   "id": "16becce6",
   "metadata": {},
   "source": [
    "The class type can be checked as follows."
   ]
  },
  {
   "cell_type": "code",
   "execution_count": 3,
   "id": "0b8f5650",
   "metadata": {},
   "outputs": [
    {
     "name": "stdout",
     "output_type": "stream",
     "text": [
      "<class '__main__.Dog'>\n",
      "<class '__main__.Dog'>\n"
     ]
    }
   ],
   "source": [
    "print(type(dog1))\n",
    "print(type(dog2))"
   ]
  },
  {
   "cell_type": "markdown",
   "id": "32d06b4d",
   "metadata": {},
   "source": [
    "Python classes can have **attributes** (information, data) and **methods** (action, function). Let's study one by one."
   ]
  },
  {
   "cell_type": "markdown",
   "id": "d9ca73fc",
   "metadata": {},
   "source": [
    "## Attributes"
   ]
  },
  {
   "cell_type": "markdown",
   "id": "c329e5a8",
   "metadata": {},
   "source": [
    "An **attribute** is a piece of information about an object. There are two types of attributes:\n",
    "- class attribute: an attribute that is shared by all instances of class.\n",
    "- instance attribute: an attribute that belongs to the specifid instance.\n",
    "\n",
    "In python, the syntax is as follows:\n",
    "```python\n",
    "class CLASSNAME:\n",
    "    CLASS_ATTRIBUTE = ...\n",
    "    def __init__(self, ARGUMENT_1, ARGUMENT_2, ...):\n",
    "        self.INSTANCE_ATTRIBUTE_1 = ARGUMENT_1\n",
    "        self.INSTANCE_ATTRIBUTE_2 = ARGUMENT_2\n",
    "        ...\n",
    "```\n",
    "Here, `self` means **this specific object**. It is how the object refers to itself inside the class. It must be the first parameter of any method that belongs to the class."
   ]
  },
  {
   "cell_type": "code",
   "execution_count": 4,
   "id": "4b4fcc38",
   "metadata": {},
   "outputs": [],
   "source": [
    "class Dog:\n",
    "    is_animal = True # class attribute\n",
    "    scientific_name = \"Canis lupus familiaris\" # class attribute\n",
    "    def __init__(self, name, age, breed): # __init__ is a special method called constructor\n",
    "        self.name = name # instance attributes\n",
    "        self.age = age # instance attributes\n",
    "        self.breed = breed # instance attributes"
   ]
  },
  {
   "cell_type": "code",
   "execution_count": 5,
   "id": "4c67dd13",
   "metadata": {},
   "outputs": [],
   "source": [
    "mydog = Dog(name = \"Pepper\", age = 3, breed = \"Poodle\")\n",
    "yourdog = Dog(name = \"Tofu\", age = 2, breed = \"Chihuahua\")"
   ]
  },
  {
   "cell_type": "markdown",
   "id": "22594dfe",
   "metadata": {},
   "source": [
    "#### Accessing attributes\n",
    "You can access to attribute by `instance.attribute_name`. Note that we don't have any parenthesis at the end."
   ]
  },
  {
   "cell_type": "code",
   "execution_count": 6,
   "id": "21adb36e",
   "metadata": {},
   "outputs": [
    {
     "name": "stdout",
     "output_type": "stream",
     "text": [
      "Canis lupus familiaris\n",
      "Canis lupus familiaris\n"
     ]
    }
   ],
   "source": [
    "# Class attributes\n",
    "print(mydog.scientific_name)\n",
    "print(yourdog.scientific_name)"
   ]
  },
  {
   "cell_type": "code",
   "execution_count": 7,
   "id": "1ed9e4b4",
   "metadata": {},
   "outputs": [
    {
     "name": "stdout",
     "output_type": "stream",
     "text": [
      "Pepper 3 Poodle\n",
      "Tofu 2 Chihuahua\n"
     ]
    }
   ],
   "source": [
    "# Instance attributes\n",
    "print(mydog.name, mydog.age, mydog.breed)\n",
    "print(yourdog.name, yourdog.age, yourdog.breed)"
   ]
  },
  {
   "cell_type": "markdown",
   "id": "f5dc52b7",
   "metadata": {},
   "source": [
    "#### Keyword vs. Positional"
   ]
  },
  {
   "cell_type": "code",
   "execution_count": 8,
   "id": "5290c4ca",
   "metadata": {},
   "outputs": [
    {
     "name": "stdout",
     "output_type": "stream",
     "text": [
      "Buddy 5 Beagle\n"
     ]
    }
   ],
   "source": [
    "somedog = Dog(\"Buddy\", 5, \"Beagle\")\n",
    "print(somedog.name, somedog.age, somedog.breed)"
   ]
  },
  {
   "cell_type": "code",
   "execution_count": 9,
   "id": "83451d3c",
   "metadata": {},
   "outputs": [
    {
     "name": "stdout",
     "output_type": "stream",
     "text": [
      "5 Buddy Beagle\n"
     ]
    }
   ],
   "source": [
    "somedog = Dog(5, \"Buddy\", \"Beagle\")\n",
    "print(somedog.name, somedog.age, somedog.breed)"
   ]
  },
  {
   "cell_type": "code",
   "execution_count": 10,
   "id": "5e4a4423",
   "metadata": {},
   "outputs": [
    {
     "name": "stdout",
     "output_type": "stream",
     "text": [
      "Buddy 5 Beagle\n"
     ]
    }
   ],
   "source": [
    "somedog = Dog(age = 5, name = \"Buddy\", breed = \"Beagle\")\n",
    "print(somedog.name, somedog.age, somedog.breed)"
   ]
  },
  {
   "cell_type": "code",
   "execution_count": 11,
   "id": "3406e52e",
   "metadata": {},
   "outputs": [
    {
     "ename": "SyntaxError",
     "evalue": "positional argument follows keyword argument (2499983003.py, line 3)",
     "output_type": "error",
     "traceback": [
      "  \u001b[36mCell\u001b[39m\u001b[36m \u001b[39m\u001b[32mIn[11]\u001b[39m\u001b[32m, line 3\u001b[39m\n\u001b[31m    \u001b[39m\u001b[31msomedog = Dog(age =5, \"Buddy\", breed = \"Beagle\")\u001b[39m\n                                                   ^\n\u001b[31mSyntaxError\u001b[39m\u001b[31m:\u001b[39m positional argument follows keyword argument\n"
     ]
    }
   ],
   "source": [
    "# (Warning!) Note that positional arguments must come before keyword arguments.\n",
    "#  This will raise an error:\n",
    "somedog = Dog(age =5, \"Buddy\", breed = \"Beagle\")"
   ]
  },
  {
   "cell_type": "code",
   "execution_count": 12,
   "id": "6acff934",
   "metadata": {},
   "outputs": [
    {
     "name": "stdout",
     "output_type": "stream",
     "text": [
      "Buddy 5 Beagle\n"
     ]
    }
   ],
   "source": [
    "# This is okay:\n",
    "somedog = Dog(\"Buddy\", breed = \"Beagle\", age =5)\n",
    "print(somedog.name, somedog.age, somedog.breed)"
   ]
  },
  {
   "cell_type": "markdown",
   "id": "80c20d47",
   "metadata": {},
   "source": [
    "#### Optional instance attributes"
   ]
  },
  {
   "cell_type": "code",
   "execution_count": 13,
   "id": "d60fd836",
   "metadata": {},
   "outputs": [],
   "source": [
    "class Dog:\n",
    "    scientific_name = \"Canis lupus familiaris\" # class attribute\n",
    "    def __init__(self, name, age, breed, has_owner = True): # __init__ is a special method called constructor\n",
    "        self.name = name # instance attributes\n",
    "        self.age = age # instance attributes\n",
    "        self.breed = breed # instance attributes\n",
    "        self.has_owner = has_owner # instance attributes"
   ]
  },
  {
   "cell_type": "code",
   "execution_count": 14,
   "id": "19624e5a",
   "metadata": {},
   "outputs": [
    {
     "name": "stdout",
     "output_type": "stream",
     "text": [
      "Pepper 3 Poodle True\n"
     ]
    }
   ],
   "source": [
    "mydog = Dog(\"Pepper\", 3, \"Poodle\")\n",
    "print(mydog.name, mydog.age, mydog.breed, mydog.has_owner)"
   ]
  },
  {
   "cell_type": "code",
   "execution_count": 15,
   "id": "a631d48d",
   "metadata": {},
   "outputs": [
    {
     "name": "stdout",
     "output_type": "stream",
     "text": [
      "Unknown 4 Golden Retriever False\n"
     ]
    }
   ],
   "source": [
    "unknowndog = Dog(\"Unknown\", 4, \"Golden Retriever\", has_owner = False)\n",
    "print(unknowndog.name, unknowndog.age, unknowndog.breed, unknowndog.has_owner)"
   ]
  },
  {
   "cell_type": "markdown",
   "id": "f682a00d",
   "metadata": {},
   "source": [
    "Note that any attributes without default values must be assigned."
   ]
  },
  {
   "cell_type": "code",
   "execution_count": 16,
   "id": "6ac7e017",
   "metadata": {},
   "outputs": [
    {
     "ename": "TypeError",
     "evalue": "Dog.__init__() missing 1 required positional argument: 'breed'",
     "output_type": "error",
     "traceback": [
      "\u001b[31m---------------------------------------------------------------------------\u001b[39m",
      "\u001b[31mTypeError\u001b[39m                                 Traceback (most recent call last)",
      "\u001b[36mCell\u001b[39m\u001b[36m \u001b[39m\u001b[32mIn[16]\u001b[39m\u001b[32m, line 1\u001b[39m\n\u001b[32m----> \u001b[39m\u001b[32m1\u001b[39m somedog = \u001b[43mDog\u001b[49m\u001b[43m(\u001b[49m\u001b[33;43m\"\u001b[39;49m\u001b[33;43mPepper\u001b[39;49m\u001b[33;43m\"\u001b[39;49m\u001b[43m,\u001b[49m\u001b[43m \u001b[49m\u001b[32;43m3\u001b[39;49m\u001b[43m)\u001b[49m\n",
      "\u001b[31mTypeError\u001b[39m: Dog.__init__() missing 1 required positional argument: 'breed'"
     ]
    }
   ],
   "source": [
    "somedog = Dog(\"Pepper\", 3)"
   ]
  },
  {
   "cell_type": "markdown",
   "id": "5498aeff",
   "metadata": {},
   "source": [
    "## Methods\n",
    "A method is a function that is defined inside a class and is called on an object (instance) of that class.\n",
    "```python\n",
    "class ClassName:\n",
    "    def method_name(self, other_arguments):\n",
    "        # code block\n",
    "        ...\n",
    "```\n",
    "Again, `self` must be the first argument. The attributes can be called by `self.ATTRIBUTE`."
   ]
  },
  {
   "cell_type": "code",
   "execution_count": 17,
   "id": "e7ed7934",
   "metadata": {},
   "outputs": [],
   "source": [
    "class Dog:\n",
    "    scientific_name = \"Canis lupus familiaris\" # class attribute\n",
    "    def __init__(self, name, age, breed, has_owner = True): # __init__ is a special method called constructor\n",
    "        self.name = name # instance attributes\n",
    "        self.age = age # instance attributes\n",
    "        self.breed = breed # instance attributes\n",
    "        self.has_owner = has_owner # instance attributes\n",
    "\n",
    "    def bark(self, sound, times=1):\n",
    "        print(f\"{self.name} says: {(sound + '! ') * times}\")"
   ]
  },
  {
   "cell_type": "markdown",
   "id": "2b144924",
   "metadata": {},
   "source": [
    "In Python, methods should be called with parentheses `()` to execute them."
   ]
  },
  {
   "cell_type": "code",
   "execution_count": 18,
   "id": "8aa6cea9",
   "metadata": {},
   "outputs": [
    {
     "name": "stdout",
     "output_type": "stream",
     "text": [
      "Pepper says: Woof! \n"
     ]
    }
   ],
   "source": [
    "mydog = Dog(\"Pepper\", 3, \"Poodle\")\n",
    "mydog.bark(\"Woof\")"
   ]
  },
  {
   "cell_type": "code",
   "execution_count": 19,
   "id": "8a779f1f",
   "metadata": {},
   "outputs": [
    {
     "name": "stdout",
     "output_type": "stream",
     "text": [
      "Tofu says: Yip! Yip! Yip! \n"
     ]
    }
   ],
   "source": [
    "yourdog = Dog(\"Tofu\", 2, \"Chihuahua\")\n",
    "yourdog.bark(\"Yip\", 3)"
   ]
  },
  {
   "cell_type": "markdown",
   "id": "81c094c8",
   "metadata": {},
   "source": [
    "Methods can be used to update the attributes."
   ]
  },
  {
   "cell_type": "code",
   "execution_count": 20,
   "id": "38af0f0f",
   "metadata": {},
   "outputs": [],
   "source": [
    "class Dog:\n",
    "    scientific_name = \"Canis lupus familiaris\" # class attribute\n",
    "    def __init__(self, name, age, breed, has_owner = True): # __init__ is a special method called constructor\n",
    "        self.name = name # instance attributes\n",
    "        self.age = age # instance attributes\n",
    "        self.breed = breed # instance attributes\n",
    "        self.has_owner = has_owner # instance attributes\n",
    "\n",
    "    def bark(self, sound, times=1):\n",
    "        print(f\"{self.name} says: {(sound + '! ') * times}\")\n",
    "    \n",
    "    def abandon(self):  # <- method with no arguments\n",
    "        print(f\"{self.name} has been abandoned...\")\n",
    "        self.name = \"Unknown\"\n",
    "        self.has_owner = False"
   ]
  },
  {
   "cell_type": "code",
   "execution_count": 21,
   "id": "54a4e229",
   "metadata": {},
   "outputs": [
    {
     "name": "stdout",
     "output_type": "stream",
     "text": [
      "Tofu has been abandoned...\n"
     ]
    }
   ],
   "source": [
    "yourdog = Dog(\"Tofu\", 2, \"Chihuahua\")\n",
    "yourdog.abandon()"
   ]
  },
  {
   "cell_type": "code",
   "execution_count": 22,
   "id": "cc7d9345",
   "metadata": {},
   "outputs": [
    {
     "name": "stdout",
     "output_type": "stream",
     "text": [
      "Unknown False\n"
     ]
    }
   ],
   "source": [
    "print(yourdog.name, yourdog.has_owner)"
   ]
  },
  {
   "cell_type": "markdown",
   "id": "085b087b",
   "metadata": {},
   "source": [
    "## Subclass"
   ]
  },
  {
   "cell_type": "markdown",
   "id": "59bce561",
   "metadata": {},
   "source": [
    "- A **subclass** is a class that inherits from another class, called the **parent** or **superclass**.\n",
    "- It reuses the parent’s code but can also add new attributes or methods.\n",
    "- Subclasses help organize code by creating specialized versions of more general classes.\n",
    "\n",
    "Python syntax for creating a subclass:\n",
    "```python\n",
    "class SubClassName(ParentClassName):\n",
    "    SUBCLASS_CLASS_ATTIBUTES = ...\n",
    "\n",
    "    def __init__(self, ...):\n",
    "        super().__init__(...) # call parent class' constructor\n",
    "        SUBCLASS_INSTANT_ATTRIBUTES = ... # subclass-specific initialization\n",
    "\n",
    "    ... # additional methods\n",
    "```"
   ]
  },
  {
   "cell_type": "code",
   "execution_count": 23,
   "id": "6f1aab74",
   "metadata": {},
   "outputs": [],
   "source": [
    "class Poodle(Dog):\n",
    "    available_styles = [\n",
    "        \"Continental Clip\",\n",
    "        \"English Saddle Clip\",\n",
    "        \"Puppy Clip\",\n",
    "        \"Lamb Clip\",\n",
    "        \"Sporting Clip\"\n",
    "    ] # class attribute\n",
    "    def __init__(self, name, age, style=\"Puppy Clip\", has_owner=True):\n",
    "        super().__init__(name, age, breed=\"Poodle\", has_owner=has_owner)\n",
    "        self.style = style  # instance attribute\n",
    "\n",
    "    def change_style(self, new_style):\n",
    "        if new_style in Poodle.available_styles:\n",
    "            print(f\"{self.name}'s haircut is changed to '{new_style}' style.\")\n",
    "            self.style = new_style\n",
    "        else:\n",
    "            print(f\"Style '{new_style}' is not available.\")"
   ]
  },
  {
   "cell_type": "markdown",
   "id": "41638d2a",
   "metadata": {},
   "source": [
    "- `super()` is used to call a method from the parent class. \n",
    "- In this case, `super().__init__()` lets the `Poodle` class reuse the `__init__()` method from `Dog`, so we don’t have to rewrite code for `name`, `age`, and `has_owner`."
   ]
  },
  {
   "cell_type": "code",
   "execution_count": 24,
   "id": "8519c0df",
   "metadata": {},
   "outputs": [
    {
     "name": "stdout",
     "output_type": "stream",
     "text": [
      "Poodle\n"
     ]
    }
   ],
   "source": [
    "mydog = Poodle(\"Pepper\", 3, style=\"Continental Clip\")\n",
    "print(mydog.breed)"
   ]
  },
  {
   "cell_type": "code",
   "execution_count": 25,
   "id": "76f3698b",
   "metadata": {},
   "outputs": [
    {
     "name": "stdout",
     "output_type": "stream",
     "text": [
      "<class '__main__.Poodle'>\n",
      "True\n",
      "True\n"
     ]
    }
   ],
   "source": [
    "print(type(mydog))\n",
    "print(isinstance(mydog, Poodle))\n",
    "print(isinstance(mydog, Dog)) # isinstance() works with inheritance"
   ]
  },
  {
   "cell_type": "code",
   "execution_count": 26,
   "id": "4fb8d53f",
   "metadata": {},
   "outputs": [
    {
     "name": "stdout",
     "output_type": "stream",
     "text": [
      "Pepper's haircut is changed to 'Lamb Clip' style.\n",
      "Lamb Clip\n"
     ]
    }
   ],
   "source": [
    "mydog.change_style(\"Lamb Clip\")\n",
    "print(mydog.style)"
   ]
  },
  {
   "cell_type": "code",
   "execution_count": 27,
   "id": "3508d84a",
   "metadata": {},
   "outputs": [
    {
     "name": "stdout",
     "output_type": "stream",
     "text": [
      "Style 'Poodle Noodle' is not available.\n",
      "Lamb Clip\n"
     ]
    }
   ],
   "source": [
    "mydog.change_style(\"Poodle Noodle\")\n",
    "print(mydog.style)"
   ]
  },
  {
   "cell_type": "code",
   "execution_count": 28,
   "id": "5215c73f",
   "metadata": {},
   "outputs": [
    {
     "name": "stdout",
     "output_type": "stream",
     "text": [
      "Pepper says: Woof! Woof! \n"
     ]
    }
   ],
   "source": [
    "mydog.bark(\"Woof\", 2) # we can still use parent class methods"
   ]
  },
  {
   "cell_type": "code",
   "execution_count": 29,
   "id": "e3f1f9ca",
   "metadata": {},
   "outputs": [
    {
     "ename": "AttributeError",
     "evalue": "'Dog' object has no attribute 'change_style'",
     "output_type": "error",
     "traceback": [
      "\u001b[31m---------------------------------------------------------------------------\u001b[39m",
      "\u001b[31mAttributeError\u001b[39m                            Traceback (most recent call last)",
      "\u001b[36mCell\u001b[39m\u001b[36m \u001b[39m\u001b[32mIn[29]\u001b[39m\u001b[32m, line 2\u001b[39m\n\u001b[32m      1\u001b[39m yourdog = Dog(\u001b[33m\"\u001b[39m\u001b[33mTofu\u001b[39m\u001b[33m\"\u001b[39m, \u001b[32m2\u001b[39m, \u001b[33m\"\u001b[39m\u001b[33mChihuahua\u001b[39m\u001b[33m\"\u001b[39m)\n\u001b[32m----> \u001b[39m\u001b[32m2\u001b[39m \u001b[43myourdog\u001b[49m\u001b[43m.\u001b[49m\u001b[43mchange_style\u001b[49m(\u001b[33m\"\u001b[39m\u001b[33mLamb Clip\u001b[39m\u001b[33m\"\u001b[39m) \u001b[38;5;66;03m# this will raise an error since Dog class has no method change_style()\u001b[39;00m\n",
      "\u001b[31mAttributeError\u001b[39m: 'Dog' object has no attribute 'change_style'"
     ]
    }
   ],
   "source": [
    "yourdog = Dog(\"Tofu\", 2, \"Chihuahua\")\n",
    "yourdog.change_style(\"Lamb Clip\") # this will raise an error since Dog class has no method change_style()"
   ]
  },
  {
   "cell_type": "markdown",
   "id": "b8ca3b62",
   "metadata": {},
   "source": [
    "## More...\n",
    "Some topics not covered about class:\n",
    "- Private attributes\n",
    "- Special methods (`__str__`, `__repr__`)\n",
    "- Decorator\n",
    "- ...\n",
    "\n",
    "---"
   ]
  },
  {
   "cell_type": "markdown",
   "id": "604bc481",
   "metadata": {},
   "source": [
    "# Real Examples (`pandas`)"
   ]
  },
  {
   "cell_type": "markdown",
   "id": "83621e67",
   "metadata": {},
   "source": [
    "Basically, each Python library defines one or more **core** classes that represent its core functionality, along with additional utility functions that support or extend those core features. \n",
    "\n",
    "Let’s take a closer look at the `pandas` library from this point of view."
   ]
  },
  {
   "cell_type": "markdown",
   "id": "039eae8e",
   "metadata": {},
   "source": [
    "**Core classes**\n",
    "- `Index`: Class that labels rows or columns\n",
    "- `Series`: 1D labeled array\n",
    "- `DataFrame`: 2D labeled array"
   ]
  },
  {
   "cell_type": "markdown",
   "id": "301c47c0",
   "metadata": {},
   "source": [
    "More specifically, the class hierarchy in pandas can be summarized as follows:\n",
    "\n",
    "```text\n",
    "NDFrame: collection of data\n",
    " ├── Series: 1D array\n",
    " └── DataFrame: 2D array (two Index classes (row/column) and multiple Series classes)\n",
    "\n",
    " Index: labels used to identify rows or columns\n",
    " ├── RangeIndex\n",
    " ├── DatetimeIndex\n",
    " ├── MultiIndex\n",
    " └── ...\n",
    " ```"
   ]
  },
  {
   "cell_type": "code",
   "execution_count": 30,
   "id": "6b22e120",
   "metadata": {},
   "outputs": [],
   "source": [
    "import pandas as pd"
   ]
  },
  {
   "cell_type": "markdown",
   "id": "be7de67f",
   "metadata": {},
   "source": [
    "### `DataFrame`"
   ]
  },
  {
   "cell_type": "code",
   "execution_count": 31,
   "id": "a7676fed",
   "metadata": {},
   "outputs": [],
   "source": [
    "s = pd.Series(data = [1,2,3], index = ['a','b','c'])"
   ]
  },
  {
   "cell_type": "code",
   "execution_count": 32,
   "id": "bc11d9f5",
   "metadata": {},
   "outputs": [
    {
     "name": "stdout",
     "output_type": "stream",
     "text": [
      "<class 'pandas.core.series.Series'>\n"
     ]
    }
   ],
   "source": [
    "print(type(s))"
   ]
  },
  {
   "cell_type": "code",
   "execution_count": 33,
   "id": "e447b663",
   "metadata": {},
   "outputs": [
    {
     "name": "stdout",
     "output_type": "stream",
     "text": [
      "Index(['a', 'b', 'c'], dtype='object')\n",
      "<class 'pandas.core.indexes.base.Index'>\n"
     ]
    }
   ],
   "source": [
    "print(s.index)\n",
    "print(type(s.index))"
   ]
  },
  {
   "cell_type": "code",
   "execution_count": 34,
   "id": "48be8aec",
   "metadata": {},
   "outputs": [],
   "source": [
    "df = pd.DataFrame(data = {\"A\": [1,2,3], \"B\": [4,5,6]})"
   ]
  },
  {
   "cell_type": "code",
   "execution_count": 35,
   "id": "dfc5a394",
   "metadata": {},
   "outputs": [
    {
     "name": "stdout",
     "output_type": "stream",
     "text": [
      "<class 'pandas.core.frame.DataFrame'>\n"
     ]
    }
   ],
   "source": [
    "print(type(df))"
   ]
  },
  {
   "cell_type": "code",
   "execution_count": 36,
   "id": "d3c1d379",
   "metadata": {},
   "outputs": [
    {
     "name": "stdout",
     "output_type": "stream",
     "text": [
      "## Rows\n",
      "RangeIndex(start=0, stop=3, step=1)\n",
      "<class 'pandas.core.indexes.range.RangeIndex'>\n",
      "--------------------------------------------------\n",
      "## Columns\n",
      "Index(['A', 'B'], dtype='object')\n",
      "<class 'pandas.core.indexes.base.Index'>\n"
     ]
    }
   ],
   "source": [
    "print(\"## Rows\")\n",
    "print(df.index)\n",
    "print(type(df.index))\n",
    "\n",
    "print(\"-\"*50)\n",
    "\n",
    "print(\"## Columns\")\n",
    "print(df.columns)\n",
    "print(type(df.columns))"
   ]
  },
  {
   "cell_type": "markdown",
   "id": "18c84467",
   "metadata": {},
   "source": [
    "#### Attributes and methods of `DataFrame`"
   ]
  },
  {
   "cell_type": "markdown",
   "id": "9cdb3089",
   "metadata": {},
   "source": [
    "Class attibutes"
   ]
  },
  {
   "cell_type": "code",
   "execution_count": 37,
   "id": "babc2341",
   "metadata": {},
   "outputs": [
    {
     "data": {
      "text/plain": [
       "2"
      ]
     },
     "execution_count": 37,
     "metadata": {},
     "output_type": "execute_result"
    }
   ],
   "source": [
    "df.ndim # number of dimensions"
   ]
  },
  {
   "cell_type": "markdown",
   "id": "91ab364d",
   "metadata": {},
   "source": [
    "Instance attributes"
   ]
  },
  {
   "cell_type": "code",
   "execution_count": 38,
   "id": "79cc6ffd",
   "metadata": {},
   "outputs": [
    {
     "data": {
      "text/plain": [
       "(3, 2)"
      ]
     },
     "execution_count": 38,
     "metadata": {},
     "output_type": "execute_result"
    }
   ],
   "source": [
    "df.shape # shape of the DataFrame"
   ]
  },
  {
   "cell_type": "code",
   "execution_count": 39,
   "id": "d793ff9c",
   "metadata": {},
   "outputs": [
    {
     "data": {
      "text/plain": [
       "6"
      ]
     },
     "execution_count": 39,
     "metadata": {},
     "output_type": "execute_result"
    }
   ],
   "source": [
    "df.size # number of elements in the DataFrame"
   ]
  },
  {
   "cell_type": "code",
   "execution_count": 40,
   "id": "32892fd7",
   "metadata": {},
   "outputs": [
    {
     "data": {
      "text/plain": [
       "A    int64\n",
       "B    int64\n",
       "dtype: object"
      ]
     },
     "execution_count": 40,
     "metadata": {},
     "output_type": "execute_result"
    }
   ],
   "source": [
    "df.dtypes # data types of each column"
   ]
  },
  {
   "cell_type": "code",
   "execution_count": 41,
   "id": "18dd357b",
   "metadata": {},
   "outputs": [
    {
     "data": {
      "text/plain": [
       "array([[1, 4],\n",
       "       [2, 5],\n",
       "       [3, 6]])"
      ]
     },
     "execution_count": 41,
     "metadata": {},
     "output_type": "execute_result"
    }
   ],
   "source": [
    "df.values # values in the DataFrame as a numpy array"
   ]
  },
  {
   "cell_type": "markdown",
   "id": "fb53dcf9",
   "metadata": {},
   "source": [
    "Methods"
   ]
  },
  {
   "cell_type": "code",
   "execution_count": 42,
   "id": "4c62ab8a",
   "metadata": {},
   "outputs": [
    {
     "data": {
      "text/html": [
       "<div>\n",
       "<style scoped>\n",
       "    .dataframe tbody tr th:only-of-type {\n",
       "        vertical-align: middle;\n",
       "    }\n",
       "\n",
       "    .dataframe tbody tr th {\n",
       "        vertical-align: top;\n",
       "    }\n",
       "\n",
       "    .dataframe thead th {\n",
       "        text-align: right;\n",
       "    }\n",
       "</style>\n",
       "<table border=\"1\" class=\"dataframe\">\n",
       "  <thead>\n",
       "    <tr style=\"text-align: right;\">\n",
       "      <th></th>\n",
       "      <th>A</th>\n",
       "      <th>B</th>\n",
       "    </tr>\n",
       "  </thead>\n",
       "  <tbody>\n",
       "    <tr>\n",
       "      <th>0</th>\n",
       "      <td>1</td>\n",
       "      <td>4</td>\n",
       "    </tr>\n",
       "    <tr>\n",
       "      <th>1</th>\n",
       "      <td>2</td>\n",
       "      <td>5</td>\n",
       "    </tr>\n",
       "    <tr>\n",
       "      <th>2</th>\n",
       "      <td>3</td>\n",
       "      <td>6</td>\n",
       "    </tr>\n",
       "  </tbody>\n",
       "</table>\n",
       "</div>"
      ],
      "text/plain": [
       "   A  B\n",
       "0  1  4\n",
       "1  2  5\n",
       "2  3  6"
      ]
     },
     "execution_count": 42,
     "metadata": {},
     "output_type": "execute_result"
    }
   ],
   "source": [
    "df.head() # first 5 rows"
   ]
  },
  {
   "cell_type": "code",
   "execution_count": 43,
   "id": "fb0cc410",
   "metadata": {},
   "outputs": [
    {
     "data": {
      "text/html": [
       "<div>\n",
       "<style scoped>\n",
       "    .dataframe tbody tr th:only-of-type {\n",
       "        vertical-align: middle;\n",
       "    }\n",
       "\n",
       "    .dataframe tbody tr th {\n",
       "        vertical-align: top;\n",
       "    }\n",
       "\n",
       "    .dataframe thead th {\n",
       "        text-align: right;\n",
       "    }\n",
       "</style>\n",
       "<table border=\"1\" class=\"dataframe\">\n",
       "  <thead>\n",
       "    <tr style=\"text-align: right;\">\n",
       "      <th></th>\n",
       "      <th>A</th>\n",
       "      <th>B</th>\n",
       "    </tr>\n",
       "  </thead>\n",
       "  <tbody>\n",
       "    <tr>\n",
       "      <th>2</th>\n",
       "      <td>3</td>\n",
       "      <td>6</td>\n",
       "    </tr>\n",
       "  </tbody>\n",
       "</table>\n",
       "</div>"
      ],
      "text/plain": [
       "   A  B\n",
       "2  3  6"
      ]
     },
     "execution_count": 43,
     "metadata": {},
     "output_type": "execute_result"
    }
   ],
   "source": [
    "df.tail(1) # last 1 rows"
   ]
  },
  {
   "cell_type": "code",
   "execution_count": 44,
   "id": "2e12d86b",
   "metadata": {},
   "outputs": [
    {
     "data": {
      "text/html": [
       "<div>\n",
       "<style scoped>\n",
       "    .dataframe tbody tr th:only-of-type {\n",
       "        vertical-align: middle;\n",
       "    }\n",
       "\n",
       "    .dataframe tbody tr th {\n",
       "        vertical-align: top;\n",
       "    }\n",
       "\n",
       "    .dataframe thead th {\n",
       "        text-align: right;\n",
       "    }\n",
       "</style>\n",
       "<table border=\"1\" class=\"dataframe\">\n",
       "  <thead>\n",
       "    <tr style=\"text-align: right;\">\n",
       "      <th></th>\n",
       "      <th>A</th>\n",
       "      <th>B</th>\n",
       "    </tr>\n",
       "  </thead>\n",
       "  <tbody>\n",
       "    <tr>\n",
       "      <th>count</th>\n",
       "      <td>3.0</td>\n",
       "      <td>3.0</td>\n",
       "    </tr>\n",
       "    <tr>\n",
       "      <th>mean</th>\n",
       "      <td>2.0</td>\n",
       "      <td>5.0</td>\n",
       "    </tr>\n",
       "    <tr>\n",
       "      <th>std</th>\n",
       "      <td>1.0</td>\n",
       "      <td>1.0</td>\n",
       "    </tr>\n",
       "    <tr>\n",
       "      <th>min</th>\n",
       "      <td>1.0</td>\n",
       "      <td>4.0</td>\n",
       "    </tr>\n",
       "    <tr>\n",
       "      <th>25%</th>\n",
       "      <td>1.5</td>\n",
       "      <td>4.5</td>\n",
       "    </tr>\n",
       "    <tr>\n",
       "      <th>50%</th>\n",
       "      <td>2.0</td>\n",
       "      <td>5.0</td>\n",
       "    </tr>\n",
       "    <tr>\n",
       "      <th>75%</th>\n",
       "      <td>2.5</td>\n",
       "      <td>5.5</td>\n",
       "    </tr>\n",
       "    <tr>\n",
       "      <th>max</th>\n",
       "      <td>3.0</td>\n",
       "      <td>6.0</td>\n",
       "    </tr>\n",
       "  </tbody>\n",
       "</table>\n",
       "</div>"
      ],
      "text/plain": [
       "         A    B\n",
       "count  3.0  3.0\n",
       "mean   2.0  5.0\n",
       "std    1.0  1.0\n",
       "min    1.0  4.0\n",
       "25%    1.5  4.5\n",
       "50%    2.0  5.0\n",
       "75%    2.5  5.5\n",
       "max    3.0  6.0"
      ]
     },
     "execution_count": 44,
     "metadata": {},
     "output_type": "execute_result"
    }
   ],
   "source": [
    "df.describe() # summary statistics"
   ]
  },
  {
   "cell_type": "code",
   "execution_count": 45,
   "id": "7f308eff",
   "metadata": {},
   "outputs": [
    {
     "data": {
      "text/plain": [
       "A    2.0\n",
       "B    5.0\n",
       "dtype: float64"
      ]
     },
     "execution_count": 45,
     "metadata": {},
     "output_type": "execute_result"
    }
   ],
   "source": [
    "df.mean() # mean of each column"
   ]
  },
  {
   "cell_type": "markdown",
   "id": "ed0e17cf",
   "metadata": {},
   "source": [
    "The following is a *special* method."
   ]
  },
  {
   "cell_type": "code",
   "execution_count": 46,
   "id": "82705f12",
   "metadata": {},
   "outputs": [
    {
     "data": {
      "text/plain": [
       "0    1\n",
       "1    2\n",
       "2    3\n",
       "Name: A, dtype: int64"
      ]
     },
     "execution_count": 46,
     "metadata": {},
     "output_type": "execute_result"
    }
   ],
   "source": [
    "df[\"A\"] # column A as a Series"
   ]
  },
  {
   "cell_type": "markdown",
   "id": "8b899b3f",
   "metadata": {},
   "source": [
    "#### Utility functions\n",
    "Python libraries have their own utility functions. They are not directly related to the classes in the library. \n",
    "\n",
    "- If we import library only, then the utility functions can be used by `LIBRARY_NAME.UTIL_FUNCTION_NAME(ARGUMENTS)`.\n",
    "- Or, we can also import util function directly by `from LIBRARY_NAME import UTIL_FUNCTION_NAME`. In this case, you can use util function simply by `UTIL_FUNCTION_NAME(ARGUMENTS)`.\n",
    "\n",
    "In `pandas`, we have `pd.to_datetime()`, `pd.to_numeric()`, `pd.isnull()`, etc..\n",
    "\n",
    "You can also view these I/O functions as util: `pd.read_csv()`, `pd.to_csv()`."
   ]
  },
  {
   "cell_type": "code",
   "execution_count": 47,
   "id": "63119900",
   "metadata": {},
   "outputs": [],
   "source": [
    "import pandas as pd"
   ]
  },
  {
   "cell_type": "code",
   "execution_count": 48,
   "id": "230b7fff",
   "metadata": {},
   "outputs": [
    {
     "data": {
      "text/plain": [
       "Timestamp('2023-01-01 00:00:00')"
      ]
     },
     "execution_count": 48,
     "metadata": {},
     "output_type": "execute_result"
    }
   ],
   "source": [
    "pd.to_datetime(\"2023-01-01\")"
   ]
  },
  {
   "cell_type": "code",
   "execution_count": 49,
   "id": "fa8c684a",
   "metadata": {},
   "outputs": [
    {
     "name": "stdout",
     "output_type": "stream",
     "text": [
      "<class 'pandas.core.frame.DataFrame'>\n",
      "RangeIndex: 3 entries, 0 to 2\n",
      "Data columns (total 2 columns):\n",
      " #   Column  Non-Null Count  Dtype \n",
      "---  ------  --------------  ----- \n",
      " 0   A       3 non-null      object\n",
      " 1   B       3 non-null      object\n",
      "dtypes: object(2)\n",
      "memory usage: 180.0+ bytes\n"
     ]
    }
   ],
   "source": [
    "df = pd.DataFrame({\"A\": [\"1\", \"2\", \"3\"], \n",
    "                   \"B\": [\"4.0\", \"5.5\", \"6.1\"]})\n",
    "df.info()"
   ]
  },
  {
   "cell_type": "code",
   "execution_count": 50,
   "id": "6d540066",
   "metadata": {},
   "outputs": [
    {
     "name": "stdout",
     "output_type": "stream",
     "text": [
      "<class 'pandas.core.frame.DataFrame'>\n",
      "RangeIndex: 3 entries, 0 to 2\n",
      "Data columns (total 2 columns):\n",
      " #   Column  Non-Null Count  Dtype \n",
      "---  ------  --------------  ----- \n",
      " 0   A       3 non-null      int64 \n",
      " 1   B       3 non-null      object\n",
      "dtypes: int64(1), object(1)\n",
      "memory usage: 180.0+ bytes\n"
     ]
    }
   ],
   "source": [
    "from pandas import to_numeric\n",
    "df[\"A\"] = to_numeric(df[\"A\"])\n",
    "df.info()"
   ]
  },
  {
   "cell_type": "code",
   "execution_count": 51,
   "id": "0cd4c4c7",
   "metadata": {},
   "outputs": [
    {
     "name": "stdout",
     "output_type": "stream",
     "text": [
      "<class 'pandas.core.frame.DataFrame'>\n",
      "RangeIndex: 3 entries, 0 to 2\n",
      "Data columns (total 2 columns):\n",
      " #   Column  Non-Null Count  Dtype  \n",
      "---  ------  --------------  -----  \n",
      " 0   A       3 non-null      int64  \n",
      " 1   B       3 non-null      float64\n",
      "dtypes: float64(1), int64(1)\n",
      "memory usage: 180.0 bytes\n"
     ]
    }
   ],
   "source": [
    "# You can still use pd.to_numeric\n",
    "df[\"B\"] = pd.to_numeric(df[\"B\"])\n",
    "df.info()"
   ]
  },
  {
   "cell_type": "code",
   "execution_count": 52,
   "id": "bbeb3cd6",
   "metadata": {},
   "outputs": [
    {
     "ename": "TypeError",
     "evalue": "arg must be a list, tuple, 1-d array, or Series",
     "output_type": "error",
     "traceback": [
      "\u001b[31m---------------------------------------------------------------------------\u001b[39m",
      "\u001b[31mTypeError\u001b[39m                                 Traceback (most recent call last)",
      "\u001b[36mCell\u001b[39m\u001b[36m \u001b[39m\u001b[32mIn[52]\u001b[39m\u001b[32m, line 5\u001b[39m\n\u001b[32m      1\u001b[39m \u001b[38;5;66;03m# You get an error for the following:\u001b[39;00m\n\u001b[32m      2\u001b[39m df = pd.DataFrame({\u001b[33m\"\u001b[39m\u001b[33mA\u001b[39m\u001b[33m\"\u001b[39m: [\u001b[33m\"\u001b[39m\u001b[33m1\u001b[39m\u001b[33m\"\u001b[39m, \u001b[33m\"\u001b[39m\u001b[33m2\u001b[39m\u001b[33m\"\u001b[39m, \u001b[33m\"\u001b[39m\u001b[33m3\u001b[39m\u001b[33m\"\u001b[39m], \n\u001b[32m      3\u001b[39m                    \u001b[33m\"\u001b[39m\u001b[33mB\u001b[39m\u001b[33m\"\u001b[39m: [\u001b[33m\"\u001b[39m\u001b[33m4.0\u001b[39m\u001b[33m\"\u001b[39m, \u001b[33m\"\u001b[39m\u001b[33m5.5\u001b[39m\u001b[33m\"\u001b[39m, \u001b[33m\"\u001b[39m\u001b[33m6.1\u001b[39m\u001b[33m\"\u001b[39m],\n\u001b[32m      4\u001b[39m                    \u001b[33m\"\u001b[39m\u001b[33mC\u001b[39m\u001b[33m\"\u001b[39m: [\u001b[33m\"\u001b[39m\u001b[33m2\u001b[39m\u001b[33m\"\u001b[39m, \u001b[33m\"\u001b[39m\u001b[33m3\u001b[39m\u001b[33m\"\u001b[39m, \u001b[33m\"\u001b[39m\u001b[33m4\u001b[39m\u001b[33m\"\u001b[39m]})\n\u001b[32m----> \u001b[39m\u001b[32m5\u001b[39m df = \u001b[43mto_numeric\u001b[49m\u001b[43m(\u001b[49m\u001b[43mdf\u001b[49m\u001b[43m)\u001b[49m\n\u001b[32m      6\u001b[39m \u001b[38;5;66;03m# Why?\u001b[39;00m\n",
      "\u001b[36mFile \u001b[39m\u001b[32m/opt/miniconda3/envs/cosmos/lib/python3.12/site-packages/pandas/core/tools/numeric.py:209\u001b[39m, in \u001b[36mto_numeric\u001b[39m\u001b[34m(arg, errors, downcast, dtype_backend)\u001b[39m\n\u001b[32m    207\u001b[39m     values = np.array([arg], dtype=\u001b[33m\"\u001b[39m\u001b[33mO\u001b[39m\u001b[33m\"\u001b[39m)\n\u001b[32m    208\u001b[39m \u001b[38;5;28;01melif\u001b[39;00m \u001b[38;5;28mgetattr\u001b[39m(arg, \u001b[33m\"\u001b[39m\u001b[33mndim\u001b[39m\u001b[33m\"\u001b[39m, \u001b[32m1\u001b[39m) > \u001b[32m1\u001b[39m:\n\u001b[32m--> \u001b[39m\u001b[32m209\u001b[39m     \u001b[38;5;28;01mraise\u001b[39;00m \u001b[38;5;167;01mTypeError\u001b[39;00m(\u001b[33m\"\u001b[39m\u001b[33marg must be a list, tuple, 1-d array, or Series\u001b[39m\u001b[33m\"\u001b[39m)\n\u001b[32m    210\u001b[39m \u001b[38;5;28;01melse\u001b[39;00m:\n\u001b[32m    211\u001b[39m     values = arg\n",
      "\u001b[31mTypeError\u001b[39m: arg must be a list, tuple, 1-d array, or Series"
     ]
    }
   ],
   "source": [
    "# You get an error for the following:\n",
    "df = pd.DataFrame({\"A\": [\"1\", \"2\", \"3\"], \n",
    "                   \"B\": [\"4.0\", \"5.5\", \"6.1\"],\n",
    "                   \"C\": [\"2\", \"3\", \"4\"]})\n",
    "df = to_numeric(df)\n",
    "# Why?"
   ]
  },
  {
   "cell_type": "markdown",
   "id": "5b3f2f57",
   "metadata": {},
   "source": [
    "You don’t need to memorize everything (I mean you **CAN'T**)! What truly matters is learning:\n",
    "- how to search for the commands you need\n",
    "- how to understand the documentation\n",
    "- how to handle errors."
   ]
  },
  {
   "cell_type": "markdown",
   "id": "66ae87f4",
   "metadata": {},
   "source": []
  },
  {
   "cell_type": "markdown",
   "id": "bed18056",
   "metadata": {},
   "source": []
  }
 ],
 "metadata": {
  "kernelspec": {
   "display_name": "cosmos",
   "language": "python",
   "name": "python3"
  },
  "language_info": {
   "codemirror_mode": {
    "name": "ipython",
    "version": 3
   },
   "file_extension": ".py",
   "mimetype": "text/x-python",
   "name": "python",
   "nbconvert_exporter": "python",
   "pygments_lexer": "ipython3",
   "version": "3.12.11"
  }
 },
 "nbformat": 4,
 "nbformat_minor": 5
}

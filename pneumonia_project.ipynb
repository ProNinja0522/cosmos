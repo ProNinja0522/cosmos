{
 "cells": [
  {
   "cell_type": "markdown",
   "id": "720688fb",
   "metadata": {},
   "source": [
    "# 🩺 The Hidden Danger in ML: Pneumonia & Asthma Case Study\n",
    "This project explores how biased training data can lead to incorrect machine learning predictions, using a real-world-inspired case."
   ]
  },
  {
   "cell_type": "markdown",
   "id": "8108d5d8",
   "metadata": {},
   "source": [
    "## Step 1: Simulate Biased Dataset"
   ]
  },
  {
   "cell_type": "code",
   "execution_count": 1,
   "id": "a9b8e1fd",
   "metadata": {},
   "outputs": [
    {
     "data": {
      "text/html": [
       "<div>\n",
       "<style scoped>\n",
       "    .dataframe tbody tr th:only-of-type {\n",
       "        vertical-align: middle;\n",
       "    }\n",
       "\n",
       "    .dataframe tbody tr th {\n",
       "        vertical-align: top;\n",
       "    }\n",
       "\n",
       "    .dataframe thead th {\n",
       "        text-align: right;\n",
       "    }\n",
       "</style>\n",
       "<table border=\"1\" class=\"dataframe\">\n",
       "  <thead>\n",
       "    <tr style=\"text-align: right;\">\n",
       "      <th></th>\n",
       "      <th>age</th>\n",
       "      <th>has_asthma</th>\n",
       "      <th>severity_score</th>\n",
       "      <th>death</th>\n",
       "    </tr>\n",
       "  </thead>\n",
       "  <tbody>\n",
       "    <tr>\n",
       "      <th>0</th>\n",
       "      <td>71</td>\n",
       "      <td>0</td>\n",
       "      <td>56.865660</td>\n",
       "      <td>0</td>\n",
       "    </tr>\n",
       "    <tr>\n",
       "      <th>1</th>\n",
       "      <td>34</td>\n",
       "      <td>0</td>\n",
       "      <td>27.867727</td>\n",
       "      <td>0</td>\n",
       "    </tr>\n",
       "    <tr>\n",
       "      <th>2</th>\n",
       "      <td>80</td>\n",
       "      <td>0</td>\n",
       "      <td>61.968950</td>\n",
       "      <td>1</td>\n",
       "    </tr>\n",
       "    <tr>\n",
       "      <th>3</th>\n",
       "      <td>40</td>\n",
       "      <td>0</td>\n",
       "      <td>50.830805</td>\n",
       "      <td>0</td>\n",
       "    </tr>\n",
       "    <tr>\n",
       "      <th>4</th>\n",
       "      <td>43</td>\n",
       "      <td>1</td>\n",
       "      <td>53.124917</td>\n",
       "      <td>0</td>\n",
       "    </tr>\n",
       "  </tbody>\n",
       "</table>\n",
       "</div>"
      ],
      "text/plain": [
       "   age  has_asthma  severity_score  death\n",
       "0   71           0       56.865660      0\n",
       "1   34           0       27.867727      0\n",
       "2   80           0       61.968950      1\n",
       "3   40           0       50.830805      0\n",
       "4   43           1       53.124917      0"
      ]
     },
     "execution_count": 1,
     "metadata": {},
     "output_type": "execute_result"
    }
   ],
   "source": [
    "import pandas as pd\n",
    "import numpy as np\n",
    "\n",
    "np.random.seed(42)\n",
    "n = 1000\n",
    "data = pd.DataFrame({\n",
    "    \"age\": np.random.randint(20, 90, size=n),\n",
    "    \"has_asthma\": np.random.choice([0, 1], size=n, p=[0.85, 0.15]),\n",
    "    \"severity_score\": np.random.normal(loc=50, scale=10, size=n),\n",
    "})\n",
    "\n",
    "# Deaths without considering asthma severity\n",
    "data[\"death\"] = (\n",
    "    (data[\"severity_score\"] > 60).astype(int) |\n",
    "    (data[\"age\"] > 80).astype(int)\n",
    ")\n",
    "data.loc[data[\"has_asthma\"] == 1, \"death\"] = 0  # ICU overrides risk\n",
    "\n",
    "data.head()"
   ]
  },
  {
   "cell_type": "markdown",
   "id": "96808fb1",
   "metadata": {},
   "source": [
    "## Step 2: Train Logistic Regression on Biased Data"
   ]
  },
  {
   "cell_type": "code",
   "execution_count": 2,
   "id": "7ab2ca14",
   "metadata": {},
   "outputs": [
    {
     "name": "stdout",
     "output_type": "stream",
     "text": [
      "Classification report on biased data:\n",
      "              precision    recall  f1-score   support\n",
      "\n",
      "           0       0.89      0.89      0.89       156\n",
      "           1       0.61      0.61      0.61        44\n",
      "\n",
      "    accuracy                           0.83       200\n",
      "   macro avg       0.75      0.75      0.75       200\n",
      "weighted avg       0.83      0.83      0.83       200\n",
      "\n"
     ]
    }
   ],
   "source": [
    "from sklearn.linear_model import LogisticRegression\n",
    "from sklearn.model_selection import train_test_split\n",
    "from sklearn.metrics import classification_report\n",
    "\n",
    "X = data[[\"age\", \"has_asthma\", \"severity_score\"]]\n",
    "y = data[\"death\"]\n",
    "X_train, X_test, y_train, y_test = train_test_split(X, y, test_size=0.2, random_state=42)\n",
    "\n",
    "model = LogisticRegression()\n",
    "model.fit(X_train, y_train)\n",
    "\n",
    "print(\"Classification report on biased data:\")\n",
    "print(classification_report(y_test, model.predict(X_test)))"
   ]
  },
  {
   "cell_type": "markdown",
   "id": "48bd2786",
   "metadata": {},
   "source": [
    "### Model Coefficients"
   ]
  },
  {
   "cell_type": "code",
   "execution_count": 3,
   "id": "b4e7c336",
   "metadata": {},
   "outputs": [
    {
     "data": {
      "text/html": [
       "<div>\n",
       "<style scoped>\n",
       "    .dataframe tbody tr th:only-of-type {\n",
       "        vertical-align: middle;\n",
       "    }\n",
       "\n",
       "    .dataframe tbody tr th {\n",
       "        vertical-align: top;\n",
       "    }\n",
       "\n",
       "    .dataframe thead th {\n",
       "        text-align: right;\n",
       "    }\n",
       "</style>\n",
       "<table border=\"1\" class=\"dataframe\">\n",
       "  <thead>\n",
       "    <tr style=\"text-align: right;\">\n",
       "      <th></th>\n",
       "      <th>Feature</th>\n",
       "      <th>Coefficient</th>\n",
       "    </tr>\n",
       "  </thead>\n",
       "  <tbody>\n",
       "    <tr>\n",
       "      <th>0</th>\n",
       "      <td>age</td>\n",
       "      <td>0.071178</td>\n",
       "    </tr>\n",
       "    <tr>\n",
       "      <th>1</th>\n",
       "      <td>has_asthma</td>\n",
       "      <td>-3.665603</td>\n",
       "    </tr>\n",
       "    <tr>\n",
       "      <th>2</th>\n",
       "      <td>severity_score</td>\n",
       "      <td>0.181166</td>\n",
       "    </tr>\n",
       "  </tbody>\n",
       "</table>\n",
       "</div>"
      ],
      "text/plain": [
       "          Feature  Coefficient\n",
       "0             age     0.071178\n",
       "1      has_asthma    -3.665603\n",
       "2  severity_score     0.181166"
      ]
     },
     "execution_count": 3,
     "metadata": {},
     "output_type": "execute_result"
    }
   ],
   "source": [
    "import pandas as pd\n",
    "coeffs = pd.DataFrame({\n",
    "    \"Feature\": X.columns,\n",
    "    \"Coefficient\": model.coef_[0]\n",
    "})\n",
    "coeffs"
   ]
  },
  {
   "cell_type": "markdown",
   "id": "b98edaea",
   "metadata": {},
   "source": [
    "## Step 3: Simulate Correct Death Labels and Retrain"
   ]
  },
  {
   "cell_type": "code",
   "execution_count": 8,
   "id": "5ffc34ba",
   "metadata": {},
   "outputs": [
    {
     "name": "stdout",
     "output_type": "stream",
     "text": [
      "     age  has_asthma  severity_score  death\n",
      "0     71           0       56.865660      0\n",
      "1     34           0       27.867727      0\n",
      "2     80           0       61.968950      1\n",
      "3     40           0       50.830805      0\n",
      "4     43           1       53.124917      1\n",
      "..   ...         ...             ...    ...\n",
      "995   73           0       40.982184      0\n",
      "996   33           0       57.372913      0\n",
      "997   74           0       48.413833      0\n",
      "998   67           0       50.424825      0\n",
      "999   26           0       39.961089      0\n",
      "\n",
      "[1000 rows x 4 columns]\n",
      "Classification report on corrected data:\n",
      "              precision    recall  f1-score   support\n",
      "\n",
      "           0       0.86      0.86      0.86       123\n",
      "           1       0.78      0.78      0.78        77\n",
      "\n",
      "    accuracy                           0.83       200\n",
      "   macro avg       0.82      0.82      0.82       200\n",
      "weighted avg       0.83      0.83      0.83       200\n",
      "\n"
     ]
    }
   ],
   "source": [
    "corrected = data.copy()\n",
    "corrected[\"death\"] = (\n",
    "    (corrected[\"severity_score\"] > 60).astype(int) |\n",
    "    (corrected[\"age\"] > 80).astype(int) |\n",
    "    (corrected[\"has_asthma\"] == 1).astype(int)\n",
    ")\n",
    "\n",
    "print(corrected)\n",
    "\n",
    "X_corr = corrected[[\"age\", \"has_asthma\", \"severity_score\"]]\n",
    "y_corr = corrected[\"death\"]\n",
    "X_train_corr, X_test_corr, y_train_corr, y_test_corr = train_test_split(X_corr, y_corr, test_size=0.2, random_state=42)\n",
    "\n",
    "model_corr = LogisticRegression()\n",
    "model_corr.fit(X_train_corr, y_train_corr)\n",
    "\n",
    "print(\"Classification report on corrected data:\")\n",
    "print(classification_report(y_test_corr, model_corr.predict(X_test_corr)))"
   ]
  },
  {
   "cell_type": "markdown",
   "id": "2dc1bc91",
   "metadata": {},
   "source": [
    "### Model Coefficients After Correction"
   ]
  },
  {
   "cell_type": "code",
   "execution_count": 5,
   "id": "ee4adff3",
   "metadata": {},
   "outputs": [
    {
     "data": {
      "text/html": [
       "<div>\n",
       "<style scoped>\n",
       "    .dataframe tbody tr th:only-of-type {\n",
       "        vertical-align: middle;\n",
       "    }\n",
       "\n",
       "    .dataframe tbody tr th {\n",
       "        vertical-align: top;\n",
       "    }\n",
       "\n",
       "    .dataframe thead th {\n",
       "        text-align: right;\n",
       "    }\n",
       "</style>\n",
       "<table border=\"1\" class=\"dataframe\">\n",
       "  <thead>\n",
       "    <tr style=\"text-align: right;\">\n",
       "      <th></th>\n",
       "      <th>Feature</th>\n",
       "      <th>Coefficient</th>\n",
       "    </tr>\n",
       "  </thead>\n",
       "  <tbody>\n",
       "    <tr>\n",
       "      <th>0</th>\n",
       "      <td>age</td>\n",
       "      <td>0.063789</td>\n",
       "    </tr>\n",
       "    <tr>\n",
       "      <th>1</th>\n",
       "      <td>has_asthma</td>\n",
       "      <td>5.836247</td>\n",
       "    </tr>\n",
       "    <tr>\n",
       "      <th>2</th>\n",
       "      <td>severity_score</td>\n",
       "      <td>0.163218</td>\n",
       "    </tr>\n",
       "  </tbody>\n",
       "</table>\n",
       "</div>"
      ],
      "text/plain": [
       "          Feature  Coefficient\n",
       "0             age     0.063789\n",
       "1      has_asthma     5.836247\n",
       "2  severity_score     0.163218"
      ]
     },
     "execution_count": 5,
     "metadata": {},
     "output_type": "execute_result"
    }
   ],
   "source": [
    "coeffs_corr = pd.DataFrame({\n",
    "    \"Feature\": X_corr.columns,\n",
    "    \"Coefficient\": model_corr.coef_[0]\n",
    "})\n",
    "coeffs_corr"
   ]
  },
  {
   "cell_type": "markdown",
   "id": "b14dc040",
   "metadata": {},
   "source": [
    "## 🧠 Reflection Questions\n",
    "1. What did the model originally learn about asthma?\n",
    "2. How did the model's behavior change after we fixed the labels?\n",
    "3. Why is understanding the context of data collection important?\n",
    "4. What could happen if hospitals used the first (biased) model in practice?"
   ]
  }
 ],
 "metadata": {
  "kernelspec": {
   "display_name": "base",
   "language": "python",
   "name": "python3"
  },
  "language_info": {
   "codemirror_mode": {
    "name": "ipython",
    "version": 3
   },
   "file_extension": ".py",
   "mimetype": "text/x-python",
   "name": "python",
   "nbconvert_exporter": "python",
   "pygments_lexer": "ipython3",
   "version": "3.9.12"
  }
 },
 "nbformat": 4,
 "nbformat_minor": 5
}

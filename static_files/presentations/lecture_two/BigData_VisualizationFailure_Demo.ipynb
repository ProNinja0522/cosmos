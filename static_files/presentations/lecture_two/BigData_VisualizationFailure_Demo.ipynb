{
 "cells": [
  {
   "cell_type": "markdown",
   "id": "1812c228",
   "metadata": {},
   "source": [
    "# 🧪 Big Data Visualization Failure Demo\n",
    "This notebook demonstrates what happens when you try to directly visualize a dataset that's too large (10 million points), and then introduces smarter alternatives like sampling and aggregation."
   ]
  },
  {
   "cell_type": "markdown",
   "id": "8ca356d4",
   "metadata": {},
   "source": [
    "## ⚠️ Step 1: Generate a Huge Dataset (10 Million Points)"
   ]
  },
  {
   "cell_type": "code",
   "execution_count": null,
   "id": "7c0de52c",
   "metadata": {},
   "outputs": [],
   "source": [
    "import pandas as pd\n",
    "import numpy as np\n",
    "\n",
    "# Simulate 10 million random points\n",
    "n = 10_000_000\n",
    "df = pd.DataFrame({\n",
    "    \"x\": np.random.normal(0, 1, size=n),\n",
    "    \"y\": np.random.normal(0, 1, size=n)\n",
    "})\n",
    "df.shape"
   ]
  },
  {
   "cell_type": "markdown",
   "id": "4d24f256",
   "metadata": {},
   "source": [
    "## ❌ Step 2: Try Plotting All Points (Expect Lag or Crash)"
   ]
  },
  {
   "cell_type": "code",
   "execution_count": null,
   "id": "5912ffc6",
   "metadata": {},
   "outputs": [],
   "source": [
    "import matplotlib.pyplot as plt\n",
    "\n",
    "# WARNING: This may freeze the notebook or crash your kernel\n",
    "plt.scatter(df[\"x\"], df[\"y\"], alpha=0.1, s=1)\n",
    "plt.title(\"10 Million Points (Do Not Do This!)\")\n",
    "plt.show()"
   ]
  },
  {
   "cell_type": "markdown",
   "id": "c9ac71da",
   "metadata": {},
   "source": [
    "## ✅ Step 3: Sample 0.1% of the Data for Plotting"
   ]
  },
  {
   "cell_type": "code",
   "execution_count": null,
   "id": "3d9fc248",
   "metadata": {},
   "outputs": [],
   "source": [
    "df_sample = df.sample(frac=0.001)\n",
    "plt.scatter(df_sample[\"x\"], df_sample[\"y\"], alpha=0.3, s=5)\n",
    "plt.title(\"Sampled: 0.1% of 10 Million Points\")\n",
    "plt.show()"
   ]
  },
  {
   "cell_type": "markdown",
   "id": "cc2cb8d8",
   "metadata": {},
   "source": [
    "## ✅ Step 4: Use Hexbin Aggregation"
   ]
  },
  {
   "cell_type": "code",
   "execution_count": null,
   "id": "02cd7700",
   "metadata": {},
   "outputs": [],
   "source": [
    "plt.hexbin(df[\"x\"], df[\"y\"], gridsize=50, cmap='Blues')\n",
    "plt.colorbar(label='count in bin')\n",
    "plt.title(\"Hexbin Aggregation (All Data)\")\n",
    "plt.show()"
   ]
  },
  {
   "cell_type": "markdown",
   "id": "cfc7a1a7",
   "metadata": {},
   "source": [
    "## 💬 Discussion\n",
    "- Why does plotting everything fail?\n",
    "- How does sampling preserve the structure?\n",
    "- What other scalable visual techniques exist?"
   ]
  }
 ],
 "metadata": {},
 "nbformat": 4,
 "nbformat_minor": 5
}

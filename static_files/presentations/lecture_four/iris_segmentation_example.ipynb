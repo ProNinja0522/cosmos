{
 "cells": [
  {
   "cell_type": "markdown",
   "id": "f6640a9f",
   "metadata": {},
   "source": [
    "# 🌸 Iris Dataset Segmentation Example\n",
    "\n",
    "In this notebook, we demonstrate **clustering and segmentation** on the classic Iris dataset. We'll:\n",
    "1. Cluster the flowers using **K-Means**\n",
    "2. Profile each resulting segment\n",
    "3. Interpret the groups to understand the segmentation\n"
   ]
  },
  {
   "cell_type": "code",
   "execution_count": null,
   "id": "121b1863",
   "metadata": {},
   "outputs": [],
   "source": [
    "import pandas as pd\n",
    "import numpy as np\n",
    "import seaborn as sns\n",
    "import matplotlib.pyplot as plt\n",
    "from sklearn.datasets import load_iris\n",
    "from sklearn.cluster import KMeans\n",
    "from sklearn.preprocessing import StandardScaler\n",
    "from sklearn.decomposition import PCA\n",
    "from sklearn.metrics import adjusted_rand_score"
   ]
  },
  {
   "cell_type": "code",
   "execution_count": null,
   "id": "4a1df9eb",
   "metadata": {},
   "outputs": [],
   "source": [
    "# Load dataset\n",
    "iris = load_iris()\n",
    "df = pd.DataFrame(iris.data, columns=iris.feature_names)\n",
    "df['true_species'] = iris.target\n",
    "df['true_species_name'] = pd.Categorical.from_codes(iris.target, iris.target_names)\n",
    "\n",
    "# Standardize for clustering\n",
    "X_scaled = StandardScaler().fit_transform(df[iris.feature_names])"
   ]
  },
  {
   "cell_type": "code",
   "execution_count": null,
   "id": "779c546b",
   "metadata": {},
   "outputs": [],
   "source": [
    "# Apply KMeans clustering\n",
    "kmeans = KMeans(n_clusters=3, random_state=42)\n",
    "df['cluster'] = kmeans.fit_predict(X_scaled)\n",
    "\n",
    "# Compare with true labels\n",
    "ari = adjusted_rand_score(df['true_species'], df['cluster'])\n",
    "print(f'Adjusted Rand Index (vs. true species): {ari:.3f}')"
   ]
  },
  {
   "cell_type": "code",
   "execution_count": null,
   "id": "21bbfeff",
   "metadata": {},
   "outputs": [],
   "source": [
    "# Profile each cluster\n",
    "cluster_profile = df.groupby('cluster')[iris.feature_names].mean()\n",
    "display(cluster_profile)"
   ]
  },
  {
   "cell_type": "code",
   "execution_count": null,
   "id": "113b867b",
   "metadata": {},
   "outputs": [],
   "source": [
    "# Visualize clusters in PCA-reduced 2D space\n",
    "pca = PCA(n_components=2)\n",
    "X_pca = pca.fit_transform(X_scaled)\n",
    "df['PC1'] = X_pca[:, 0]\n",
    "df['PC2'] = X_pca[:, 1]\n",
    "\n",
    "plt.figure(figsize=(6, 5))\n",
    "sns.scatterplot(data=df, x='PC1', y='PC2', hue='cluster', palette='tab10', style='true_species_name', s=60)\n",
    "plt.title('K-Means Clusters vs. True Species in PCA Space')\n",
    "plt.grid(True)\n",
    "plt.legend(bbox_to_anchor=(1.05, 1), loc='upper left')\n",
    "plt.tight_layout()\n",
    "plt.show()"
   ]
  }
 ],
 "metadata": {},
 "nbformat": 4,
 "nbformat_minor": 5
}

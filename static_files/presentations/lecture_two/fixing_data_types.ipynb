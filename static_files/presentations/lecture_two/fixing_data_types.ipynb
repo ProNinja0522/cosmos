{
 "cells": [
  {
   "cell_type": "markdown",
   "metadata": {},
   "source": [
    "# 🏷️ Fixing Data Types\n",
    "\n",
    "This notebook provides hands-on practice for detecting and correcting data type issues in a dataset."
   ]
  },
  {
   "cell_type": "code",
   "execution_count": 1,
   "metadata": {},
   "outputs": [
    {
     "data": {
      "text/html": [
       "<div>\n",
       "<style scoped>\n",
       "    .dataframe tbody tr th:only-of-type {\n",
       "        vertical-align: middle;\n",
       "    }\n",
       "\n",
       "    .dataframe tbody tr th {\n",
       "        vertical-align: top;\n",
       "    }\n",
       "\n",
       "    .dataframe thead th {\n",
       "        text-align: right;\n",
       "    }\n",
       "</style>\n",
       "<table border=\"1\" class=\"dataframe\">\n",
       "  <thead>\n",
       "    <tr style=\"text-align: right;\">\n",
       "      <th></th>\n",
       "      <th>id</th>\n",
       "      <th>age</th>\n",
       "      <th>price</th>\n",
       "      <th>signup_date</th>\n",
       "      <th>subscribed</th>\n",
       "      <th>city</th>\n",
       "    </tr>\n",
       "  </thead>\n",
       "  <tbody>\n",
       "    <tr>\n",
       "      <th>0</th>\n",
       "      <td>1</td>\n",
       "      <td>25</td>\n",
       "      <td>100.0</td>\n",
       "      <td>2023-01-15</td>\n",
       "      <td>Yes</td>\n",
       "      <td>New York</td>\n",
       "    </tr>\n",
       "    <tr>\n",
       "      <th>1</th>\n",
       "      <td>2</td>\n",
       "      <td>30</td>\n",
       "      <td>200.5</td>\n",
       "      <td>15-02-2023</td>\n",
       "      <td>No</td>\n",
       "      <td>Chicago</td>\n",
       "    </tr>\n",
       "    <tr>\n",
       "      <th>2</th>\n",
       "      <td>3</td>\n",
       "      <td>NaN</td>\n",
       "      <td>invalid</td>\n",
       "      <td>March 1, 2023</td>\n",
       "      <td>Yes</td>\n",
       "      <td>Chicago</td>\n",
       "    </tr>\n",
       "    <tr>\n",
       "      <th>3</th>\n",
       "      <td>4</td>\n",
       "      <td>40</td>\n",
       "      <td>300</td>\n",
       "      <td>not a date</td>\n",
       "      <td>No</td>\n",
       "      <td>Los Angeles</td>\n",
       "    </tr>\n",
       "  </tbody>\n",
       "</table>\n",
       "</div>"
      ],
      "text/plain": [
       "  id  age    price    signup_date subscribed         city\n",
       "0  1   25    100.0     2023-01-15        Yes     New York\n",
       "1  2   30    200.5     15-02-2023         No      Chicago\n",
       "2  3  NaN  invalid  March 1, 2023        Yes      Chicago\n",
       "3  4   40      300     not a date         No  Los Angeles"
      ]
     },
     "execution_count": 1,
     "metadata": {},
     "output_type": "execute_result"
    }
   ],
   "source": [
    "# Step 1: Load dataset with data type issues\n",
    "import pandas as pd\n",
    "df = pd.DataFrame({\n",
    "    'id': ['1', '2', '3', '4'],\n",
    "    'age': ['25', '30', 'NaN', '40'],\n",
    "    'price': ['100.0', '200.5', 'invalid', '300'],\n",
    "    'signup_date': ['2023-01-15', '15-02-2023', 'March 1, 2023', 'not a date'],\n",
    "    'subscribed': ['Yes', 'No', 'Yes', 'No'],\n",
    "    'city': ['New York', 'Chicago', 'Chicago', 'Los Angeles']\n",
    "})\n",
    "df"
   ]
  },
  {
   "cell_type": "markdown",
   "metadata": {},
   "source": [
    "## Step 2: Check current data types"
   ]
  },
  {
   "cell_type": "code",
   "execution_count": 2,
   "metadata": {},
   "outputs": [
    {
     "name": "stdout",
     "output_type": "stream",
     "text": [
      "<class 'pandas.core.frame.DataFrame'>\n",
      "RangeIndex: 4 entries, 0 to 3\n",
      "Data columns (total 6 columns):\n",
      " #   Column       Non-Null Count  Dtype \n",
      "---  ------       --------------  ----- \n",
      " 0   id           4 non-null      object\n",
      " 1   age          4 non-null      object\n",
      " 2   price        4 non-null      object\n",
      " 3   signup_date  4 non-null      object\n",
      " 4   subscribed   4 non-null      object\n",
      " 5   city         4 non-null      object\n",
      "dtypes: object(6)\n",
      "memory usage: 320.0+ bytes\n"
     ]
    }
   ],
   "source": [
    "df.info()"
   ]
  },
  {
   "cell_type": "markdown",
   "metadata": {},
   "source": [
    "## Step 3: Fix the types"
   ]
  },
  {
   "cell_type": "code",
   "execution_count": 3,
   "metadata": {},
   "outputs": [
    {
     "name": "stderr",
     "output_type": "stream",
     "text": [
      "C:\\Users\\xiucai admin\\AppData\\Local\\Temp\\ipykernel_45100\\690769697.py:11: UserWarning: Parsing '15-02-2023' in DD/MM/YYYY format. Provide format or specify infer_datetime_format=True for consistent parsing.\n",
      "  df['signup_date'] = pd.to_datetime(df['signup_date'], errors='coerce')\n"
     ]
    },
    {
     "data": {
      "text/html": [
       "<div>\n",
       "<style scoped>\n",
       "    .dataframe tbody tr th:only-of-type {\n",
       "        vertical-align: middle;\n",
       "    }\n",
       "\n",
       "    .dataframe tbody tr th {\n",
       "        vertical-align: top;\n",
       "    }\n",
       "\n",
       "    .dataframe thead th {\n",
       "        text-align: right;\n",
       "    }\n",
       "</style>\n",
       "<table border=\"1\" class=\"dataframe\">\n",
       "  <thead>\n",
       "    <tr style=\"text-align: right;\">\n",
       "      <th></th>\n",
       "      <th>id</th>\n",
       "      <th>age</th>\n",
       "      <th>price</th>\n",
       "      <th>signup_date</th>\n",
       "      <th>subscribed</th>\n",
       "      <th>city</th>\n",
       "    </tr>\n",
       "  </thead>\n",
       "  <tbody>\n",
       "    <tr>\n",
       "      <th>0</th>\n",
       "      <td>1</td>\n",
       "      <td>25.0</td>\n",
       "      <td>100.0</td>\n",
       "      <td>2023-01-15</td>\n",
       "      <td>True</td>\n",
       "      <td>New York</td>\n",
       "    </tr>\n",
       "    <tr>\n",
       "      <th>1</th>\n",
       "      <td>2</td>\n",
       "      <td>30.0</td>\n",
       "      <td>200.5</td>\n",
       "      <td>2023-02-15</td>\n",
       "      <td>False</td>\n",
       "      <td>Chicago</td>\n",
       "    </tr>\n",
       "    <tr>\n",
       "      <th>2</th>\n",
       "      <td>3</td>\n",
       "      <td>NaN</td>\n",
       "      <td>NaN</td>\n",
       "      <td>2023-03-01</td>\n",
       "      <td>True</td>\n",
       "      <td>Chicago</td>\n",
       "    </tr>\n",
       "    <tr>\n",
       "      <th>3</th>\n",
       "      <td>4</td>\n",
       "      <td>40.0</td>\n",
       "      <td>300.0</td>\n",
       "      <td>NaT</td>\n",
       "      <td>False</td>\n",
       "      <td>Los Angeles</td>\n",
       "    </tr>\n",
       "  </tbody>\n",
       "</table>\n",
       "</div>"
      ],
      "text/plain": [
       "   id   age  price signup_date  subscribed         city\n",
       "0   1  25.0  100.0  2023-01-15        True     New York\n",
       "1   2  30.0  200.5  2023-02-15       False      Chicago\n",
       "2   3   NaN    NaN  2023-03-01        True      Chicago\n",
       "3   4  40.0  300.0         NaT       False  Los Angeles"
      ]
     },
     "execution_count": 3,
     "metadata": {},
     "output_type": "execute_result"
    }
   ],
   "source": [
    "# Convert 'id' to integer\n",
    "df['id'] = df['id'].astype(int)\n",
    "\n",
    "# Convert 'age' to float, handling NaN\n",
    "df['age'] = pd.to_numeric(df['age'], errors='coerce')\n",
    "\n",
    "# Convert 'price' to float, coercing invalid strings\n",
    "df['price'] = pd.to_numeric(df['price'], errors='coerce')\n",
    "\n",
    "# Convert 'signup_date' to datetime, coercing errors\n",
    "df['signup_date'] = pd.to_datetime(df['signup_date'], errors='coerce')\n",
    "\n",
    "# Convert 'subscribed' to boolean\n",
    "df['subscribed'] = df['subscribed'].map({'Yes': True, 'No': False})\n",
    "\n",
    "# Convert 'city' to category\n",
    "df['city'] = df['city'].astype('category')\n",
    "\n",
    "# Display cleaned DataFrame\n",
    "df"
   ]
  },
  {
   "cell_type": "markdown",
   "metadata": {},
   "source": [
    "## Step 4: Re-check data types and cleaned data"
   ]
  },
  {
   "cell_type": "code",
   "execution_count": 4,
   "metadata": {},
   "outputs": [
    {
     "name": "stdout",
     "output_type": "stream",
     "text": [
      "<class 'pandas.core.frame.DataFrame'>\n",
      "RangeIndex: 4 entries, 0 to 3\n",
      "Data columns (total 6 columns):\n",
      " #   Column       Non-Null Count  Dtype         \n",
      "---  ------       --------------  -----         \n",
      " 0   id           4 non-null      int32         \n",
      " 1   age          3 non-null      float64       \n",
      " 2   price        3 non-null      float64       \n",
      " 3   signup_date  3 non-null      datetime64[ns]\n",
      " 4   subscribed   4 non-null      bool          \n",
      " 5   city         4 non-null      category      \n",
      "dtypes: bool(1), category(1), datetime64[ns](1), float64(2), int32(1)\n",
      "memory usage: 380.0 bytes\n"
     ]
    }
   ],
   "source": [
    "df.info()"
   ]
  }
 ],
 "metadata": {
  "kernelspec": {
   "display_name": "base",
   "language": "python",
   "name": "python3"
  },
  "language_info": {
   "codemirror_mode": {
    "name": "ipython",
    "version": 3
   },
   "file_extension": ".py",
   "mimetype": "text/x-python",
   "name": "python",
   "nbconvert_exporter": "python",
   "pygments_lexer": "ipython3",
   "version": "3.9.12"
  }
 },
 "nbformat": 4,
 "nbformat_minor": 2
}

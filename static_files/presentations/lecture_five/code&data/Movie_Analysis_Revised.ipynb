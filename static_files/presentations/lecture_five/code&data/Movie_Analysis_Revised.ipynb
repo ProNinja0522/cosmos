{
 "cells": [
  {
   "cell_type": "markdown",
   "id": "c3fae4b9",
   "metadata": {},
   "source": [
    "# 🎬 Comprehensive Movie Dataset EDA & Clustering"
   ]
  },
  {
   "cell_type": "code",
   "execution_count": null,
   "id": "7813a049",
   "metadata": {},
   "outputs": [],
   "source": [
    "import pandas as pd\n",
    "\n",
    "# Load dataset\n",
    "df = pd.read_csv(\"movie_cluster_data.csv\")\n",
    "df.head()\n"
   ]
  },
  {
   "cell_type": "markdown",
   "id": "cc54902d",
   "metadata": {},
   "source": [
    "## 1. 📊 Single-Variable Analysis"
   ]
  },
  {
   "cell_type": "code",
   "execution_count": null,
   "id": "f9b4713f",
   "metadata": {},
   "outputs": [],
   "source": [
    "import plotly.express as px\n",
    "\n",
    "# Histograms\n",
    "for col in [\"popularity\", \"runtime\", \"vote_average\"]:\n",
    "    fig = px.histogram(df, x=col, nbins=20, title=f\"Distribution of {col.title()}\")\n",
    "    fig.show()\n",
    "\n",
    "# Boxplots by cluster\n",
    "for col in [\"popularity\", \"runtime\", \"vote_average\"]:\n",
    "    fig = px.box(df, x=\"cluster\", y=col, points=\"all\", title=f\"{col.title()} by Cluster\")\n",
    "    fig.show()\n",
    "\n",
    "# Genre proportions\n",
    "genre_cols = [col for col in df.columns if col.startswith(\"is_\")]\n",
    "genre_mean = df[genre_cols].mean().sort_values()\n",
    "fig = px.bar(x=genre_mean.index, y=genre_mean.values, title=\"Overall Genre Distribution\")\n",
    "fig.update_layout(xaxis_title=\"Genre\", yaxis_title=\"Proportion\")\n",
    "fig.show()\n"
   ]
  },
  {
   "cell_type": "markdown",
   "id": "6804f17e",
   "metadata": {},
   "source": [
    "## 2. 🔁 Bivariate Analysis"
   ]
  },
  {
   "cell_type": "code",
   "execution_count": null,
   "id": "a876e659",
   "metadata": {},
   "outputs": [],
   "source": [
    "# Scatter matrix\n",
    "fig = px.scatter_matrix(df, dimensions=[\"popularity\", \"runtime\", \"vote_average\"],\n",
    "                        color=\"cluster\", title=\"Scatter Matrix of Key Features\")\n",
    "fig.show()\n",
    "\n",
    "# Correlation heatmap\n",
    "import numpy as np\n",
    "import plotly.figure_factory as ff\n",
    "\n",
    "corr = df[[\"popularity\", \"runtime\", \"vote_average\"]].corr()\n",
    "fig = ff.create_annotated_heatmap(\n",
    "    z=np.round(corr.values, 2),\n",
    "    x=list(corr.columns),\n",
    "    y=list(corr.index),\n",
    "    colorscale=\"Viridis\",\n",
    "    showscale=True\n",
    ")\n",
    "fig.update_layout(title=\"Correlation Heatmap\")\n",
    "fig.show()\n",
    "\n",
    "# Scatter by pair with cluster color\n",
    "fig = px.scatter(df, x=\"popularity\", y=\"vote_average\", color=\"cluster\", hover_data=[\"title\"],\n",
    "                 title=\"Popularity vs. Vote Average by Cluster\")\n",
    "fig.show()\n"
   ]
  },
  {
   "cell_type": "markdown",
   "id": "7a620e56",
   "metadata": {},
   "source": [
    "## 3. 🌐 Embedding and Clustering"
   ]
  },
  {
   "cell_type": "code",
   "execution_count": null,
   "id": "994c69b8",
   "metadata": {},
   "outputs": [],
   "source": [
    "from sklearn.preprocessing import StandardScaler\n",
    "from sklearn.decomposition import PCA\n",
    "from sklearn.manifold import TSNE\n",
    "from sklearn.cluster import KMeans\n",
    "\n",
    "# Feature selection and scaling\n",
    "features = [\"popularity\", \"runtime\", \"vote_average\"] + [col for col in df.columns if col.startswith(\"is_\")]\n",
    "X = df[features]\n",
    "X_scaled = StandardScaler().fit_transform(X)\n",
    "\n",
    "# PCA\n",
    "pca = PCA(n_components=2)\n",
    "pca_result = pca.fit_transform(X_scaled)\n",
    "df[\"pca_x\"], df[\"pca_y\"] = pca_result[:, 0], pca_result[:, 1]\n",
    "\n",
    "# t-SNE\n",
    "tsne = TSNE(n_components=2, perplexity=30, learning_rate=\"auto\", init=\"pca\", random_state=42, n_iter=500)\n",
    "tsne_result = tsne.fit_transform(X_scaled)\n",
    "df[\"tsne_x\"], df[\"tsne_y\"] = tsne_result[:, 0], tsne_result[:, 1]\n",
    "\n",
    "# Clustering\n",
    "kmeans = KMeans(n_clusters=5, random_state=42)\n",
    "df[\"cluster\"] = kmeans.fit_predict(df[[\"tsne_x\", \"tsne_y\"]])\n"
   ]
  },
  {
   "cell_type": "code",
   "execution_count": null,
   "id": "45dadd6d",
   "metadata": {},
   "outputs": [],
   "source": [
    "# Visualize PCA\n",
    "fig = px.scatter(df, x=\"pca_x\", y=\"pca_y\", color=\"cluster\", hover_data=[\"title\"], title=\"PCA Projection\")\n",
    "fig.show()\n",
    "\n",
    "# Visualize t-SNE\n",
    "fig = px.scatter(df, x=\"tsne_x\", y=\"tsne_y\", color=\"cluster\", hover_data=[\"title\"], title=\"t-SNE Projection\")\n",
    "fig.show()\n"
   ]
  },
  {
   "cell_type": "markdown",
   "id": "02fa6be4",
   "metadata": {},
   "source": [
    "## 4. 🧠 Cluster Interpretation"
   ]
  },
  {
   "cell_type": "code",
   "execution_count": null,
   "id": "7a7c15ea",
   "metadata": {},
   "outputs": [],
   "source": [
    "for cluster_id in sorted(df[\"cluster\"].unique()):\n",
    "    subset = df[df[\"cluster\"] == cluster_id]\n",
    "    print(f\"\\n=== Cluster {cluster_id} ===\")\n",
    "    print(f\"Size: {len(subset)}\")\n",
    "    print(f\"Avg Rating: {subset['vote_average'].mean():.2f}\")\n",
    "    print(f\"Avg Runtime: {subset['runtime'].mean():.1f} mins\")\n",
    "    print(f\"Avg Popularity: {subset['popularity'].mean():.1f}\")\n",
    "    top_genres = subset[[c for c in df.columns if c.startswith(\"is_\")]].mean().sort_values(ascending=False)\n",
    "    print(\"Top Genres:\")\n",
    "    print(top_genres.head(3))\n",
    "    print(\"Sample Titles:\")\n",
    "    print(subset['title'].head(3).to_string(index=False))\n"
   ]
  },
  {
   "cell_type": "markdown",
   "id": "79324107",
   "metadata": {},
   "source": [
    "## 5. 🎞️ MP4 Animation Export (Planned)"
   ]
  },
  {
   "cell_type": "code",
   "execution_count": null,
   "id": "e48fc4fb",
   "metadata": {},
   "outputs": [],
   "source": [
    "print(\"A short and long MP4 animation will be generated to visualize cluster emergence over time. Coming soon!\")\n"
   ]
  }
 ],
 "metadata": {},
 "nbformat": 4,
 "nbformat_minor": 5
}

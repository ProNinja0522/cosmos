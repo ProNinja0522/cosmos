{
 "cells": [
  {
   "cell_type": "markdown",
   "id": "ae29c8d5",
   "metadata": {
    "slideshow": {
     "slide_type": "slide"
    }
   },
   "source": [
    "# Unsupervised learning"
   ]
  },
  {
   "cell_type": "markdown",
   "id": "1b0a90a1",
   "metadata": {
    "slideshow": {
     "slide_type": "slide"
    }
   },
   "source": [
    "## Supervised Learning \n",
    "\n",
    "- Data: labeled data, feature-response pairs $(x,y)$\n",
    "- Goal: to learn a mapping from $x$ to $y$\n",
    "- Problem type:\n",
    "  - Classification\n",
    "  - Regression \n"
   ]
  },
  {
   "cell_type": "markdown",
   "id": "7addafd4",
   "metadata": {
    "slideshow": {
     "slide_type": "slide"
    }
   },
   "source": [
    "## Unsupervised Learning\n",
    "\n",
    "- Data:  *unlabeled* data, features $x$ \n",
    "- Goal: to uncover hidden structure, patterns, clusters, ... \n",
    "- Typical tasks  \n",
    "  - **Clustering analysis:** cluster features or observations into groups with common traits\n",
    "  - **Dimension reduction:** transform data from high-dimensional space to a low-dimensional space while preserving as much information as possible\n",
    "  - ......  \n",
    "\n"
   ]
  },
  {
   "cell_type": "markdown",
   "id": "3df99fdf",
   "metadata": {
    "slideshow": {
     "slide_type": "slide"
    }
   },
   "source": [
    "## Reinforcement Learning\n",
    "\n",
    "- Data: a sequence of state-action pairs and a cumulative reward\n",
    "- Goal: to learn a policy (a mapping from state to action) that maximizes the cumulative reward.  \n",
    "- Typical applications:\n",
    "    - Game-playing (e.g., AlphaGo, Dota2), \n",
    "    - Robotics control\n",
    "    - ......  "
   ]
  },
  {
   "cell_type": "markdown",
   "id": "78995e56",
   "metadata": {
    "slideshow": {
     "slide_type": "slide"
    }
   },
   "source": [
    "## Quick Summary\n",
    "\n",
    "| Aspect                     | Supervised Learning                               | Unsupervised Learning                             | Reinforcement Learning                                |\n",
    "|----------------------------|---------------------------------------------------|---------------------------------------------------|-------------------------------------------------------|\n",
    "| **Goal**           | Learn a mapping from $x$ to $y$  | Discover hidden structure/patterns in $x$       | Learn a policy that maximizes reward     |\n",
    "| **Data**          | Labeled data           | Unlabeled data         | State-action pairs, and delayed rewards    |\n",
    "| **Typical output**         | Classification or regression model                | Clusters, low-dimensional embeddings             | Policy                            |\n",
    "\n"
   ]
  },
  {
   "cell_type": "markdown",
   "id": "7bcf3236",
   "metadata": {
    "slideshow": {
     "slide_type": "slide"
    }
   },
   "source": [
    "## Clustering Analysis\n",
    "- Popular techniques in analysis of complex data (e.g., genomics data) \n",
    "- Aims to detecting homogeneous subgroups among the observations or the features\n",
    "- Identities of the learned subgroups are unknown, \n",
    "    but can often lead to meaningful interpretation after linked with additional information. \n",
    "- We can cluster <span style=\"color:pink\">observations</span> or <span style=\"color:lightblue\">features</span>.\n",
    "    - <span style=\"color:pink\">observations</span>: clustering cancer samples to find similar cancer sub-types\n",
    "    - <span style=\"color:lightblue\">features</span>: clustering genes based on similar functions\n"
   ]
  },
  {
   "cell_type": "markdown",
   "id": "7ae118df",
   "metadata": {
    "slideshow": {
     "slide_type": "slide"
    }
   },
   "source": [
    "## Meaningful clusters \n",
    "\n",
    "Without the groundtruth labels, how do we claim that our clusters results are meaningful? \n",
    "\n",
    "[Link to a clustering playground](https://link.excalidraw.com/l/ANjfLU4ltgx/4iUKnz3uEPb) \n",
    "\n"
   ]
  },
  {
   "cell_type": "markdown",
   "id": "2911e20a",
   "metadata": {
    "slideshow": {
     "slide_type": "slide"
    }
   },
   "source": [
    "## Similarity and dissimilarity measures\n",
    "\n",
    "Often we have to come up with numeric metrics to measure the similarity or dissimilarity between observations\n",
    "\n",
    "- Similarity measures\n",
    "    -  Pearson correlation\n",
    "\t-  Spearman correlation\n",
    "    -  Kendall's $\\tau$ \n",
    "\t\t\n",
    "- Dissimilarity measures\n",
    "    - Euclidean distance\n",
    "    - Manhattan distance\n",
    "\n"
   ]
  },
  {
   "cell_type": "markdown",
   "id": "754ca8fc",
   "metadata": {
    "slideshow": {
     "slide_type": "slide"
    }
   },
   "source": [
    "## Similarity measures\n",
    "\n",
    "When the features are numeric:\n",
    "\n",
    "-  Pearson correlation: This is the \"usual\" correlation coefficient, and measures the **linear** association between $X_i$ and $X_j$. \n",
    "-  Spearman correlation. This is essentially the Pearson correlation applied to **ranked** observations. \n",
    "-  Kendall's $\\tau$. This correlation coefficient uses directly rankings among pairs of observations. \n",
    "- ......\n",
    "\n",
    "When the features are not numeric...\n",
    "\t\t"
   ]
  },
  {
   "cell_type": "markdown",
   "id": "24b2e29b",
   "metadata": {
    "slideshow": {
     "slide_type": "slide"
    }
   },
   "source": [
    "## Dissimilarity measure\n",
    "\n",
    "\n",
    "- Euclidean distance:  sum of squared difference between feature values ($\\ell_2$-norm)\n",
    "    $$ d_E(i,j)= \\left[ \\sum_{l=1}^p (X_{i,l}-X_{j,l})^2  \\right]^{1/2} $$\n",
    "- Manhattan distance:\n",
    "\tsum of absolute difference between feature values ($\\ell_1$-norm)\n",
    "    $$d_M(i,j)= \\sum_{l=1}^p |X_{i,l}-X_{j,l}| $$\n",
    "- ......\n",
    "\n",
    "Checkout [this example](vscode://file//Users/shizhe/Documents/Github/Website(Public)/Clustering_measures.ipynb).\n"
   ]
  },
  {
   "cell_type": "markdown",
   "id": "c179e45d",
   "metadata": {
    "slideshow": {
     "slide_type": "slide"
    }
   },
   "source": [
    "## Common Clustering Methods\n",
    "\n",
    "- [Hierarchical clustering](vscode://file//Users/shizhe/Documents/Github/Website(Public)/Hierarchical_Clustering.ipynb)\n",
    "    - Sequence of solutions organized in a hierarchical tree structure, called the dendrogram\n",
    "    - Maintain a hierarchical structure   \n",
    "    When the number of clusters decrease, observations in the same cluster stays in the same cluster\n",
    "- [k-Means clustering](vscode://file//Users/shizhe/Documents/Github/Website(Public)/K_means.ipynb)\n",
    "    - One of the most popular clustering method\n",
    "    - Computationally efficient\n",
    "    - No hierarchy among clusters  \n",
    "        When $k$ decreases, observations in the same clusters might be reassigned to different clusters\n",
    "- And [many other methods](https://scikit-learn.org/stable/modules/clustering.html)\n"
   ]
  },
  {
   "cell_type": "markdown",
   "id": "e3b86d0b",
   "metadata": {
    "slideshow": {
     "slide_type": "slide"
    }
   },
   "source": [
    "## Dimension Reduction\n",
    "\n",
    "- Goal: to transform data from a high-dimensional space to a low-dimensional space, without losing too much information\n",
    "- Versatile tools for \n",
    "    - Exploratory data analysis (e.g., tSNE)\n",
    "    - Data processing for downstream analysis (e.g., principal component regression)\n",
    "    - Uncover true latent pattern (e.g., intrinsic dimension of neural activities)\n",
    "- Typical methods:\n",
    "    - [Principal Component Analysis](vscode://file//Users/shizhe/Documents/Github/Website(Public)/PCA.ipynb) (PCA)\n",
    "    - [t-distributed Stochastic Neighbor Embedding](vscode://file//Users/shizhe/Documents/Github/Website(Public)/tSNE.ipynb) (tSNE)"
   ]
  }
 ],
 "metadata": {
  "kernelspec": {
   "display_name": "base",
   "language": "python",
   "name": "python3"
  },
  "language_info": {
   "codemirror_mode": {
    "name": "ipython",
    "version": 3
   },
   "file_extension": ".py",
   "mimetype": "text/x-python",
   "name": "python",
   "nbconvert_exporter": "python",
   "pygments_lexer": "ipython3",
   "version": "3.11.5"
  }
 },
 "nbformat": 4,
 "nbformat_minor": 5
}

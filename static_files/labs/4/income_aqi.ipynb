{
 "cells": [
  {
   "cell_type": "markdown",
   "id": "03641eb0",
   "metadata": {},
   "source": [
    "# Income AQI"
   ]
  },
  {
   "cell_type": "markdown",
   "id": "76948f99",
   "metadata": {},
   "source": [
    "#### Data Acquisition\n",
    "I assume that you get the data something like"
   ]
  },
  {
   "cell_type": "code",
   "execution_count": 1,
   "id": "286858ca",
   "metadata": {},
   "outputs": [],
   "source": [
    "import pandas as pd"
   ]
  },
  {
   "cell_type": "code",
   "execution_count": 2,
   "id": "280eeed3",
   "metadata": {},
   "outputs": [],
   "source": [
    "# df1: income data\n",
    "df1 = pd.DataFrame({\n",
    "    'state': ['California', 'Texas', 'New York', 'Florida', 'Illinois'],\n",
    "    'county': ['Los Angeles', 'Harris', 'Kings', 'Miami-Dade', 'Cook'],\n",
    "    'income': [75000, 65000, 72000, 58000, 61000]\n",
    "})\n",
    "\n",
    "# df2: aqi data\n",
    "df2 = pd.DataFrame({\n",
    "    'state': ['California', 'Texas', 'New York', 'Florida', 'Illinois'],\n",
    "    'county': ['Los Angeles', 'Harris', 'Kings', 'Miami-Dade', 'Cook'],\n",
    "    'aqi': [90, 80, 60, 55, 70]\n",
    "})"
   ]
  },
  {
   "cell_type": "markdown",
   "id": "9a72a5a6",
   "metadata": {},
   "source": [
    "#### Goal: Create an interactive plot with the U.S. map\n",
    "\n",
    "You can likely find interactive plots similar to your goal in the [plotly graphing libraries](https://plotly.com/python/)!\n",
    "\n",
    "- In this example, we use [Choropleth Maps](https://plotly.com/python/choropleth-maps/).\n",
    "- According to the documentation, we need a [FIPS code](https://en.wikipedia.org/wiki/FIPS_county_code) for each county.\n",
    "- *But how can we get this?*\n",
    "\n",
    "I am pretty sure that you are *not the first person in the world* trying to obtain FIPS codes for each county. There are probably existing packages or public resources that can help. Start by searching the [Conda-forge](https://anaconda.org/conda-forge/) website since it's more reliable."
   ]
  },
  {
   "cell_type": "markdown",
   "id": "5e4c7620",
   "metadata": {},
   "source": [
    "#### Obtaining a FIPS code"
   ]
  },
  {
   "cell_type": "markdown",
   "id": "22c365e2",
   "metadata": {},
   "source": [
    "In this example, we use [Addfips](https://anaconda.org/conda-forge/addfips). You can check the commands to install this package and documentation of the package in the link. The only thing you require to do before the installation is activating `cosmos` environment. Follow these steps:\n",
    "1. Open a new terminal (either on VS Code or system terminal)\n",
    "2. Run \n",
    "```zsh\n",
    "conda activate cosmos\n",
    "conda install conda-forge::addfips\n",
    "```\n",
    "\n",
    "After installation, you can load this package by `import`"
   ]
  },
  {
   "cell_type": "code",
   "execution_count": 3,
   "id": "63bf1c74",
   "metadata": {},
   "outputs": [],
   "source": [
    "import addfips"
   ]
  },
  {
   "cell_type": "markdown",
   "id": "e5d61216",
   "metadata": {},
   "source": [
    "Now, we want to add `FIPS` column to each dataframe."
   ]
  },
  {
   "cell_type": "code",
   "execution_count": 4,
   "id": "bec06395",
   "metadata": {},
   "outputs": [],
   "source": [
    "af = addfips.AddFIPS()\n",
    "\n",
    "for df in [df1, df2]:\n",
    "    df['FIPS'] = df.apply(lambda row: af.get_county_fips(row['county'], row['state']), axis=1)\n",
    "\n",
    "cols1 = ['FIPS'] + [col for col in df1.columns if col != 'FIPS']\n",
    "df1 = df1[cols1]\n",
    "\n",
    "cols2 = ['FIPS'] + [col for col in df2.columns if col != 'FIPS']\n",
    "df2 = df2[cols2]"
   ]
  },
  {
   "cell_type": "code",
   "execution_count": 5,
   "id": "609e8740",
   "metadata": {},
   "outputs": [
    {
     "data": {
      "text/html": [
       "<div>\n",
       "<style scoped>\n",
       "    .dataframe tbody tr th:only-of-type {\n",
       "        vertical-align: middle;\n",
       "    }\n",
       "\n",
       "    .dataframe tbody tr th {\n",
       "        vertical-align: top;\n",
       "    }\n",
       "\n",
       "    .dataframe thead th {\n",
       "        text-align: right;\n",
       "    }\n",
       "</style>\n",
       "<table border=\"1\" class=\"dataframe\">\n",
       "  <thead>\n",
       "    <tr style=\"text-align: right;\">\n",
       "      <th></th>\n",
       "      <th>FIPS</th>\n",
       "      <th>state</th>\n",
       "      <th>county</th>\n",
       "      <th>income</th>\n",
       "    </tr>\n",
       "  </thead>\n",
       "  <tbody>\n",
       "    <tr>\n",
       "      <th>0</th>\n",
       "      <td>06037</td>\n",
       "      <td>California</td>\n",
       "      <td>Los Angeles</td>\n",
       "      <td>75000</td>\n",
       "    </tr>\n",
       "    <tr>\n",
       "      <th>1</th>\n",
       "      <td>48201</td>\n",
       "      <td>Texas</td>\n",
       "      <td>Harris</td>\n",
       "      <td>65000</td>\n",
       "    </tr>\n",
       "    <tr>\n",
       "      <th>2</th>\n",
       "      <td>36047</td>\n",
       "      <td>New York</td>\n",
       "      <td>Kings</td>\n",
       "      <td>72000</td>\n",
       "    </tr>\n",
       "    <tr>\n",
       "      <th>3</th>\n",
       "      <td>12086</td>\n",
       "      <td>Florida</td>\n",
       "      <td>Miami-Dade</td>\n",
       "      <td>58000</td>\n",
       "    </tr>\n",
       "    <tr>\n",
       "      <th>4</th>\n",
       "      <td>17031</td>\n",
       "      <td>Illinois</td>\n",
       "      <td>Cook</td>\n",
       "      <td>61000</td>\n",
       "    </tr>\n",
       "  </tbody>\n",
       "</table>\n",
       "</div>"
      ],
      "text/plain": [
       "    FIPS       state       county  income\n",
       "0  06037  California  Los Angeles   75000\n",
       "1  48201       Texas       Harris   65000\n",
       "2  36047    New York        Kings   72000\n",
       "3  12086     Florida   Miami-Dade   58000\n",
       "4  17031    Illinois         Cook   61000"
      ]
     },
     "execution_count": 5,
     "metadata": {},
     "output_type": "execute_result"
    }
   ],
   "source": [
    "df1"
   ]
  },
  {
   "cell_type": "code",
   "execution_count": 6,
   "id": "35ad70f6",
   "metadata": {},
   "outputs": [
    {
     "data": {
      "text/html": [
       "<div>\n",
       "<style scoped>\n",
       "    .dataframe tbody tr th:only-of-type {\n",
       "        vertical-align: middle;\n",
       "    }\n",
       "\n",
       "    .dataframe tbody tr th {\n",
       "        vertical-align: top;\n",
       "    }\n",
       "\n",
       "    .dataframe thead th {\n",
       "        text-align: right;\n",
       "    }\n",
       "</style>\n",
       "<table border=\"1\" class=\"dataframe\">\n",
       "  <thead>\n",
       "    <tr style=\"text-align: right;\">\n",
       "      <th></th>\n",
       "      <th>FIPS</th>\n",
       "      <th>state</th>\n",
       "      <th>county</th>\n",
       "      <th>aqi</th>\n",
       "    </tr>\n",
       "  </thead>\n",
       "  <tbody>\n",
       "    <tr>\n",
       "      <th>0</th>\n",
       "      <td>06037</td>\n",
       "      <td>California</td>\n",
       "      <td>Los Angeles</td>\n",
       "      <td>90</td>\n",
       "    </tr>\n",
       "    <tr>\n",
       "      <th>1</th>\n",
       "      <td>48201</td>\n",
       "      <td>Texas</td>\n",
       "      <td>Harris</td>\n",
       "      <td>80</td>\n",
       "    </tr>\n",
       "    <tr>\n",
       "      <th>2</th>\n",
       "      <td>36047</td>\n",
       "      <td>New York</td>\n",
       "      <td>Kings</td>\n",
       "      <td>60</td>\n",
       "    </tr>\n",
       "    <tr>\n",
       "      <th>3</th>\n",
       "      <td>12086</td>\n",
       "      <td>Florida</td>\n",
       "      <td>Miami-Dade</td>\n",
       "      <td>55</td>\n",
       "    </tr>\n",
       "    <tr>\n",
       "      <th>4</th>\n",
       "      <td>17031</td>\n",
       "      <td>Illinois</td>\n",
       "      <td>Cook</td>\n",
       "      <td>70</td>\n",
       "    </tr>\n",
       "  </tbody>\n",
       "</table>\n",
       "</div>"
      ],
      "text/plain": [
       "    FIPS       state       county  aqi\n",
       "0  06037  California  Los Angeles   90\n",
       "1  48201       Texas       Harris   80\n",
       "2  36047    New York        Kings   60\n",
       "3  12086     Florida   Miami-Dade   55\n",
       "4  17031    Illinois         Cook   70"
      ]
     },
     "execution_count": 6,
     "metadata": {},
     "output_type": "execute_result"
    }
   ],
   "source": [
    "df2"
   ]
  },
  {
   "cell_type": "markdown",
   "id": "f4d1f8d9",
   "metadata": {},
   "source": [
    "#### Choropleth Maps"
   ]
  },
  {
   "cell_type": "markdown",
   "id": "5bc8257e",
   "metadata": {},
   "source": [
    "We also need data that links FIPS codes to their geographic shapes—this is where a `geojson` file comes in!"
   ]
  },
  {
   "cell_type": "code",
   "execution_count": 7,
   "id": "571d3262",
   "metadata": {},
   "outputs": [],
   "source": [
    "from urllib.request import urlopen\n",
    "import json"
   ]
  },
  {
   "cell_type": "code",
   "execution_count": 8,
   "id": "3fef3bd6",
   "metadata": {},
   "outputs": [],
   "source": [
    "with urlopen('https://raw.githubusercontent.com/plotly/datasets/master/geojson-counties-fips.json') as response:\n",
    "    counties = json.load(response)"
   ]
  },
  {
   "cell_type": "markdown",
   "id": "0a6be087",
   "metadata": {},
   "source": [
    "We are now ready to create a plot. You might not be familiar with the necessary commands yet—but don’t worry! \n",
    "\n",
    "You can refer to examples in the official documentation or consult an AI assistant. \n",
    "\n",
    "Just remember: when using an AI assistant like GPT, always **double-check** that the code if it provides matches your specific needs.\n",
    "\n",
    "I got this code from ChatGPT and didn't revise anything. Let's see how it works."
   ]
  },
  {
   "cell_type": "code",
   "execution_count": null,
   "id": "c7137058",
   "metadata": {},
   "outputs": [],
   "source": [
    "import plotly.graph_objects as go\n",
    "\n",
    "# Choropleth\n",
    "fig = go.Figure()\n",
    "\n",
    "# Income trace\n",
    "fig.add_trace(go.Choropleth(\n",
    "    geojson=counties,\n",
    "    locations=df1['FIPS'],\n",
    "    z=df1['income'],\n",
    "    colorscale='Greens',\n",
    "    zmin=min(df1['income'].min(), df2['aqi'].min()),\n",
    "    zmax=max(df1['income'].max(), df2['aqi'].max()),\n",
    "    colorbar_title=\"Income\",\n",
    "    marker_line_width=0,\n",
    "    visible=True,\n",
    "    name=\"Income\"\n",
    "))\n",
    "\n",
    "# AQI trace\n",
    "fig.add_trace(go.Choropleth(\n",
    "    geojson=counties,\n",
    "    locations=df2['FIPS'],\n",
    "    z=df2['aqi'],\n",
    "    colorscale='Reds',\n",
    "    zmin=min(df1['income'].min(), df2['aqi'].min()),\n",
    "    zmax=max(df1['income'].max(), df2['aqi'].max()),\n",
    "    colorbar_title=\"AQI\",\n",
    "    marker_line_width=0,\n",
    "    visible=False,\n",
    "    name=\"AQI\"\n",
    "))\n",
    "\n",
    "# Layout and Dropdown menu\n",
    "fig.update_layout(\n",
    "    title_text=\"County-Level Income and Air Quality (AQI)\",\n",
    "    autosize=False,\n",
    "    geo_scope='usa',\n",
    "    updatemenus=[dict(\n",
    "        active=0,\n",
    "        buttons=list([\n",
    "            dict(label=\"Income\",\n",
    "                 method=\"update\",\n",
    "                 args=[{\"visible\": [True, False]},\n",
    "                       {\"coloraxis\": {\"colorbar\": {\"title\": \"Income\"}},\n",
    "                        \"title\": \"County-Level Income\"}]),\n",
    "            dict(label=\"AQI\",\n",
    "                 method=\"update\",\n",
    "                 args=[{\"visible\": [False, True]},\n",
    "                       {\"coloraxis\": {\"colorbar\": {\"title\": \"AQI\"}},\n",
    "                        \"title\": \"County-Level Air Quality Index\"}])\n",
    "        ]),\n",
    "        direction=\"down\",\n",
    "        showactive=True\n",
    "    )]\n",
    ")\n",
    "\n",
    "fig.show()"
   ]
  },
  {
   "cell_type": "markdown",
   "id": "946dc61c",
   "metadata": {},
   "source": [
    "*Any issues here?*"
   ]
  },
  {
   "cell_type": "code",
   "execution_count": null,
   "id": "467b510c",
   "metadata": {},
   "outputs": [],
   "source": [
    "# Choropleth\n",
    "fig = go.Figure()\n",
    "\n",
    "# Income trace\n",
    "fig.add_trace(go.Choropleth(\n",
    "    geojson=counties,\n",
    "    locations=df1['FIPS'],\n",
    "    z=df1['income'],\n",
    "    colorscale='Greens',\n",
    "    zmin=df1['income'].min() * 0.8, # Revised\n",
    "    zmax=df1['income'].max(), # Revised\n",
    "    colorbar_title=\"Income\",\n",
    "    marker_line_width=0,\n",
    "    visible=True,\n",
    "    name=\"Income\"\n",
    "))\n",
    "\n",
    "# AQI trace\n",
    "fig.add_trace(go.Choropleth(\n",
    "    geojson=counties,\n",
    "    locations=df2['FIPS'],\n",
    "    z=df2['aqi'],\n",
    "    colorscale='Reds',\n",
    "    zmin=0, # Revised\n",
    "    zmax=df2['aqi'].max(), # Revised\n",
    "    colorbar_title=\"AQI\",\n",
    "    marker_line_width=0,\n",
    "    visible=False,\n",
    "    name=\"AQI\"\n",
    "))\n",
    "\n",
    "# Layout and Dropdown menu\n",
    "fig.update_layout(\n",
    "    title_text=\"County-Level Income and Air Quality (AQI)\",\n",
    "    autosize=False,\n",
    "    geo_scope='usa',\n",
    "    updatemenus=[dict(\n",
    "        active=0,\n",
    "        buttons=list([\n",
    "            dict(label=\"Income\",\n",
    "                 method=\"update\",\n",
    "                 args=[{\"visible\": [True, False]},\n",
    "                       {\"coloraxis\": {\"colorbar\": {\"title\": \"Income\"}},\n",
    "                        \"title\": \"County-Level Income\"}]),\n",
    "            dict(label=\"AQI\",\n",
    "                 method=\"update\",\n",
    "                 args=[{\"visible\": [False, True]},\n",
    "                       {\"coloraxis\": {\"colorbar\": {\"title\": \"AQI\"}},\n",
    "                        \"title\": \"County-Level Air Quality Index\"}])\n",
    "        ]),\n",
    "        direction=\"down\",\n",
    "        showactive=True\n",
    "    )]\n",
    ")\n",
    "\n",
    "fig.show()"
   ]
  },
  {
   "cell_type": "markdown",
   "id": "213c8b77",
   "metadata": {},
   "source": [
    "#### Export to HTML"
   ]
  },
  {
   "cell_type": "markdown",
   "id": "5ce01d6a",
   "metadata": {},
   "source": [
    "If you like this plot, you can export it to HTML for embedding in a webpage by the command `fig.write_html(\"FILENAME\")`."
   ]
  },
  {
   "cell_type": "code",
   "execution_count": 11,
   "id": "7b5c3d45",
   "metadata": {},
   "outputs": [],
   "source": [
    "fig.write_html(\"income_aqi.html\")"
   ]
  },
  {
   "cell_type": "markdown",
   "id": "399ef53d",
   "metadata": {},
   "source": [
    "HTML itself is a webpage, and most browsers support it. If you open the file, then you can see the plot in your web browser."
   ]
  },
  {
   "cell_type": "markdown",
   "id": "08c90a28",
   "metadata": {},
   "source": [
    "#### Embed to your website"
   ]
  },
  {
   "cell_type": "markdown",
   "id": "cf7e9be6",
   "metadata": {},
   "source": [
    "Since HTML is a webpage, if you want to include it to your website, what you want to do is include a webpage to a current webpage. You can use `iframe`! Follow these step:\n",
    "\n",
    "1. Go to the website repository on Github.\n",
    "2. Create `static/plotly/.gitkeep` file and upload your html file (e.g. `income_aqi.html` in this example) to `static/plotly`.\n",
    "3. Go to your markdown file where you want to put the plot. In this example, I'll put it on `content/project/_index.md`.\n",
    "4. Type `<iframe src=\"/plotly/YOUR_FIGURE_NAME.html\" width=\"100%\" height=\"400px\" style=\"border:none;\"></iframe>`. Some explanations for attributes:\n",
    "    - `src`: the content to embed into this iframe\n",
    "    - `width`: width of the frame. \"100%\" works for most cases.\n",
    "    - `height`: height of the frame.\n",
    "    - `style`: style of the frame. By setting `\"border:none\"`, it does not have any border for this frame.\n",
    "5. The website will be ready in few minutes.\n",
    "\n",
    "Few notes:\n",
    "- The plot may not display well on mobile devices.\n",
    "- If the HTML file is large, you might experience some lag."
   ]
  }
 ],
 "metadata": {
  "kernelspec": {
   "display_name": "cosmos",
   "language": "python",
   "name": "python3"
  },
  "language_info": {
   "codemirror_mode": {
    "name": "ipython",
    "version": 3
   },
   "file_extension": ".py",
   "mimetype": "text/x-python",
   "name": "python",
   "nbconvert_exporter": "python",
   "pygments_lexer": "ipython3",
   "version": "3.12.11"
  }
 },
 "nbformat": 4,
 "nbformat_minor": 5
}

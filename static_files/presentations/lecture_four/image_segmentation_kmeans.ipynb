{
 "cells": [
  {
   "cell_type": "markdown",
   "id": "e2c41b6b",
   "metadata": {},
   "source": [
    "# 🖼️ Unsupervised Image Segmentation with K-Means\n",
    "\n",
    "In this notebook, we perform **image segmentation** using unsupervised **K-Means clustering** on pixel RGB values. The goal is to group similar pixels and reconstruct a simplified, segmented image.\n",
    "\n",
    "We use a built-in example image from `skimage.data`."
   ]
  },
  {
   "cell_type": "code",
   "execution_count": null,
   "id": "4ec47ee1",
   "metadata": {},
   "outputs": [],
   "source": [
    "import numpy as np\n",
    "import matplotlib.pyplot as plt\n",
    "from sklearn.cluster import KMeans\n",
    "from skimage import data\n",
    "from skimage.transform import rescale\n",
    "from skimage.util import img_as_float"
   ]
  },
  {
   "cell_type": "code",
   "execution_count": null,
   "id": "1b5911ca",
   "metadata": {},
   "outputs": [],
   "source": [
    "# Load a sample image and downscale it for speed\n",
    "image = img_as_float(data.astronaut())  # RGB image\n",
    "image = rescale(image, 0.25, anti_aliasing=True, channel_axis=-1)\n",
    "h, w, c = image.shape\n",
    "print(f'Image shape: {image.shape}')"
   ]
  },
  {
   "cell_type": "code",
   "execution_count": null,
   "id": "596e1322",
   "metadata": {},
   "outputs": [],
   "source": [
    "# Flatten the image to (n_pixels, 3)\n",
    "X = image.reshape(-1, 3)\n",
    "\n",
    "# Apply KMeans clustering to pixel colors\n",
    "n_colors = 6\n",
    "kmeans = KMeans(n_clusters=n_colors, random_state=42)\n",
    "labels = kmeans.fit_predict(X)\n",
    "segmented_img = kmeans.cluster_centers_[labels].reshape(h, w, 3)"
   ]
  },
  {
   "cell_type": "code",
   "execution_count": null,
   "id": "9c79e844",
   "metadata": {},
   "outputs": [],
   "source": [
    "# Show original and segmented image\n",
    "fig, axes = plt.subplots(1, 2, figsize=(10, 5))\n",
    "axes[0].imshow(image)\n",
    "axes[0].set_title('Original Image')\n",
    "axes[0].axis('off')\n",
    "\n",
    "axes[1].imshow(segmented_img)\n",
    "axes[1].set_title(f'Segmented Image (K={n_colors})')\n",
    "axes[1].axis('off')\n",
    "plt.tight_layout()\n",
    "plt.show()"
   ]
  }
 ],
 "metadata": {},
 "nbformat": 4,
 "nbformat_minor": 5
}

{
 "cells": [
  {
   "cell_type": "markdown",
   "id": "da949cc2",
   "metadata": {},
   "source": [
    "# 🧪 Web Scraping Hands-On: Books to Scrape\n",
    "In this notebook, you'll learn how to scrape data from a simple, static website using `requests` and `BeautifulSoup`."
   ]
  },
  {
   "cell_type": "markdown",
   "id": "e2bd0b08",
   "metadata": {},
   "source": [
    "## ✅ Step 1: Fetch the HTML content"
   ]
  },
  {
   "cell_type": "code",
   "execution_count": 1,
   "id": "ab0c8d50",
   "metadata": {},
   "outputs": [],
   "source": [
    "import requests\n",
    "from bs4 import BeautifulSoup\n",
    "\n",
    "url = \"http://books.toscrape.com/\"\n",
    "headers = {\"User-Agent\": \"Mozilla/5.0\"}\n",
    "response = requests.get(url, headers=headers)\n",
    "html = response.text\n",
    "\n",
    "# Create a BeautifulSoup object\n",
    "soup = BeautifulSoup(html, 'html.parser')"
   ]
  },
  {
   "cell_type": "markdown",
   "id": "701a11bf",
   "metadata": {},
   "source": [
    "## ✅ Step 2: Extract book titles"
   ]
  },
  {
   "cell_type": "code",
   "execution_count": 2,
   "id": "6780da8b",
   "metadata": {},
   "outputs": [
    {
     "name": "stdout",
     "output_type": "stream",
     "text": [
      "Sample Book Titles:\n",
      "- A Light in the Attic\n",
      "- Tipping the Velvet\n",
      "- Soumission\n",
      "- Sharp Objects\n",
      "- Sapiens: A Brief History of Humankind\n",
      "- The Requiem Red\n",
      "- The Dirty Little Secrets of Getting Your Dream Job\n",
      "- The Coming Woman: A Novel Based on the Life of the Infamous Feminist, Victoria Woodhull\n",
      "- The Boys in the Boat: Nine Americans and Their Epic Quest for Gold at the 1936 Berlin Olympics\n",
      "- The Black Maria\n"
     ]
    }
   ],
   "source": [
    "# Find all book title elements\n",
    "titles = [tag['title'] for tag in soup.select('article.product_pod h3 a')]\n",
    "print(\"Sample Book Titles:\")\n",
    "for title in titles[:10]:\n",
    "    print(\"-\", title)"
   ]
  },
  {
   "cell_type": "markdown",
   "id": "57aca106",
   "metadata": {},
   "source": [
    "## ✅ Step 3: Extract book prices"
   ]
  },
  {
   "cell_type": "code",
   "execution_count": 3,
   "id": "369c931a",
   "metadata": {},
   "outputs": [
    {
     "name": "stdout",
     "output_type": "stream",
     "text": [
      "Sample Prices:\n",
      "['Â£51.77', 'Â£53.74', 'Â£50.10', 'Â£47.82', 'Â£54.23', 'Â£22.65', 'Â£33.34', 'Â£17.93', 'Â£22.60', 'Â£52.15']\n"
     ]
    }
   ],
   "source": [
    "prices = [price.text for price in soup.select('.price_color')]\n",
    "print(\"Sample Prices:\")\n",
    "print(prices[:10])"
   ]
  },
  {
   "cell_type": "markdown",
   "id": "3e72b3c5",
   "metadata": {},
   "source": [
    "## ✅ Step 4: Create a DataFrame and Save"
   ]
  },
  {
   "cell_type": "code",
   "execution_count": 4,
   "id": "9bcfae11",
   "metadata": {},
   "outputs": [
    {
     "data": {
      "text/html": [
       "<div>\n",
       "<style scoped>\n",
       "    .dataframe tbody tr th:only-of-type {\n",
       "        vertical-align: middle;\n",
       "    }\n",
       "\n",
       "    .dataframe tbody tr th {\n",
       "        vertical-align: top;\n",
       "    }\n",
       "\n",
       "    .dataframe thead th {\n",
       "        text-align: right;\n",
       "    }\n",
       "</style>\n",
       "<table border=\"1\" class=\"dataframe\">\n",
       "  <thead>\n",
       "    <tr style=\"text-align: right;\">\n",
       "      <th></th>\n",
       "      <th>title</th>\n",
       "      <th>price</th>\n",
       "    </tr>\n",
       "  </thead>\n",
       "  <tbody>\n",
       "    <tr>\n",
       "      <th>0</th>\n",
       "      <td>A Light in the Attic</td>\n",
       "      <td>Â£51.77</td>\n",
       "    </tr>\n",
       "    <tr>\n",
       "      <th>1</th>\n",
       "      <td>Tipping the Velvet</td>\n",
       "      <td>Â£53.74</td>\n",
       "    </tr>\n",
       "    <tr>\n",
       "      <th>2</th>\n",
       "      <td>Soumission</td>\n",
       "      <td>Â£50.10</td>\n",
       "    </tr>\n",
       "    <tr>\n",
       "      <th>3</th>\n",
       "      <td>Sharp Objects</td>\n",
       "      <td>Â£47.82</td>\n",
       "    </tr>\n",
       "    <tr>\n",
       "      <th>4</th>\n",
       "      <td>Sapiens: A Brief History of Humankind</td>\n",
       "      <td>Â£54.23</td>\n",
       "    </tr>\n",
       "  </tbody>\n",
       "</table>\n",
       "</div>"
      ],
      "text/plain": [
       "                                   title    price\n",
       "0                   A Light in the Attic  Â£51.77\n",
       "1                     Tipping the Velvet  Â£53.74\n",
       "2                             Soumission  Â£50.10\n",
       "3                          Sharp Objects  Â£47.82\n",
       "4  Sapiens: A Brief History of Humankind  Â£54.23"
      ]
     },
     "execution_count": 4,
     "metadata": {},
     "output_type": "execute_result"
    }
   ],
   "source": [
    "import pandas as pd\n",
    "\n",
    "books = pd.DataFrame({\n",
    "    \"title\": titles,\n",
    "    \"price\": prices\n",
    "})\n",
    "\n",
    "books.to_csv(\"books_scraped.csv\", index=False)\n",
    "books.head()"
   ]
  },
  {
   "cell_type": "markdown",
   "id": "c9ed28ef",
   "metadata": {},
   "source": [
    "## 💡 Reflection Questions\n",
    "- What would make this site harder to scrape?\n",
    "- What should you check before scraping any website?\n",
    "- What are some ethical limits of scraping?\n"
   ]
  }
 ],
 "metadata": {
  "kernelspec": {
   "display_name": "base",
   "language": "python",
   "name": "python3"
  },
  "language_info": {
   "codemirror_mode": {
    "name": "ipython",
    "version": 3
   },
   "file_extension": ".py",
   "mimetype": "text/x-python",
   "name": "python",
   "nbconvert_exporter": "python",
   "pygments_lexer": "ipython3",
   "version": "3.9.12"
  }
 },
 "nbformat": 4,
 "nbformat_minor": 5
}

{
 "cells": [
  {
   "cell_type": "markdown",
   "id": "0fc445f3",
   "metadata": {},
   "source": [
    "**Learning goals:**\n",
    "\n",
    "> - Load CSV and JSON files/\n",
    "> - Inspect, clean, and document raw tables.  \n",
    "> - Convert *wide* data to *long* form and back.  \n",
    "> - Build concise, readable **pandas pipelines** via method chaining.\n"
   ]
  },
  {
   "cell_type": "code",
   "execution_count": 12,
   "id": "cbc2d85e",
   "metadata": {},
   "outputs": [],
   "source": [
    "\n",
    "import pandas as pd\n",
    "import numpy as np\n",
    "import matplotlib.pyplot as plt\n",
    "import seaborn as sns\n",
    "from pathlib import Path\n",
    "\n",
    "sns.set_theme(style=\"whitegrid\")\n",
    "DATA_DIR = Path('../../') / 'data'   # adjust if notebook is elsewhere\n"
   ]
  },
  {
   "cell_type": "markdown",
   "id": "daa94b57",
   "metadata": {},
   "source": [
    "### 1  Loading CSV Files\n",
    "\n",
    "We’ll use a small **Yelp reviews** sample (CSV) to illustrate common options."
   ]
  },
  {
   "cell_type": "code",
   "execution_count": 7,
   "id": "0030b808",
   "metadata": {},
   "outputs": [
    {
     "data": {
      "text/html": [
       "<div>\n",
       "<style scoped>\n",
       "    .dataframe tbody tr th:only-of-type {\n",
       "        vertical-align: middle;\n",
       "    }\n",
       "\n",
       "    .dataframe tbody tr th {\n",
       "        vertical-align: top;\n",
       "    }\n",
       "\n",
       "    .dataframe thead th {\n",
       "        text-align: right;\n",
       "    }\n",
       "</style>\n",
       "<table border=\"1\" class=\"dataframe\">\n",
       "  <thead>\n",
       "    <tr style=\"text-align: right;\">\n",
       "      <th></th>\n",
       "      <th>business_id</th>\n",
       "      <th>date</th>\n",
       "      <th>review_id</th>\n",
       "      <th>stars</th>\n",
       "      <th>text</th>\n",
       "      <th>type</th>\n",
       "      <th>user_id</th>\n",
       "      <th>cool</th>\n",
       "      <th>useful</th>\n",
       "      <th>funny</th>\n",
       "    </tr>\n",
       "  </thead>\n",
       "  <tbody>\n",
       "    <tr>\n",
       "      <th>0</th>\n",
       "      <td>9yKzy9PApeiPPOUJEtnvkg</td>\n",
       "      <td>2011-01-26</td>\n",
       "      <td>fWKvX83p0-ka4JS3dc6E5A</td>\n",
       "      <td>5</td>\n",
       "      <td>My wife took me here on my birthday for breakf...</td>\n",
       "      <td>review</td>\n",
       "      <td>rLtl8ZkDX5vH5nAx9C3q5Q</td>\n",
       "      <td>2</td>\n",
       "      <td>5</td>\n",
       "      <td>0</td>\n",
       "    </tr>\n",
       "    <tr>\n",
       "      <th>1</th>\n",
       "      <td>ZRJwVLyzEJq1VAihDhYiow</td>\n",
       "      <td>2011-07-27</td>\n",
       "      <td>IjZ33sJrzXqU-0X6U8NwyA</td>\n",
       "      <td>5</td>\n",
       "      <td>I have no idea why some people give bad review...</td>\n",
       "      <td>review</td>\n",
       "      <td>0a2KyEL0d3Yb1V6aivbIuQ</td>\n",
       "      <td>0</td>\n",
       "      <td>0</td>\n",
       "      <td>0</td>\n",
       "    </tr>\n",
       "    <tr>\n",
       "      <th>2</th>\n",
       "      <td>6oRAC4uyJCsJl1X0WZpVSA</td>\n",
       "      <td>2012-06-14</td>\n",
       "      <td>IESLBzqUCLdSzSqm0eCSxQ</td>\n",
       "      <td>4</td>\n",
       "      <td>love the gyro plate. Rice is so good and I als...</td>\n",
       "      <td>review</td>\n",
       "      <td>0hT2KtfLiobPvh6cDC8JQg</td>\n",
       "      <td>0</td>\n",
       "      <td>1</td>\n",
       "      <td>0</td>\n",
       "    </tr>\n",
       "    <tr>\n",
       "      <th>3</th>\n",
       "      <td>_1QQZuf4zZOyFCvXc0o6Vg</td>\n",
       "      <td>2010-05-27</td>\n",
       "      <td>G-WvGaISbqqaMHlNnByodA</td>\n",
       "      <td>5</td>\n",
       "      <td>Rosie, Dakota, and I LOVE Chaparral Dog Park!!...</td>\n",
       "      <td>review</td>\n",
       "      <td>uZetl9T0NcROGOyFfughhg</td>\n",
       "      <td>1</td>\n",
       "      <td>2</td>\n",
       "      <td>0</td>\n",
       "    </tr>\n",
       "    <tr>\n",
       "      <th>4</th>\n",
       "      <td>6ozycU1RpktNG2-1BroVtw</td>\n",
       "      <td>2012-01-05</td>\n",
       "      <td>1uJFq2r5QfJG_6ExMRCaGw</td>\n",
       "      <td>5</td>\n",
       "      <td>General Manager Scott Petello is a good egg!!!...</td>\n",
       "      <td>review</td>\n",
       "      <td>vYmM4KTsC8ZfQBg-j5MWkw</td>\n",
       "      <td>0</td>\n",
       "      <td>0</td>\n",
       "      <td>0</td>\n",
       "    </tr>\n",
       "  </tbody>\n",
       "</table>\n",
       "</div>"
      ],
      "text/plain": [
       "              business_id        date               review_id  stars  \\\n",
       "0  9yKzy9PApeiPPOUJEtnvkg  2011-01-26  fWKvX83p0-ka4JS3dc6E5A      5   \n",
       "1  ZRJwVLyzEJq1VAihDhYiow  2011-07-27  IjZ33sJrzXqU-0X6U8NwyA      5   \n",
       "2  6oRAC4uyJCsJl1X0WZpVSA  2012-06-14  IESLBzqUCLdSzSqm0eCSxQ      4   \n",
       "3  _1QQZuf4zZOyFCvXc0o6Vg  2010-05-27  G-WvGaISbqqaMHlNnByodA      5   \n",
       "4  6ozycU1RpktNG2-1BroVtw  2012-01-05  1uJFq2r5QfJG_6ExMRCaGw      5   \n",
       "\n",
       "                                                text    type  \\\n",
       "0  My wife took me here on my birthday for breakf...  review   \n",
       "1  I have no idea why some people give bad review...  review   \n",
       "2  love the gyro plate. Rice is so good and I als...  review   \n",
       "3  Rosie, Dakota, and I LOVE Chaparral Dog Park!!...  review   \n",
       "4  General Manager Scott Petello is a good egg!!!...  review   \n",
       "\n",
       "                  user_id  cool  useful  funny  \n",
       "0  rLtl8ZkDX5vH5nAx9C3q5Q     2       5      0  \n",
       "1  0a2KyEL0d3Yb1V6aivbIuQ     0       0      0  \n",
       "2  0hT2KtfLiobPvh6cDC8JQg     0       1      0  \n",
       "3  uZetl9T0NcROGOyFfughhg     1       2      0  \n",
       "4  vYmM4KTsC8ZfQBg-j5MWkw     0       0      0  "
      ]
     },
     "execution_count": 7,
     "metadata": {},
     "output_type": "execute_result"
    }
   ],
   "source": [
    "csv_path = DATA_DIR / 'yelp.csv'\n",
    "yelp = pd.read_csv(csv_path)\n",
    "yelp.head()\n",
    "# Source of data: https://www.kaggle.com/datasets/omkarsabnis/yelp-reviews-dataset"
   ]
  },
  {
   "cell_type": "markdown",
   "id": "79743e45",
   "metadata": {},
   "source": [
    "*Always* peek at shape, dtypes, and memory footprint:"
   ]
  },
  {
   "cell_type": "code",
   "execution_count": null,
   "id": "4959ba05",
   "metadata": {},
   "outputs": [
    {
     "name": "stdout",
     "output_type": "stream",
     "text": [
      "Rows: 10000\n",
      "business_id    object\n",
      "date           object\n",
      "review_id      object\n",
      "stars           int64\n",
      "text           object\n",
      "type           object\n",
      "user_id        object\n",
      "cool            int64\n",
      "useful          int64\n",
      "funny           int64\n",
      "dtype: object\n",
      "11.12995433807373 MB\n"
     ]
    }
   ],
   "source": [
    "print(\"Rows:\", len(yelp))\n",
    "print(yelp.dtypes)\n",
    "print(yelp.memory_usage(deep=True).sum() / 1_048_576, \"MB\")"
   ]
  },
  {
   "cell_type": "markdown",
   "id": "45e3b479",
   "metadata": {},
   "source": [
    "#### 1.1  Parsing dates on read\n",
    "If a column holds ISO date strings, parse immediately to save trouble later:"
   ]
  },
  {
   "cell_type": "code",
   "execution_count": 8,
   "id": "c48db9cc",
   "metadata": {},
   "outputs": [
    {
     "data": {
      "text/plain": [
       "0    2011-01-26\n",
       "1    2011-07-27\n",
       "2    2012-06-14\n",
       "3    2010-05-27\n",
       "4    2012-01-05\n",
       "Name: date, dtype: object"
      ]
     },
     "execution_count": 8,
     "metadata": {},
     "output_type": "execute_result"
    }
   ],
   "source": [
    "yelp['date'].head()"
   ]
  },
  {
   "cell_type": "code",
   "execution_count": 9,
   "id": "6f5b953b",
   "metadata": {},
   "outputs": [
    {
     "data": {
      "text/plain": [
       "0   2011-01-26\n",
       "1   2011-07-27\n",
       "2   2012-06-14\n",
       "3   2010-05-27\n",
       "4   2012-01-05\n",
       "Name: date, dtype: datetime64[ns]"
      ]
     },
     "execution_count": 9,
     "metadata": {},
     "output_type": "execute_result"
    }
   ],
   "source": [
    "yelp = pd.read_csv(csv_path, parse_dates=['date'])\n",
    "yelp['date'].head()"
   ]
  },
  {
   "cell_type": "markdown",
   "id": "f05d7edf",
   "metadata": {},
   "source": [
    "#### 1.2  Missing‑value flags\n",
    "CSV sometimes uses `-999`, `N/A`, or blank strings to mean *missing*. We can examine the spotify data as an example. "
   ]
  },
  {
   "cell_type": "code",
   "execution_count": 10,
   "id": "5ac895ec",
   "metadata": {},
   "outputs": [
    {
     "data": {
      "text/plain": [
       "artists       0.000009\n",
       "album_name    0.000009\n",
       "track_name    0.000009\n",
       "Unnamed: 0    0.000000\n",
       "mode          0.000000\n",
       "dtype: float64"
      ]
     },
     "execution_count": 10,
     "metadata": {},
     "output_type": "execute_result"
    }
   ],
   "source": [
    "\n",
    "ratings_path = DATA_DIR / 'spotify_track_ratings.csv'\n",
    "ratings = pd.read_csv(ratings_path, na_values=['-999', 'n/a', ''])\n",
    "ratings.isna().mean().sort_values(ascending=False).head()\n",
    "# source of data: https://www.kaggle.com/datasets/maharshipandya/-spotify-tracks-dataset/data"
   ]
  },
  {
   "cell_type": "markdown",
   "id": "54a1cf08",
   "metadata": {},
   "source": [
    "### 2  Loading JSON\n",
    "\n",
    "The `citibike station information` exports logs in JSON. We can read and turn it into a data frame with `json_normalize` in the `json` library."
   ]
  },
  {
   "cell_type": "code",
   "execution_count": 14,
   "id": "0807dfbb",
   "metadata": {},
   "outputs": [
    {
     "data": {
      "text/html": [
       "<div>\n",
       "<style scoped>\n",
       "    .dataframe tbody tr th:only-of-type {\n",
       "        vertical-align: middle;\n",
       "    }\n",
       "\n",
       "    .dataframe tbody tr th {\n",
       "        vertical-align: top;\n",
       "    }\n",
       "\n",
       "    .dataframe thead th {\n",
       "        text-align: right;\n",
       "    }\n",
       "</style>\n",
       "<table border=\"1\" class=\"dataframe\">\n",
       "  <thead>\n",
       "    <tr style=\"text-align: right;\">\n",
       "      <th></th>\n",
       "      <th>external_id</th>\n",
       "      <th>region_id</th>\n",
       "      <th>rental_methods</th>\n",
       "      <th>short_name</th>\n",
       "      <th>station_type</th>\n",
       "      <th>has_kiosk</th>\n",
       "      <th>name</th>\n",
       "      <th>station_id</th>\n",
       "      <th>eightd_station_services</th>\n",
       "      <th>capacity</th>\n",
       "      <th>electric_bike_surcharge_waiver</th>\n",
       "      <th>eightd_has_key_dispenser</th>\n",
       "      <th>lon</th>\n",
       "      <th>lat</th>\n",
       "      <th>rental_uris.ios</th>\n",
       "      <th>rental_uris.android</th>\n",
       "    </tr>\n",
       "  </thead>\n",
       "  <tbody>\n",
       "    <tr>\n",
       "      <th>0</th>\n",
       "      <td>66dc2c78-0aca-11e7-82f6-3863bb44ef7c</td>\n",
       "      <td>71</td>\n",
       "      <td>[KEY, CREDITCARD]</td>\n",
       "      <td>6779.05</td>\n",
       "      <td>classic</td>\n",
       "      <td>True</td>\n",
       "      <td>Broadway &amp; W 53 St</td>\n",
       "      <td>66dc2c78-0aca-11e7-82f6-3863bb44ef7c</td>\n",
       "      <td>[]</td>\n",
       "      <td>85</td>\n",
       "      <td>False</td>\n",
       "      <td>False</td>\n",
       "      <td>-73.982681</td>\n",
       "      <td>40.763441</td>\n",
       "      <td>https://bkn.lft.to/lastmile_qr_scan</td>\n",
       "      <td>https://bkn.lft.to/lastmile_qr_scan</td>\n",
       "    </tr>\n",
       "    <tr>\n",
       "      <th>1</th>\n",
       "      <td>0b009276-767c-47ee-a4d2-7633d4f95d95</td>\n",
       "      <td>71</td>\n",
       "      <td>[KEY, CREDITCARD]</td>\n",
       "      <td>6667.04</td>\n",
       "      <td>classic</td>\n",
       "      <td>True</td>\n",
       "      <td>W 47 St &amp; 6 Ave</td>\n",
       "      <td>0b009276-767c-47ee-a4d2-7633d4f95d95</td>\n",
       "      <td>[]</td>\n",
       "      <td>62</td>\n",
       "      <td>False</td>\n",
       "      <td>False</td>\n",
       "      <td>-73.982550</td>\n",
       "      <td>40.758397</td>\n",
       "      <td>https://bkn.lft.to/lastmile_qr_scan</td>\n",
       "      <td>https://bkn.lft.to/lastmile_qr_scan</td>\n",
       "    </tr>\n",
       "    <tr>\n",
       "      <th>2</th>\n",
       "      <td>66dbc420-0aca-11e7-82f6-3863bb44ef7c</td>\n",
       "      <td>71</td>\n",
       "      <td>[KEY, CREDITCARD]</td>\n",
       "      <td>5303.06</td>\n",
       "      <td>classic</td>\n",
       "      <td>True</td>\n",
       "      <td>Clinton St &amp; Grand St</td>\n",
       "      <td>66dbc420-0aca-11e7-82f6-3863bb44ef7c</td>\n",
       "      <td>[]</td>\n",
       "      <td>51</td>\n",
       "      <td>False</td>\n",
       "      <td>False</td>\n",
       "      <td>-73.987030</td>\n",
       "      <td>40.715595</td>\n",
       "      <td>https://bkn.lft.to/lastmile_qr_scan</td>\n",
       "      <td>https://bkn.lft.to/lastmile_qr_scan</td>\n",
       "    </tr>\n",
       "    <tr>\n",
       "      <th>3</th>\n",
       "      <td>ffae66ec-7c16-436f-bd0a-eedf81d580e7</td>\n",
       "      <td>71</td>\n",
       "      <td>[KEY, CREDITCARD]</td>\n",
       "      <td>8778.01</td>\n",
       "      <td>classic</td>\n",
       "      <td>True</td>\n",
       "      <td>E Mosholu Pkwy &amp; Van Cortlandt Ave E</td>\n",
       "      <td>ffae66ec-7c16-436f-bd0a-eedf81d580e7</td>\n",
       "      <td>[]</td>\n",
       "      <td>22</td>\n",
       "      <td>False</td>\n",
       "      <td>False</td>\n",
       "      <td>-73.883660</td>\n",
       "      <td>40.876560</td>\n",
       "      <td>https://bkn.lft.to/lastmile_qr_scan</td>\n",
       "      <td>https://bkn.lft.to/lastmile_qr_scan</td>\n",
       "    </tr>\n",
       "    <tr>\n",
       "      <th>4</th>\n",
       "      <td>2637fed8-1e2a-460b-83eb-3eb32ace0f4e</td>\n",
       "      <td>71</td>\n",
       "      <td>[KEY, CREDITCARD]</td>\n",
       "      <td>6398.08</td>\n",
       "      <td>classic</td>\n",
       "      <td>True</td>\n",
       "      <td>E 35 St &amp; Madison Ave</td>\n",
       "      <td>2637fed8-1e2a-460b-83eb-3eb32ace0f4e</td>\n",
       "      <td>[]</td>\n",
       "      <td>50</td>\n",
       "      <td>False</td>\n",
       "      <td>False</td>\n",
       "      <td>-73.982556</td>\n",
       "      <td>40.748480</td>\n",
       "      <td>https://bkn.lft.to/lastmile_qr_scan</td>\n",
       "      <td>https://bkn.lft.to/lastmile_qr_scan</td>\n",
       "    </tr>\n",
       "  </tbody>\n",
       "</table>\n",
       "</div>"
      ],
      "text/plain": [
       "                            external_id region_id     rental_methods  \\\n",
       "0  66dc2c78-0aca-11e7-82f6-3863bb44ef7c        71  [KEY, CREDITCARD]   \n",
       "1  0b009276-767c-47ee-a4d2-7633d4f95d95        71  [KEY, CREDITCARD]   \n",
       "2  66dbc420-0aca-11e7-82f6-3863bb44ef7c        71  [KEY, CREDITCARD]   \n",
       "3  ffae66ec-7c16-436f-bd0a-eedf81d580e7        71  [KEY, CREDITCARD]   \n",
       "4  2637fed8-1e2a-460b-83eb-3eb32ace0f4e        71  [KEY, CREDITCARD]   \n",
       "\n",
       "  short_name station_type  has_kiosk                                  name  \\\n",
       "0    6779.05      classic       True                    Broadway & W 53 St   \n",
       "1    6667.04      classic       True                       W 47 St & 6 Ave   \n",
       "2    5303.06      classic       True                 Clinton St & Grand St   \n",
       "3    8778.01      classic       True  E Mosholu Pkwy & Van Cortlandt Ave E   \n",
       "4    6398.08      classic       True                 E 35 St & Madison Ave   \n",
       "\n",
       "                             station_id eightd_station_services  capacity  \\\n",
       "0  66dc2c78-0aca-11e7-82f6-3863bb44ef7c                      []        85   \n",
       "1  0b009276-767c-47ee-a4d2-7633d4f95d95                      []        62   \n",
       "2  66dbc420-0aca-11e7-82f6-3863bb44ef7c                      []        51   \n",
       "3  ffae66ec-7c16-436f-bd0a-eedf81d580e7                      []        22   \n",
       "4  2637fed8-1e2a-460b-83eb-3eb32ace0f4e                      []        50   \n",
       "\n",
       "   electric_bike_surcharge_waiver  eightd_has_key_dispenser        lon  \\\n",
       "0                           False                     False -73.982681   \n",
       "1                           False                     False -73.982550   \n",
       "2                           False                     False -73.987030   \n",
       "3                           False                     False -73.883660   \n",
       "4                           False                     False -73.982556   \n",
       "\n",
       "         lat                      rental_uris.ios  \\\n",
       "0  40.763441  https://bkn.lft.to/lastmile_qr_scan   \n",
       "1  40.758397  https://bkn.lft.to/lastmile_qr_scan   \n",
       "2  40.715595  https://bkn.lft.to/lastmile_qr_scan   \n",
       "3  40.876560  https://bkn.lft.to/lastmile_qr_scan   \n",
       "4  40.748480  https://bkn.lft.to/lastmile_qr_scan   \n",
       "\n",
       "                   rental_uris.android  \n",
       "0  https://bkn.lft.to/lastmile_qr_scan  \n",
       "1  https://bkn.lft.to/lastmile_qr_scan  \n",
       "2  https://bkn.lft.to/lastmile_qr_scan  \n",
       "3  https://bkn.lft.to/lastmile_qr_scan  \n",
       "4  https://bkn.lft.to/lastmile_qr_scan  "
      ]
     },
     "execution_count": 14,
     "metadata": {},
     "output_type": "execute_result"
    }
   ],
   "source": [
    "import json\n",
    "\n",
    "json_path = DATA_DIR / 'citibike_station_information.json'\n",
    "\n",
    "with open(json_path) as f:\n",
    "    raw = json.load(f)\n",
    "\n",
    "stations = pd.json_normalize(raw[\"data\"][\"stations\"])\n",
    "stations.head()\n",
    "\n",
    "# source of data: https://gbfs.citibikenyc.com/gbfs/en/station_information.json"
   ]
  },
  {
   "cell_type": "markdown",
   "id": "2bb17568",
   "metadata": {},
   "source": [
    "### 3  Wide and Long Formats"
   ]
  },
  {
   "cell_type": "markdown",
   "id": "237d91fe",
   "metadata": {},
   "source": [
    "- A long format has one observation per row, one variable per column. Repeated measurements or values for the same subject appear in multiple rows. This is also known as the *tidy* format.\n",
    "\n",
    "- A **wide format** keeps repeated measurements or values for the same subject spread across multiple columns, rather than multiple rows."
   ]
  },
  {
   "cell_type": "markdown",
   "id": "9622f0f0",
   "metadata": {},
   "source": [
    "#### 3.1  Example: Spotify audio features across years (wide)"
   ]
  },
  {
   "cell_type": "code",
   "execution_count": 17,
   "id": "30d6994d",
   "metadata": {},
   "outputs": [
    {
     "data": {
      "text/html": [
       "<div>\n",
       "<style scoped>\n",
       "    .dataframe tbody tr th:only-of-type {\n",
       "        vertical-align: middle;\n",
       "    }\n",
       "\n",
       "    .dataframe tbody tr th {\n",
       "        vertical-align: top;\n",
       "    }\n",
       "\n",
       "    .dataframe thead th {\n",
       "        text-align: right;\n",
       "    }\n",
       "</style>\n",
       "<table border=\"1\" class=\"dataframe\">\n",
       "  <thead>\n",
       "    <tr style=\"text-align: right;\">\n",
       "      <th></th>\n",
       "      <th>feature</th>\n",
       "      <th>2018</th>\n",
       "      <th>2019</th>\n",
       "      <th>2020</th>\n",
       "    </tr>\n",
       "  </thead>\n",
       "  <tbody>\n",
       "    <tr>\n",
       "      <th>0</th>\n",
       "      <td>danceability</td>\n",
       "      <td>0.62</td>\n",
       "      <td>0.63</td>\n",
       "      <td>0.61</td>\n",
       "    </tr>\n",
       "    <tr>\n",
       "      <th>1</th>\n",
       "      <td>energy</td>\n",
       "      <td>0.55</td>\n",
       "      <td>0.57</td>\n",
       "      <td>0.53</td>\n",
       "    </tr>\n",
       "    <tr>\n",
       "      <th>2</th>\n",
       "      <td>acousticness</td>\n",
       "      <td>0.18</td>\n",
       "      <td>0.16</td>\n",
       "      <td>0.19</td>\n",
       "    </tr>\n",
       "  </tbody>\n",
       "</table>\n",
       "</div>"
      ],
      "text/plain": [
       "        feature  2018  2019  2020\n",
       "0  danceability  0.62  0.63  0.61\n",
       "1        energy  0.55  0.57  0.53\n",
       "2  acousticness  0.18  0.16  0.19"
      ]
     },
     "execution_count": 17,
     "metadata": {},
     "output_type": "execute_result"
    }
   ],
   "source": [
    "\n",
    "wide = pd.DataFrame({\n",
    "    'feature': ['danceability', 'energy', 'acousticness'],\n",
    "    '2018': [0.62, 0.55, 0.18],\n",
    "    '2019': [0.63, 0.57, 0.16],\n",
    "    '2020': [0.61, 0.53, 0.19],\n",
    "})\n",
    "wide\n"
   ]
  },
  {
   "cell_type": "markdown",
   "id": "a1cd22d5",
   "metadata": {},
   "source": [
    "Transform to the long format via `melt()` "
   ]
  },
  {
   "cell_type": "code",
   "execution_count": 18,
   "id": "0c4d6b94",
   "metadata": {},
   "outputs": [
    {
     "data": {
      "text/html": [
       "<div>\n",
       "<style scoped>\n",
       "    .dataframe tbody tr th:only-of-type {\n",
       "        vertical-align: middle;\n",
       "    }\n",
       "\n",
       "    .dataframe tbody tr th {\n",
       "        vertical-align: top;\n",
       "    }\n",
       "\n",
       "    .dataframe thead th {\n",
       "        text-align: right;\n",
       "    }\n",
       "</style>\n",
       "<table border=\"1\" class=\"dataframe\">\n",
       "  <thead>\n",
       "    <tr style=\"text-align: right;\">\n",
       "      <th></th>\n",
       "      <th>feature</th>\n",
       "      <th>year</th>\n",
       "      <th>value</th>\n",
       "    </tr>\n",
       "  </thead>\n",
       "  <tbody>\n",
       "    <tr>\n",
       "      <th>0</th>\n",
       "      <td>danceability</td>\n",
       "      <td>2018</td>\n",
       "      <td>0.62</td>\n",
       "    </tr>\n",
       "    <tr>\n",
       "      <th>1</th>\n",
       "      <td>energy</td>\n",
       "      <td>2018</td>\n",
       "      <td>0.55</td>\n",
       "    </tr>\n",
       "    <tr>\n",
       "      <th>2</th>\n",
       "      <td>acousticness</td>\n",
       "      <td>2018</td>\n",
       "      <td>0.18</td>\n",
       "    </tr>\n",
       "    <tr>\n",
       "      <th>3</th>\n",
       "      <td>danceability</td>\n",
       "      <td>2019</td>\n",
       "      <td>0.63</td>\n",
       "    </tr>\n",
       "    <tr>\n",
       "      <th>4</th>\n",
       "      <td>energy</td>\n",
       "      <td>2019</td>\n",
       "      <td>0.57</td>\n",
       "    </tr>\n",
       "  </tbody>\n",
       "</table>\n",
       "</div>"
      ],
      "text/plain": [
       "        feature  year  value\n",
       "0  danceability  2018   0.62\n",
       "1        energy  2018   0.55\n",
       "2  acousticness  2018   0.18\n",
       "3  danceability  2019   0.63\n",
       "4        energy  2019   0.57"
      ]
     },
     "execution_count": 18,
     "metadata": {},
     "output_type": "execute_result"
    }
   ],
   "source": [
    "\n",
    "tidy = (wide\n",
    "        .melt(id_vars='feature', var_name='year', value_name='value')\n",
    "        .assign(year=lambda d: d['year'].astype(int)))\n",
    "tidy.head()\n"
   ]
  },
  {
   "cell_type": "markdown",
   "id": "92c55ade",
   "metadata": {},
   "source": [
    "Restore to the wide format via `pivot()` (or `pivot_table`)"
   ]
  },
  {
   "cell_type": "code",
   "execution_count": 20,
   "id": "fdd69c2c",
   "metadata": {},
   "outputs": [
    {
     "data": {
      "text/html": [
       "<div>\n",
       "<style scoped>\n",
       "    .dataframe tbody tr th:only-of-type {\n",
       "        vertical-align: middle;\n",
       "    }\n",
       "\n",
       "    .dataframe tbody tr th {\n",
       "        vertical-align: top;\n",
       "    }\n",
       "\n",
       "    .dataframe thead th {\n",
       "        text-align: right;\n",
       "    }\n",
       "</style>\n",
       "<table border=\"1\" class=\"dataframe\">\n",
       "  <thead>\n",
       "    <tr style=\"text-align: right;\">\n",
       "      <th>year</th>\n",
       "      <th>2018</th>\n",
       "      <th>2019</th>\n",
       "      <th>2020</th>\n",
       "    </tr>\n",
       "    <tr>\n",
       "      <th>feature</th>\n",
       "      <th></th>\n",
       "      <th></th>\n",
       "      <th></th>\n",
       "    </tr>\n",
       "  </thead>\n",
       "  <tbody>\n",
       "    <tr>\n",
       "      <th>acousticness</th>\n",
       "      <td>0.18</td>\n",
       "      <td>0.16</td>\n",
       "      <td>0.19</td>\n",
       "    </tr>\n",
       "    <tr>\n",
       "      <th>danceability</th>\n",
       "      <td>0.62</td>\n",
       "      <td>0.63</td>\n",
       "      <td>0.61</td>\n",
       "    </tr>\n",
       "    <tr>\n",
       "      <th>energy</th>\n",
       "      <td>0.55</td>\n",
       "      <td>0.57</td>\n",
       "      <td>0.53</td>\n",
       "    </tr>\n",
       "  </tbody>\n",
       "</table>\n",
       "</div>"
      ],
      "text/plain": [
       "year          2018  2019  2020\n",
       "feature                       \n",
       "acousticness  0.18  0.16  0.19\n",
       "danceability  0.62  0.63  0.61\n",
       "energy        0.55  0.57  0.53"
      ]
     },
     "execution_count": 20,
     "metadata": {},
     "output_type": "execute_result"
    }
   ],
   "source": [
    "wide_again = tidy.pivot(index='feature', columns='year', values='value')\n",
    "wide_again"
   ]
  }
 ],
 "metadata": {
  "kernelspec": {
   "display_name": "Python 3 (ipykernel)",
   "language": "python",
   "name": "python3"
  },
  "language_info": {
   "codemirror_mode": {
    "name": "ipython",
    "version": 3
   },
   "file_extension": ".py",
   "mimetype": "text/x-python",
   "name": "python",
   "nbconvert_exporter": "python",
   "pygments_lexer": "ipython3",
   "version": "3.11.5"
  }
 },
 "nbformat": 4,
 "nbformat_minor": 5
}

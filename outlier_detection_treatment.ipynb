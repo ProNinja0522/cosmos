{
 "cells": [
  {
   "cell_type": "markdown",
   "metadata": {},
   "source": [
    "# 📊 Detecting and Treating Outliers\n",
    "\n",
    "This notebook demonstrates various ways to **detect** and **treat** outliers using different methods and datasets."
   ]
  },
  {
   "cell_type": "code",
   "execution_count": 1,
   "metadata": {},
   "outputs": [],
   "source": [
    "import pandas as pd\n",
    "import numpy as np\n",
    "import matplotlib.pyplot as plt\n",
    "import seaborn as sns\n",
    "from scipy import stats"
   ]
  },
  {
   "cell_type": "markdown",
   "metadata": {},
   "source": [
    "## 💼 Dataset 1: Salary (detect with IQR, treat by removal)"
   ]
  },
  {
   "cell_type": "code",
   "execution_count": 2,
   "metadata": {},
   "outputs": [
    {
     "data": {
      "image/png": "[encoded data removed]",
      "text/plain": [
       "<Figure size 432x288 with 1 Axes>"
      ]
     },
     "metadata": {
      "needs_background": "light"
     },
     "output_type": "display_data"
    }
   ],
   "source": [
    "salaries = pd.DataFrame({'salary': [50000, 52000, 51000, 53000, 5000000, 49000, 51000, 51500, 50500]})\n",
    "\n",
    "# Boxplot before\n",
    "sns.boxplot(x=salaries['salary'])\n",
    "plt.title(\"Salary Before Treatment\")\n",
    "plt.show()"
   ]
  },
  {
   "cell_type": "code",
   "execution_count": 9,
   "metadata": {},
   "outputs": [
    {
     "name": "stdout",
     "output_type": "stream",
     "text": [
      "   salary\n",
      "0   50000\n",
      "1   52000\n",
      "2   51000\n",
      "3   53000\n",
      "5   49000\n",
      "6   51000\n",
      "7   51500\n",
      "8   50500\n"
     ]
    },
    {
     "data": {
      "image/png": "[encoded data removed]",
      "text/plain": [
       "<Figure size 432x288 with 1 Axes>"
      ]
     },
     "metadata": {
      "needs_background": "light"
     },
     "output_type": "display_data"
    }
   ],
   "source": [
    "# Detect and remove outliers using IQR\n",
    "Q1 = salaries['salary'].quantile(0.25)\n",
    "Q3 = salaries['salary'].quantile(0.75)\n",
    "IQR = Q3 - Q1\n",
    "lower = Q1 - 1.5 * IQR\n",
    "upper = Q3 + 1.5 * IQR\n",
    "\n",
    "salaries_clean = salaries[(salaries['salary'] >= lower) & (salaries['salary'] <= upper)]\n",
    "print(salaries_clean)\n",
    "# Boxplot after outlier removal\n",
    "sns.boxplot(x=salaries_clean['salary'])\n",
    "plt.title(\"Salary After Outlier Removal\")\n",
    "plt.show()"
   ]
  },
  {
   "cell_type": "markdown",
   "metadata": {},
   "source": [
    "## 👶 Dataset 2: Age (detect with percentiles, treat by winsorization)"
   ]
  },
  {
   "cell_type": "code",
   "execution_count": 4,
   "metadata": {},
   "outputs": [
    {
     "data": {
      "text/html": [
       "<div>\n",
       "<style scoped>\n",
       "    .dataframe tbody tr th:only-of-type {\n",
       "        vertical-align: middle;\n",
       "    }\n",
       "\n",
       "    .dataframe tbody tr th {\n",
       "        vertical-align: top;\n",
       "    }\n",
       "\n",
       "    .dataframe thead th {\n",
       "        text-align: right;\n",
       "    }\n",
       "</style>\n",
       "<table border=\"1\" class=\"dataframe\">\n",
       "  <thead>\n",
       "    <tr style=\"text-align: right;\">\n",
       "      <th></th>\n",
       "      <th>age</th>\n",
       "      <th>age_capped</th>\n",
       "    </tr>\n",
       "  </thead>\n",
       "  <tbody>\n",
       "    <tr>\n",
       "      <th>0</th>\n",
       "      <td>22</td>\n",
       "      <td>22.0</td>\n",
       "    </tr>\n",
       "    <tr>\n",
       "      <th>1</th>\n",
       "      <td>23</td>\n",
       "      <td>23.0</td>\n",
       "    </tr>\n",
       "    <tr>\n",
       "      <th>2</th>\n",
       "      <td>21</td>\n",
       "      <td>21.0</td>\n",
       "    </tr>\n",
       "    <tr>\n",
       "      <th>3</th>\n",
       "      <td>24</td>\n",
       "      <td>24.0</td>\n",
       "    </tr>\n",
       "    <tr>\n",
       "      <th>4</th>\n",
       "      <td>22</td>\n",
       "      <td>22.0</td>\n",
       "    </tr>\n",
       "    <tr>\n",
       "      <th>5</th>\n",
       "      <td>120</td>\n",
       "      <td>118.2</td>\n",
       "    </tr>\n",
       "    <tr>\n",
       "      <th>6</th>\n",
       "      <td>23</td>\n",
       "      <td>23.0</td>\n",
       "    </tr>\n",
       "    <tr>\n",
       "      <th>7</th>\n",
       "      <td>24</td>\n",
       "      <td>24.0</td>\n",
       "    </tr>\n",
       "    <tr>\n",
       "      <th>8</th>\n",
       "      <td>21</td>\n",
       "      <td>21.0</td>\n",
       "    </tr>\n",
       "    <tr>\n",
       "      <th>9</th>\n",
       "      <td>100</td>\n",
       "      <td>100.0</td>\n",
       "    </tr>\n",
       "  </tbody>\n",
       "</table>\n",
       "</div>"
      ],
      "text/plain": [
       "   age  age_capped\n",
       "0   22        22.0\n",
       "1   23        23.0\n",
       "2   21        21.0\n",
       "3   24        24.0\n",
       "4   22        22.0\n",
       "5  120       118.2\n",
       "6   23        23.0\n",
       "7   24        24.0\n",
       "8   21        21.0\n",
       "9  100       100.0"
      ]
     },
     "execution_count": 4,
     "metadata": {},
     "output_type": "execute_result"
    }
   ],
   "source": [
    "ages = pd.DataFrame({'age': [22, 23, 21, 24, 22, 120, 23, 24, 21, 100]})\n",
    "\n",
    "# Detect extreme values using percentiles\n",
    "p01 = ages['age'].quantile(0.01)\n",
    "p99 = ages['age'].quantile(0.99)\n",
    "\n",
    "# Winsorization (capping)\n",
    "ages['age_capped'] = ages['age'].clip(lower=p01, upper=p99)\n",
    "ages"
   ]
  },
  {
   "cell_type": "markdown",
   "metadata": {},
   "source": [
    "## 💰 Dataset 3: Income (treat with log transform)"
   ]
  },
  {
   "cell_type": "code",
   "execution_count": 12,
   "metadata": {},
   "outputs": [
    {
     "name": "stdout",
     "output_type": "stream",
     "text": [
      "   income  log_income\n",
      "0   30000   10.308986\n",
      "1   35000   10.463132\n",
      "2   40000   10.596660\n",
      "3  100000   11.512935\n",
      "4  250000   12.429220\n",
      "5  500000   13.122365\n"
     ]
    },
    {
     "data": {
      "image/png": "[encoded data removed]",
      "text/plain": [
       "<Figure size 864x288 with 2 Axes>"
      ]
     },
     "metadata": {
      "needs_background": "light"
     },
     "output_type": "display_data"
    }
   ],
   "source": [
    "income = pd.DataFrame({'income': [30000, 35000, 40000, 100000, 250000, 500000]})\n",
    "income['log_income'] = np.log1p(income['income'])\n",
    "print(income)\n",
    "fig, axes = plt.subplots(1, 2, figsize=(12, 4))\n",
    "\n",
    "# Plot original income (boxplot)\n",
    "sns.boxplot(x=income['income'], ax=axes[0])\n",
    "axes[0].set_title('Income (Original)')\n",
    "axes[0].set_xlabel('Income')\n",
    "\n",
    "# Plot log-transformed income (boxplot)\n",
    "sns.boxplot(x=income['log_income'], ax=axes[1])\n",
    "axes[1].set_title('Income (Log Transformed)')\n",
    "axes[1].set_xlabel('Log(Income + 1)')\n",
    "#sns.histplot(income['income'], bins=10, ax=axes[0], kde=True)\n",
    "#axes[0].set_title('Income (Original)')\n",
    "#axes[0].set_xlabel('Income')\n",
    "\n",
    "# Plot log-transformed income\n",
    "#sns.histplot(income['log_income'], bins=10, ax=axes[1], kde=True)\n",
    "#axes[1].set_title('Income (Log Transformed)')\n",
    "#axes[1].set_xlabel('Log(Income + 1)')\n",
    "\n",
    "plt.tight_layout()\n",
    "plt.show()"
   ]
  },
  {
   "cell_type": "markdown",
   "metadata": {},
   "source": [
    "## 🧪 Dataset 4: Test Scores (flag outliers using z-score)"
   ]
  },
  {
   "cell_type": "code",
   "execution_count": 13,
   "metadata": {},
   "outputs": [
    {
     "data": {
      "image/png": "[encoded data removed]",
      "text/plain": [
       "<Figure size 576x288 with 1 Axes>"
      ]
     },
     "metadata": {
      "needs_background": "light"
     },
     "output_type": "display_data"
    },
    {
     "data": {
      "text/html": [
       "<div>\n",
       "<style scoped>\n",
       "    .dataframe tbody tr th:only-of-type {\n",
       "        vertical-align: middle;\n",
       "    }\n",
       "\n",
       "    .dataframe tbody tr th {\n",
       "        vertical-align: top;\n",
       "    }\n",
       "\n",
       "    .dataframe thead th {\n",
       "        text-align: right;\n",
       "    }\n",
       "</style>\n",
       "<table border=\"1\" class=\"dataframe\">\n",
       "  <thead>\n",
       "    <tr style=\"text-align: right;\">\n",
       "      <th></th>\n",
       "      <th>score</th>\n",
       "      <th>z_score</th>\n",
       "      <th>is_outlier</th>\n",
       "    </tr>\n",
       "  </thead>\n",
       "  <tbody>\n",
       "    <tr>\n",
       "      <th>0</th>\n",
       "      <td>70</td>\n",
       "      <td>-0.819829</td>\n",
       "      <td>False</td>\n",
       "    </tr>\n",
       "    <tr>\n",
       "      <th>1</th>\n",
       "      <td>75</td>\n",
       "      <td>-0.667302</td>\n",
       "      <td>False</td>\n",
       "    </tr>\n",
       "    <tr>\n",
       "      <th>2</th>\n",
       "      <td>80</td>\n",
       "      <td>-0.514776</td>\n",
       "      <td>False</td>\n",
       "    </tr>\n",
       "    <tr>\n",
       "      <th>3</th>\n",
       "      <td>85</td>\n",
       "      <td>-0.362250</td>\n",
       "      <td>False</td>\n",
       "    </tr>\n",
       "    <tr>\n",
       "      <th>4</th>\n",
       "      <td>90</td>\n",
       "      <td>-0.209724</td>\n",
       "      <td>False</td>\n",
       "    </tr>\n",
       "    <tr>\n",
       "      <th>5</th>\n",
       "      <td>95</td>\n",
       "      <td>-0.057197</td>\n",
       "      <td>False</td>\n",
       "    </tr>\n",
       "    <tr>\n",
       "      <th>6</th>\n",
       "      <td>100</td>\n",
       "      <td>0.095329</td>\n",
       "      <td>False</td>\n",
       "    </tr>\n",
       "    <tr>\n",
       "      <th>7</th>\n",
       "      <td>180</td>\n",
       "      <td>2.535749</td>\n",
       "      <td>True</td>\n",
       "    </tr>\n",
       "  </tbody>\n",
       "</table>\n",
       "</div>"
      ],
      "text/plain": [
       "   score   z_score  is_outlier\n",
       "0     70 -0.819829       False\n",
       "1     75 -0.667302       False\n",
       "2     80 -0.514776       False\n",
       "3     85 -0.362250       False\n",
       "4     90 -0.209724       False\n",
       "5     95 -0.057197       False\n",
       "6    100  0.095329       False\n",
       "7    180  2.535749        True"
      ]
     },
     "execution_count": 13,
     "metadata": {},
     "output_type": "execute_result"
    }
   ],
   "source": [
    "scores = pd.DataFrame({'score': [70, 75, 80, 85, 90, 95, 100, 180]})\n",
    "\n",
    "# Plot the scores with outliers highlighted\n",
    "plt.figure(figsize=(8, 4))\n",
    "sns.scatterplot(x=range(len(scores)), y=scores['score'])\n",
    "plt.title(\"Test Scores\")\n",
    "plt.xlabel(\"Index\")\n",
    "plt.ylabel(\"Score\")\n",
    "plt.show()\n",
    "scores['z_score'] = stats.zscore(scores['score'])\n",
    "scores['is_outlier'] = scores['z_score'].abs() > 2\n",
    "scores"
   ]
  }
 ],
 "metadata": {
  "kernelspec": {
   "display_name": "base",
   "language": "python",
   "name": "python3"
  },
  "language_info": {
   "codemirror_mode": {
    "name": "ipython",
    "version": 3
   },
   "file_extension": ".py",
   "mimetype": "text/x-python",
   "name": "python",
   "nbconvert_exporter": "python",
   "pygments_lexer": "ipython3",
   "version": "3.9.12"
  }
 },
 "nbformat": 4,
 "nbformat_minor": 2
}

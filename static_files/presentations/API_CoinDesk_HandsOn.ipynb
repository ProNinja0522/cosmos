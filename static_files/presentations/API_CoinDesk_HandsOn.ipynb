{
 "cells": [
  {
   "cell_type": "markdown",
   "id": "1a62710e",
   "metadata": {},
   "source": [
    "# 🧪 API Access Hands-On: CoinDesk Bitcoin Price\n",
    "In this notebook, you'll learn how to access real-time data from a public API (CoinDesk) and parse its structured JSON output using Python."
   ]
  },
  {
   "cell_type": "markdown",
   "id": "42fef9cf",
   "metadata": {},
   "source": [
    "## ✅ Step 1: Make a GET request to the CoinDesk API"
   ]
  },
  {
   "cell_type": "code",
   "execution_count": 3,
   "id": "8b1daa04",
   "metadata": {},
   "outputs": [
    {
     "name": "stdout",
     "output_type": "stream",
     "text": [
      "Error fetching data: HTTPSConnectionPool(host='api.coindesk.com', port=443): Max retries exceeded with url: /v1/bpi/currentprice.json (Caused by NewConnectionError('<urllib3.connection.HTTPSConnection object at 0x00000255CD299E50>: Failed to establish a new connection: [Errno 11001] getaddrinfo failed'))\n"
     ]
    }
   ],
   "source": [
    "import requests\n",
    "\n",
    "try:\n",
    "\tresponse = requests.get(url, timeout=10)\n",
    "\tresponse.raise_for_status()\n",
    "\tdata = response.json()\n",
    "except requests.exceptions.RequestException as e:\n",
    "\tprint(\"Error fetching data:\", e)\n",
    "\tdata = None\n",
    "\n",
    "# Print the raw JSON (or None if failed)\n",
    "data"
   ]
  },
  {
   "cell_type": "markdown",
   "id": "0a9c7e8b",
   "metadata": {},
   "source": [
    "## ✅ Step 2: Extract and print relevant information"
   ]
  },
  {
   "cell_type": "code",
   "execution_count": 5,
   "id": "a3b164f0",
   "metadata": {},
   "outputs": [
    {
     "name": "stdout",
     "output_type": "stream",
     "text": [
      "No data available. Please check the API request.\n"
     ]
    }
   ],
   "source": [
    "if data is not None:\n",
    "\tusd_price = data['bpi']['USD']['rate']\n",
    "\ttimestamp = data['time']['updated']\n",
    "\n",
    "\tprint(\"Current Bitcoin Price (USD):\", usd_price)\n",
    "\tprint(\"Updated at:\", timestamp)\n",
    "else:\n",
    "\tprint(\"No data available. Please check the API request.\")"
   ]
  },
  {
   "cell_type": "markdown",
   "id": "fdd35f87",
   "metadata": {},
   "source": [
    "## ✅ Step 3: Store the result in a log"
   ]
  },
  {
   "cell_type": "code",
   "execution_count": null,
   "id": "3c6df2dc",
   "metadata": {},
   "outputs": [],
   "source": [
    "import pandas as pd\n",
    "import datetime\n",
    "\n",
    "log = pd.DataFrame([{\n",
    "    \"timestamp\": datetime.datetime.now(),\n",
    "    \"btc_usd\": float(data['bpi']['USD']['rate'].replace(',', ''))\n",
    "}])\n",
    "\n",
    "log.to_csv(\"btc_price_log.csv\", mode='a', header=not pd.io.common.file_exists(\"btc_price_log.csv\"), index=False)\n",
    "log"
   ]
  }
 ],
 "metadata": {
  "kernelspec": {
   "display_name": "base",
   "language": "python",
   "name": "python3"
  },
  "language_info": {
   "codemirror_mode": {
    "name": "ipython",
    "version": 3
   },
   "file_extension": ".py",
   "mimetype": "text/x-python",
   "name": "python",
   "nbconvert_exporter": "python",
   "pygments_lexer": "ipython3",
   "version": "3.9.12"
  }
 },
 "nbformat": 4,
 "nbformat_minor": 5
}

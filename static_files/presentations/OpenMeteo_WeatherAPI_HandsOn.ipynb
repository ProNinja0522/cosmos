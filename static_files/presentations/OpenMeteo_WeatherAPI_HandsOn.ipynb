{
 "cells": [
  {
   "cell_type": "markdown",
   "id": "1f8b9d7c",
   "metadata": {},
   "source": [
    "# 🧪 API Access Hands-On: Open-Meteo Weather API\n",
    "In this notebook, you'll access real-time weather forecast data using a public API with no authentication required."
   ]
  },
  {
   "cell_type": "markdown",
   "id": "1c6b2a7d",
   "metadata": {},
   "source": [
    "## ✅ Step 1: Make a GET request to the Open-Meteo API"
   ]
  },
  {
   "cell_type": "code",
   "execution_count": 1,
   "id": "8a219472",
   "metadata": {},
   "outputs": [
    {
     "name": "stdout",
     "output_type": "stream",
     "text": [
      "dict_keys(['latitude', 'longitude', 'generationtime_ms', 'utc_offset_seconds', 'timezone', 'timezone_abbreviation', 'elevation', 'hourly_units', 'hourly'])\n"
     ]
    }
   ],
   "source": [
    "import requests\n",
    "\n",
    "url = \"https://api.open-meteo.com/v1/forecast\"\n",
    "params = {\n",
    "    \"latitude\": 40.71,   # New York City\n",
    "    \"longitude\": -74.01,\n",
    "    \"hourly\": \"temperature_2m\"\n",
    "}\n",
    "response = requests.get(url, params=params)\n",
    "data = response.json()\n",
    "\n",
    "# Print top-level keys\n",
    "print(data.keys())"
   ]
  },
  {
   "cell_type": "markdown",
   "id": "03a0a950",
   "metadata": {},
   "source": [
    "## ✅ Step 2: Extract and print hourly temperatures"
   ]
  },
  {
   "cell_type": "code",
   "execution_count": 2,
   "id": "8820a75b",
   "metadata": {},
   "outputs": [
    {
     "name": "stdout",
     "output_type": "stream",
     "text": [
      "Sample hourly temperatures: [27.5, 25.8, 25.1, 24.3, 24.1, 23.5, 22.6, 22.0, 21.5, 21.0]\n"
     ]
    }
   ],
   "source": [
    "# Extract temperature values\n",
    "temps = data[\"hourly\"][\"temperature_2m\"][:10]\n",
    "print(\"Sample hourly temperatures:\", temps)"
   ]
  },
  {
   "cell_type": "markdown",
   "id": "33d68bcc",
   "metadata": {},
   "source": [
    "## ✅ Step 3: Store in a DataFrame and Save"
   ]
  },
  {
   "cell_type": "code",
   "execution_count": 3,
   "id": "0ec1ec89",
   "metadata": {},
   "outputs": [
    {
     "data": {
      "text/html": [
       "<div>\n",
       "<style scoped>\n",
       "    .dataframe tbody tr th:only-of-type {\n",
       "        vertical-align: middle;\n",
       "    }\n",
       "\n",
       "    .dataframe tbody tr th {\n",
       "        vertical-align: top;\n",
       "    }\n",
       "\n",
       "    .dataframe thead th {\n",
       "        text-align: right;\n",
       "    }\n",
       "</style>\n",
       "<table border=\"1\" class=\"dataframe\">\n",
       "  <thead>\n",
       "    <tr style=\"text-align: right;\">\n",
       "      <th></th>\n",
       "      <th>time</th>\n",
       "      <th>temperature_2m</th>\n",
       "    </tr>\n",
       "  </thead>\n",
       "  <tbody>\n",
       "    <tr>\n",
       "      <th>0</th>\n",
       "      <td>2025-07-06T00:00</td>\n",
       "      <td>27.5</td>\n",
       "    </tr>\n",
       "    <tr>\n",
       "      <th>1</th>\n",
       "      <td>2025-07-06T01:00</td>\n",
       "      <td>25.8</td>\n",
       "    </tr>\n",
       "    <tr>\n",
       "      <th>2</th>\n",
       "      <td>2025-07-06T02:00</td>\n",
       "      <td>25.1</td>\n",
       "    </tr>\n",
       "    <tr>\n",
       "      <th>3</th>\n",
       "      <td>2025-07-06T03:00</td>\n",
       "      <td>24.3</td>\n",
       "    </tr>\n",
       "    <tr>\n",
       "      <th>4</th>\n",
       "      <td>2025-07-06T04:00</td>\n",
       "      <td>24.1</td>\n",
       "    </tr>\n",
       "    <tr>\n",
       "      <th>5</th>\n",
       "      <td>2025-07-06T05:00</td>\n",
       "      <td>23.5</td>\n",
       "    </tr>\n",
       "    <tr>\n",
       "      <th>6</th>\n",
       "      <td>2025-07-06T06:00</td>\n",
       "      <td>22.6</td>\n",
       "    </tr>\n",
       "    <tr>\n",
       "      <th>7</th>\n",
       "      <td>2025-07-06T07:00</td>\n",
       "      <td>22.0</td>\n",
       "    </tr>\n",
       "    <tr>\n",
       "      <th>8</th>\n",
       "      <td>2025-07-06T08:00</td>\n",
       "      <td>21.5</td>\n",
       "    </tr>\n",
       "    <tr>\n",
       "      <th>9</th>\n",
       "      <td>2025-07-06T09:00</td>\n",
       "      <td>21.0</td>\n",
       "    </tr>\n",
       "  </tbody>\n",
       "</table>\n",
       "</div>"
      ],
      "text/plain": [
       "               time  temperature_2m\n",
       "0  2025-07-06T00:00            27.5\n",
       "1  2025-07-06T01:00            25.8\n",
       "2  2025-07-06T02:00            25.1\n",
       "3  2025-07-06T03:00            24.3\n",
       "4  2025-07-06T04:00            24.1\n",
       "5  2025-07-06T05:00            23.5\n",
       "6  2025-07-06T06:00            22.6\n",
       "7  2025-07-06T07:00            22.0\n",
       "8  2025-07-06T08:00            21.5\n",
       "9  2025-07-06T09:00            21.0"
      ]
     },
     "execution_count": 3,
     "metadata": {},
     "output_type": "execute_result"
    }
   ],
   "source": [
    "import pandas as pd\n",
    "\n",
    "# Create DataFrame\n",
    "df = pd.DataFrame({\n",
    "    \"time\": data[\"hourly\"][\"time\"][:10],\n",
    "    \"temperature_2m\": temps\n",
    "})\n",
    "\n",
    "df.to_csv(\"weather_sample.csv\", index=False)\n",
    "df"
   ]
  }
 ],
 "metadata": {
  "kernelspec": {
   "display_name": "base",
   "language": "python",
   "name": "python3"
  },
  "language_info": {
   "codemirror_mode": {
    "name": "ipython",
    "version": 3
   },
   "file_extension": ".py",
   "mimetype": "text/x-python",
   "name": "python",
   "nbconvert_exporter": "python",
   "pygments_lexer": "ipython3",
   "version": "3.9.12"
  }
 },
 "nbformat": 4,
 "nbformat_minor": 5
}
